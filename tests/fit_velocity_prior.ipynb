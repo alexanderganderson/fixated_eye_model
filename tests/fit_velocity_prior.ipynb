{
 "cells": [
  {
   "cell_type": "code",
   "execution_count": null,
   "metadata": {
    "collapsed": false
   },
   "outputs": [],
   "source": [
    "cd .."
   ]
  },
  {
   "cell_type": "code",
   "execution_count": null,
   "metadata": {
    "collapsed": true
   },
   "outputs": [],
   "source": [
    "import os\n",
    "import pandas as pd\n",
    "from src.analyzer import *\n",
    "%matplotlib inline\n",
    "plt.rcParams['image.interpolation'] = 'nearest'\n",
    "plt.rcParams['image.cmap'] = 'gray'\n",
    "\n",
    "def plot_comparison(df, t_, param_):\n",
    "    \"\"\"\n",
    "    Parameters\n",
    "    ----------\n",
    "    df : pd.DataFrame\n",
    "        DataFrame containing SNRs and parameters for each run\n",
    "    t_ : list of float\n",
    "        Time indices for SNRs\n",
    "    param_: list of str\n",
    "        \n",
    "    \"\"\"\n",
    "    grouped = pd.groupby(df, param_)\n",
    "    plt.title('SNR as a function of time')\n",
    "    c_ = ['g', 'b', 'r', 'y', 'm', 'c']\n",
    "    for c, (name, group) in zip(c_, grouped):\n",
    "        if len(param_) is 1:\n",
    "            name = [name]\n",
    "        label_ = ['{}: {}'.format(param, n) for param, n in zip(param_, name)]\n",
    "        label = ' '.join(label_)\n",
    "        plot_fill_between(t_, group[list(t_)], label=label, c=c, k=1)\n",
    "        plt.xlabel('time (ms)')\n",
    "    plt.legend(loc='upper left')"
   ]
  },
  {
   "cell_type": "code",
   "execution_count": null,
   "metadata": {
    "collapsed": false
   },
   "outputs": [],
   "source": [
    "output_dir = 'output/cv_pf_vdm'\n",
    "output_dir = 'output/fit_dm'\n",
    "pkl_fn_ = [os.path.join(output_dir, fn) for fn in os.listdir(output_dir) if fn.endswith('.pkl')]\n",
    "pkl_fn_.sort()\n",
    "len(pkl_fn_)"
   ]
  },
  {
   "cell_type": "code",
   "execution_count": null,
   "metadata": {
    "collapsed": false
   },
   "outputs": [],
   "source": [
    "data_ = []\n",
    "for pkl_fn in pkl_fn_:\n",
    "    da = DataAnalyzer.fromfilename(pkl_fn)    \n",
    "    data = {}\n",
    "    data['N_P'] = da.data['N_P']\n",
    "    data.update(da.data['motion_prior'])\n",
    "    data.update(\n",
    "        {t: snr for t, snr in zip(list(da.time_list()), da.snr_list())})\n",
    "    data_ += [data]"
   ]
  },
  {
   "cell_type": "code",
   "execution_count": null,
   "metadata": {
    "collapsed": false
   },
   "outputs": [],
   "source": [
    "df = pd.DataFrame(data_)"
   ]
  },
  {
   "cell_type": "code",
   "execution_count": null,
   "metadata": {
    "collapsed": false
   },
   "outputs": [],
   "source": [
    "df.head()"
   ]
  },
  {
   "cell_type": "code",
   "execution_count": null,
   "metadata": {
    "collapsed": false
   },
   "outputs": [],
   "source": [
    "plt.figure(figsize=(20, 20))\n",
    "plot_comparison(df, da.time_list(), ['N_P', 'dc'])\n",
    "# plot_comparison(df[df['dcv'] == 270.], da.time_list()[0:100], ['dcv'])"
   ]
  },
  {
   "cell_type": "code",
   "execution_count": null,
   "metadata": {
    "collapsed": false
   },
   "outputs": [],
   "source": [
    "da_ = [DataAnalyzer.fromfilename(pkl_fn) for pkl_fn in pkl_fn_]"
   ]
  },
  {
   "cell_type": "code",
   "execution_count": null,
   "metadata": {
    "collapsed": false
   },
   "outputs": [],
   "source": [
    "n = -2\n",
    "t = da.data['N_itr'] - 1\n",
    "\n",
    "print da_[n].data['motion_prior'], da_[n].data['N_P']\n",
    "da_[n].plot_em_estimate(t)"
   ]
  },
  {
   "cell_type": "code",
   "execution_count": null,
   "metadata": {
    "collapsed": false
   },
   "outputs": [],
   "source": [
    "plt.figure(figsize=(5, 8))\n",
    "plt.subplot(211)\n",
    "sig = da.data['EM_data'][99]['path_sdevs']\n",
    "plt.plot(np.sqrt((sig[:, 0:2] ** 2).sum(1)))\n",
    "plt.title('Path estimate standard deviation')\n",
    "plt.subplot(212)\n",
    "plt.plot(da.time_list(), da.snr_list())\n",
    "plt.title('SNR as a function of time')\n"
   ]
  },
  {
   "cell_type": "code",
   "execution_count": null,
   "metadata": {
    "collapsed": false
   },
   "outputs": [],
   "source": [
    "da_[n].plot_image_and_rfs()"
   ]
  },
  {
   "cell_type": "code",
   "execution_count": null,
   "metadata": {
    "collapsed": false
   },
   "outputs": [],
   "source": [
    "da_[n].plot_dynamic_vars(t)"
   ]
  },
  {
   "cell_type": "code",
   "execution_count": null,
   "metadata": {
    "collapsed": true
   },
   "outputs": [],
   "source": []
  }
 ],
 "metadata": {
  "kernelspec": {
   "display_name": "Python 2",
   "language": "python",
   "name": "python2"
  },
  "language_info": {
   "codemirror_mode": {
    "name": "ipython",
    "version": 2
   },
   "file_extension": ".py",
   "mimetype": "text/x-python",
   "name": "python",
   "nbconvert_exporter": "python",
   "pygments_lexer": "ipython2",
   "version": "2.7.11"
  }
 },
 "nbformat": 4,
 "nbformat_minor": 0
}
