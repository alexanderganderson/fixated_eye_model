{
 "cells": [
  {
   "cell_type": "code",
   "execution_count": null,
   "metadata": {
    "collapsed": false
   },
   "outputs": [],
   "source": [
    "cd .."
   ]
  },
  {
   "cell_type": "code",
   "execution_count": null,
   "metadata": {
    "collapsed": true
   },
   "outputs": [],
   "source": [
    "import os\n",
    "import pandas as pd\n",
    "from src.analyzer import *\n",
    "%matplotlib inline\n",
    "plt.rcParams['image.interpolation'] = 'nearest'\n",
    "plt.rcParams['image.cmap'] = 'gray'\n",
    "\n",
    "def plot_comparison(df, t_, param):\n",
    "    \"\"\"\n",
    "    Parameters\n",
    "    ----------\n",
    "    df : pd.DataFrame\n",
    "        DataFrame containing SNRs and parameters for each run\n",
    "    t_ : list of float\n",
    "        Time indices for \n",
    "    \"\"\"\n",
    "    grouped = pd.groupby(df, [param])\n",
    "    plt.title('SNR as a function of time')\n",
    "    c_ = ['g', 'b', 'r', 'y', 'm', 'c']\n",
    "    for c, (name, group) in zip(c_, grouped):\n",
    "        label = '{}: {}'.format(param, name)\n",
    "        plot_fill_between(t_, group[list(t_)], label=label, c=c, k=1)\n",
    "        plt.xlabel('time (ms)')\n",
    "    plt.legend(loc='upper left')"
   ]
  },
  {
   "cell_type": "code",
   "execution_count": null,
   "metadata": {
    "collapsed": false
   },
   "outputs": [],
   "source": [
    "output_dir = 'output/fit_vdm'\n",
    "pkl_fn_ = [os.path.join(output_dir, fn) for fn in os.listdir(output_dir) if fn.endswith('.pkl')]\n",
    "pkl_fn_.sort()\n",
    "len(pkl_fn_)"
   ]
  },
  {
   "cell_type": "code",
   "execution_count": null,
   "metadata": {
    "collapsed": false
   },
   "outputs": [],
   "source": [
    "data_ = []\n",
    "for pkl_fn in pkl_fn_:\n",
    "    da = DataAnalyzer.fromfilename(pkl_fn)    \n",
    "    data = {}\n",
    "    data.update(da.data['motion_prior'])\n",
    "    data.update(\n",
    "        {t: snr for t, snr in zip(list(da.time_list()), da.snr_list())})\n",
    "    data_ += [data]"
   ]
  },
  {
   "cell_type": "code",
   "execution_count": null,
   "metadata": {
    "collapsed": false
   },
   "outputs": [],
   "source": [
    "df = pd.DataFrame(data_)"
   ]
  },
  {
   "cell_type": "code",
   "execution_count": null,
   "metadata": {
    "collapsed": false
   },
   "outputs": [],
   "source": [
    "plot_comparison(df, da.time_list(), 'v0')"
   ]
  },
  {
   "cell_type": "code",
   "execution_count": null,
   "metadata": {
    "collapsed": true
   },
   "outputs": [],
   "source": []
  }
 ],
 "metadata": {
  "kernelspec": {
   "display_name": "Python 2",
   "language": "python",
   "name": "python2"
  },
  "language_info": {
   "codemirror_mode": {
    "name": "ipython",
    "version": 2
   },
   "file_extension": ".py",
   "mimetype": "text/x-python",
   "name": "python",
   "nbconvert_exporter": "python",
   "pygments_lexer": "ipython2",
   "version": "2.7.11"
  }
 },
 "nbformat": 4,
 "nbformat_minor": 0
}
