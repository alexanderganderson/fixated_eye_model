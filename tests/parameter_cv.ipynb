{
 "cells": [
  {
   "cell_type": "code",
   "execution_count": null,
   "metadata": {
    "collapsed": false
   },
   "outputs": [],
   "source": [
    "cd .."
   ]
  },
  {
   "cell_type": "code",
   "execution_count": null,
   "metadata": {
    "collapsed": true
   },
   "outputs": [],
   "source": [
    "import os\n",
    "import pandas as pd\n",
    "from src.analyzer import *\n",
    "%matplotlib inline\n",
    "plt.rcParams['image.interpolation'] = 'nearest'\n",
    "plt.rcParams['image.cmap'] = 'gray'\n",
    "\n",
    "\n",
    "def build_data_frame(pkl_fn_, param_):\n",
    "    out_ = []\n",
    "    for pkl_fn in pkl_fn_:\n",
    "        da = DataAnalyzer.fromfilename(pkl_fn)\n",
    "        out = [da.data[key] for key in param_]\n",
    "        out = out + da.snr_list()\n",
    "        out_.append(out)\n",
    "\n",
    "    t_ = da.time_list()\n",
    "\n",
    "    data = pd.DataFrame.from_records(\n",
    "        out_, columns=param_ + list(t_))\n",
    "    return data, t_\n",
    "\n",
    "def plot_comparison(data, t_, param):\n",
    "    grouped = pd.groupby(data, [param])\n",
    "    plt.title('SNR as a function of time')\n",
    "    c_ = ['g', 'b', 'r', 'y', 'm', 'c']\n",
    "    for c, (name, group) in zip(c_, grouped):\n",
    "        label = '{}: {}'.format(param, name)\n",
    "        plot_fill_between(t_, group[list(t_)], label=label, c=c, k=1)\n",
    "        plt.xlabel('time (ms)')\n",
    "    plt.legend(loc='upper left')"
   ]
  },
  {
   "cell_type": "code",
   "execution_count": null,
   "metadata": {
    "collapsed": true
   },
   "outputs": [],
   "source": [
    "param_ = ['GAMMA', 'lamb', 'N_g_itr', 'tau', 'N_P', 'N_itr']\n",
    "folder_ = ['gamma', 'lamb', 'n_g_itr', 'tau', 'n_p', 'n_itr']\n"
   ]
  },
  {
   "cell_type": "code",
   "execution_count": null,
   "metadata": {
    "collapsed": false
   },
   "outputs": [],
   "source": [
    "plt.figure(figsize=(12, 7))\n",
    "for i, (param, folder) in enumerate(zip(param_, folder_)):\n",
    "    output_dir = os.path.join('output/parameter_cv', folder)\n",
    "    pkl_fn_ = [os.path.join(output_dir, fn) for fn in os.listdir(output_dir) if fn.endswith('.pkl')]\n",
    "    data, t_ = build_data_frame(pkl_fn_, param_)\n",
    "    plt.subplot(2, 3, i + 1)\n",
    "    plot_comparison(data, t_, param)"
   ]
  },
  {
   "cell_type": "code",
   "execution_count": null,
   "metadata": {
    "collapsed": true
   },
   "outputs": [],
   "source": [
    "param = 'N_itr'\n",
    "folder = 'n_itr'"
   ]
  },
  {
   "cell_type": "code",
   "execution_count": null,
   "metadata": {
    "collapsed": false
   },
   "outputs": [],
   "source": [
    "output_dir = os.path.join('output/parameter_cv', folder)\n",
    "pkl_fn_ = [os.path.join(output_dir, fn) for fn in os.listdir(output_dir) if fn.endswith('.pkl')]\n",
    "\n",
    "\n",
    "df_ = []\n",
    "for pkl_fn in pkl_fn_:\n",
    "    da = DataAnalyzer.fromfilename(pkl_fn)\n",
    "    data = [da.data[key] for key in param_] + da.snr_list()\n",
    "    df_.append(pd.DataFrame([data], columns=param_ + list(da.time_list())))\n",
    "\n",
    "df = pd.concat(df_)"
   ]
  },
  {
   "cell_type": "code",
   "execution_count": null,
   "metadata": {
    "collapsed": false
   },
   "outputs": [],
   "source": [
    "plot_comparison(\n",
    "    df.T.dropna().T,\n",
    "    np.array(df.T.dropna().T.columns[0:-6], dtype='float'),\n",
    "    param)"
   ]
  },
  {
   "cell_type": "code",
   "execution_count": null,
   "metadata": {
    "collapsed": true
   },
   "outputs": [],
   "source": []
  }
 ],
 "metadata": {
  "kernelspec": {
   "display_name": "Python 2",
   "language": "python",
   "name": "python2"
  },
  "language_info": {
   "codemirror_mode": {
    "name": "ipython",
    "version": 2
   },
   "file_extension": ".py",
   "mimetype": "text/x-python",
   "name": "python",
   "nbconvert_exporter": "python",
   "pygments_lexer": "ipython2",
   "version": "2.7.11"
  }
 },
 "nbformat": 4,
 "nbformat_minor": 0
}
