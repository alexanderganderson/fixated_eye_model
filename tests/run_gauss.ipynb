{
 "cells": [
  {
   "cell_type": "code",
   "execution_count": null,
   "metadata": {
    "collapsed": false
   },
   "outputs": [],
   "source": [
    "cd .."
   ]
  },
  {
   "cell_type": "code",
   "execution_count": null,
   "metadata": {
    "collapsed": false
   },
   "outputs": [],
   "source": [
    "import numpy as np\n",
    "import matplotlib.pyplot as plt\n",
    "%matplotlib inline\n",
    "plt.rcParams['image.cmap'] = 'gray'\n",
    "plt.rcParams['image.interpolation'] = 'nearest'\n",
    "\n",
    "from src.gauss import EMGauss\n",
    "from utils.image_gen import ImageGenerator\n",
    "from sparse_coder.prep_field_dataset import get_data_matrix"
   ]
  },
  {
   "cell_type": "code",
   "execution_count": null,
   "metadata": {
    "collapsed": false
   },
   "outputs": [],
   "source": [
    "plt.rcParams.update({'font.size': 7})"
   ]
  },
  {
   "cell_type": "code",
   "execution_count": null,
   "metadata": {
    "collapsed": true
   },
   "outputs": [],
   "source": [
    "FONTSIZE=7"
   ]
  },
  {
   "cell_type": "code",
   "execution_count": null,
   "metadata": {
    "collapsed": false
   },
   "outputs": [],
   "source": [
    "from src.gauss_plots import plot_image, plot_rfs, compare_fourier, plot_path_estimate, get_snr_list"
   ]
  },
  {
   "cell_type": "code",
   "execution_count": null,
   "metadata": {
    "collapsed": true
   },
   "outputs": [],
   "source": [
    "l_i = 20\n",
    "ds = 0.3\n",
    "de = 1.09\n",
    "rf_ratio = 0.203\n",
    "# rf_ratio = 0.4\n",
    "n_t = 100\n",
    "l_n = (l_i * ds / np.sqrt(2))"
   ]
  },
  {
   "cell_type": "code",
   "execution_count": null,
   "metadata": {
    "collapsed": false
   },
   "outputs": [],
   "source": [
    "mat = get_data_matrix(path='sparse_coder/data/final/IMAGES.npy', l_patch=l_i, n_patches=10)\n",
    "s_gen = mat[3].astype('float32')"
   ]
  },
  {
   "cell_type": "code",
   "execution_count": null,
   "metadata": {
    "collapsed": false
   },
   "outputs": [],
   "source": [
    "s_gen.shape"
   ]
  },
  {
   "cell_type": "code",
   "execution_count": null,
   "metadata": {
    "collapsed": false
   },
   "outputs": [],
   "source": [
    "emg = EMGauss(\n",
    "    l_i=l_i, \n",
    "    motion_gen={'mode': 'Diffusion', 'dc': 4.},\n",
    "    motion_prior={'dc': 10.},\n",
    "    n_t=n_t,\n",
    "    ds=ds,\n",
    "    de=de,\n",
    "    n_p=50,\n",
    "    print_mode=True,\n",
    "    l_n=l_n,\n",
    "    rf_ratio=rf_ratio,\n",
    "    sig_obs=0.1\n",
    ")"
   ]
  },
  {
   "cell_type": "code",
   "execution_count": null,
   "metadata": {
    "collapsed": true
   },
   "outputs": [],
   "source": [
    "n_repeats = 10"
   ]
  },
  {
   "cell_type": "code",
   "execution_count": null,
   "metadata": {
    "collapsed": false
   },
   "outputs": [],
   "source": [
    "%%time\n",
    "data_ = []\n",
    "for _ in range(n_repeats):\n",
    "    m, xr, yr = emg.gen_data(s_gen)\n",
    "    s, s_est_ = emg.run_em(m, n_passes=1, n_itr=n_t, reg=1.)\n",
    "    \n",
    "    emg.pf.calculate_means_sdevs()\n",
    "\n",
    "    means = emg.pf.means.copy()\n",
    "    sdevs = emg.pf.sdevs.copy()\n",
    "\n",
    "    \n",
    "    data_.append(\n",
    "        {\n",
    "            'm': m,\n",
    "            'xr': xr,\n",
    "            'yr': yr,\n",
    "            's': s,\n",
    "            's_est_': s_est_,\n",
    "            'means': means,\n",
    "            'sdevs': sdevs\n",
    "        })"
   ]
  },
  {
   "cell_type": "code",
   "execution_count": null,
   "metadata": {
    "collapsed": false
   },
   "outputs": [],
   "source": [
    "with emg.tb.sess.as_default():\n",
    "    xe, ye = emg.tb.sess.run([emg.tb.t_xe, emg.tb.t_ye])\n",
    "    xs, ys = emg.tb.sess.run([emg.tb.t_xs, emg.tb.t_ys])\n"
   ]
  },
  {
   "cell_type": "code",
   "execution_count": null,
   "metadata": {
    "collapsed": false
   },
   "outputs": [],
   "source": [
    "for d in data_:\n",
    "    d['snr_list'] = get_snr_list(s_gen, d['s_est_'], (d['xr'], d['yr']), d['means'], xs, ys, ds)"
   ]
  },
  {
   "cell_type": "code",
   "execution_count": null,
   "metadata": {
    "collapsed": true
   },
   "outputs": [],
   "source": [
    "from src.gauss_plots import smooth_image\n",
    "\n",
    "def plot_image(fig, ax, s, ds, colorbar=False, alpha=1.,\n",
    "                    cmap=plt.cm.gray, title='', vmin=None, vmax=None):\n",
    "    \"\"\"\n",
    "    Plot the image.\n",
    "\n",
    "    Parameters\n",
    "    ----------\n",
    "    fig : plt.Figure\n",
    "        Figure\n",
    "    ax : plt.Axes\n",
    "        Axes to plot image\n",
    "    s : array, shape (l_i, l_i)\n",
    "        Unraveled image to be plotted.\n",
    "    ds : float\n",
    "        Spacing between pixels.\n",
    "    colorbar : bool\n",
    "        If true, show a colorbar.\n",
    "    alpha : float\n",
    "        Alpha for showing image.\n",
    "    cmap : plt.cm\n",
    "        Colormap.\n",
    "    title : str\n",
    "        String for the title.\n",
    "    vmin, vmax : float\n",
    "        Min and max for imshow.\n",
    "    \"\"\"\n",
    "    s1 = smooth_image(s)\n",
    "    l_i = s.shape[0]\n",
    "    if vmin is None:\n",
    "        vmin = s.min()\n",
    "    if vmax is None:\n",
    "        vmax = s.max()\n",
    "    a = ds * l_i / 2\n",
    "    im = ax.imshow(\n",
    "        s1, cmap=cmap, interpolation='gaussian',\n",
    "        extent=[-a, a, -a, a], alpha=alpha,\n",
    "        vmin=vmin, vmax=vmax)\n",
    "    ax.set_title(title, fontsize=FONTSIZE)\n",
    "    if colorbar:\n",
    "        fig.colorbar(im, ax=ax)\n",
    "\n",
    "\n",
    "\n",
    "def plot_fourier_spectrum(fig, ax, s, ds, de):\n",
    "    \"\"\"\n",
    "    Plot the fourier spectrum.\n",
    "\n",
    "    Parameters\n",
    "    ----------\n",
    "    fig : plt.Figure\n",
    "        Figure for plotting\n",
    "    ax : plt.axes\n",
    "        Plotting axes.\n",
    "    s : array, shape (l_i, l_i)\n",
    "        Image to get the fourier transform of.\n",
    "    ds : float\n",
    "        Spacing of the pixels.\n",
    "    de : float\n",
    "        Spacing of Receptive fields.\n",
    "    \"\"\"\n",
    "    s1 = smooth_image(s)\n",
    "    l_i = s.shape[0]\n",
    "    ax.set_title('Fourier Transform', fontsize=FONTSIZE)\n",
    "    freqs = np.fft.fftshift(np.fft.fftfreq(l_i)) / ds\n",
    "    df = (freqs[1] - freqs[0])\n",
    "    fmin = freqs[0] - df / 2\n",
    "    fmax = freqs[-1] + df / 2\n",
    "    im = ax.imshow(np.abs(np.fft.fftshift(np.fft.fft2(s1))),\n",
    "               extent=[fmin, fmax, fmin, fmax],\n",
    "               cmap=plt.get_cmap('afmhot'))\n",
    "    fn = 0.5 * de\n",
    "    ax.add_patch(plt.Circle((0, 0), fn, color='gray', alpha=0.5))\n",
    "    ax.add_patch(plt.Circle((0, 0), fn / (np.sqrt(3.) / 2.), color='gray', alpha=0.25))\n",
    "    fig.colorbar(im, ax=ax)\n",
    "\n",
    "\n",
    "\n",
    "def compare_fourier(s_gen, s_inf, snr_list, l_i, ds, de, \n",
    "             xe, ye, rf_ratio):\n",
    "    \"\"\" \n",
    "    Plot the two fourier spectrums.\n",
    "\n",
    "    Parameters\n",
    "    ----------\n",
    "    s_gen : array, shape (l_i, l_i)\n",
    "      Image that generated the observations.\n",
    "    s_inf : array, shape (l_i, l_i)\n",
    "      Inferred image.\n",
    "    ds : float\n",
    "      Spacing between pixels.\n",
    "    de : float\n",
    "      Spacing between receptors.\n",
    "    xe, ye : array, shape (n_sensors,)\n",
    "      X, Y positions of sensors.\n",
    "    \"\"\"\n",
    "    n_row, n_col = 2, 3\n",
    "    fig, axes = plt.subplots(nrows=n_row, ncols=n_col, \n",
    "                        figsize=(n_col * 7/3., n_row * 2))\n",
    "    vmin, vmax = s_gen.min(), s_gen.max()\n",
    "\n",
    "    for i, (s, name) in enumerate(zip([s_gen, s_inf], ['Original', 'Estimate'])):\n",
    "        ax = axes[i][0]\n",
    "        plot_image(fig, ax, s, ds=ds, title='Image: {}'.format(name),\n",
    "                 vmin=vmin, vmax=vmax)\n",
    "\n",
    "        ax = axes[i][1]\n",
    "        plot_fourier_spectrum(fig, ax, s, ds, de) \n",
    "\n",
    "    ax = axes[0][2]\n",
    "    plot_rfs(ax, xe, ye, de, rf_ratio, alpha=0.5)\n",
    "    plot_image(\n",
    "      fig, ax, s_gen, ds=ds,\n",
    "      title='Image: {}'.format('Image with RFs')\n",
    "    )\n",
    "\n",
    "    ax = axes[1][2]\n",
    "#     ax.plot(snr_list)\n",
    "    ax.set_title('SNR as a function of time', fontsize=FONTSIZE)\n",
    "    return fig, axes"
   ]
  },
  {
   "cell_type": "code",
   "execution_count": null,
   "metadata": {
    "collapsed": true
   },
   "outputs": [],
   "source": [
    "from src.analyzer import plot_fill_between"
   ]
  },
  {
   "cell_type": "code",
   "execution_count": null,
   "metadata": {
    "collapsed": false
   },
   "outputs": [],
   "source": [
    "snrs = np.array([d['snr_list'] for d in data_])"
   ]
  },
  {
   "cell_type": "code",
   "execution_count": null,
   "metadata": {
    "collapsed": false
   },
   "outputs": [],
   "source": [
    "plt.plot(snrs.T);"
   ]
  },
  {
   "cell_type": "code",
   "execution_count": null,
   "metadata": {
    "collapsed": false
   },
   "outputs": [],
   "source": [
    "ax = plt.axes()\n",
    "plot_fill_between(ax, np.arange(snrs.shape[1]), snrs)"
   ]
  },
  {
   "cell_type": "code",
   "execution_count": null,
   "metadata": {
    "collapsed": false
   },
   "outputs": [],
   "source": [
    "data_[0].keys()"
   ]
  },
  {
   "cell_type": "code",
   "execution_count": null,
   "metadata": {
    "collapsed": false
   },
   "outputs": [],
   "source": [
    "fig, axes = compare_fourier(\n",
    "    s_gen.reshape(l_i, l_i), \n",
    "    data_[0]['s_est_'][-1].reshape(l_i, l_i), \n",
    "    data_[0]['snr_list'], \n",
    "    l_i, ds, de, xe, ye, rf_ratio)\n",
    "ax = axes[1][2]\n",
    "plot_fill_between(ax, np.arange(snrs.shape[1]), snrs)\n",
    "plt.savefig('gauss_super_res.pdf')"
   ]
  },
  {
   "cell_type": "code",
   "execution_count": null,
   "metadata": {
    "collapsed": false
   },
   "outputs": [],
   "source": [
    "plt.figure(figsize=(10, 4))\n",
    "for d in range(2):\n",
    "    plt.subplot(1, 2, d + 1)\n",
    "    plot_path_estimate(data_[0]['means'], data_[0]['sdevs'], (xr, yr), d=d, q=100)"
   ]
  },
  {
   "cell_type": "code",
   "execution_count": null,
   "metadata": {
    "collapsed": true
   },
   "outputs": [],
   "source": []
  },
  {
   "cell_type": "code",
   "execution_count": null,
   "metadata": {
    "collapsed": false
   },
   "outputs": [],
   "source": [
    "plt.imshow(s_gen.reshape(l_i, l_i))\n",
    "plt.colorbar()"
   ]
  },
  {
   "cell_type": "code",
   "execution_count": null,
   "metadata": {
    "collapsed": true
   },
   "outputs": [],
   "source": []
  },
  {
   "cell_type": "code",
   "execution_count": null,
   "metadata": {
    "collapsed": true
   },
   "outputs": [],
   "source": []
  }
 ],
 "metadata": {
  "kernelspec": {
   "display_name": "Python 2",
   "language": "python",
   "name": "python2"
  },
  "language_info": {
   "codemirror_mode": {
    "name": "ipython",
    "version": 2
   },
   "file_extension": ".py",
   "mimetype": "text/x-python",
   "name": "python",
   "nbconvert_exporter": "python",
   "pygments_lexer": "ipython2",
   "version": "2.7.12"
  }
 },
 "nbformat": 4,
 "nbformat_minor": 0
}
