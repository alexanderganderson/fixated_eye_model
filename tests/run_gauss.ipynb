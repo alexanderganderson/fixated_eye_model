{
 "cells": [
  {
   "cell_type": "code",
   "execution_count": null,
   "metadata": {
    "collapsed": false
   },
   "outputs": [],
   "source": [
    "cd .."
   ]
  },
  {
   "cell_type": "code",
   "execution_count": null,
   "metadata": {
    "collapsed": false
   },
   "outputs": [],
   "source": [
    "import numpy as np\n",
    "import matplotlib.pyplot as plt\n",
    "%matplotlib inline\n",
    "plt.rcParams['image.cmap'] = 'gray'\n",
    "plt.rcParams['image.interpolation'] = 'nearest'\n",
    "\n",
    "from src.gauss import EMGauss\n",
    "from utils.image_gen import ImageGenerator\n",
    "from sparse_coder.prep_field_dataset import get_data_matrix"
   ]
  },
  {
   "cell_type": "code",
   "execution_count": null,
   "metadata": {
    "collapsed": true
   },
   "outputs": [],
   "source": [
    "l_i = 20\n",
    "ds = 0.3\n",
    "de = 1.09\n",
    "rf_ratio = 0.203\n",
    "n_t = 150"
   ]
  },
  {
   "cell_type": "code",
   "execution_count": null,
   "metadata": {
    "collapsed": false
   },
   "outputs": [],
   "source": [
    "l_n = (l_i * ds / np.sqrt(2))"
   ]
  },
  {
   "cell_type": "code",
   "execution_count": null,
   "metadata": {
    "collapsed": false
   },
   "outputs": [],
   "source": [
    "mat = get_data_matrix(path='sparse_coder/data/final/IMAGES.npy', l_patch=l_i, n_patches=10)"
   ]
  },
  {
   "cell_type": "code",
   "execution_count": null,
   "metadata": {
    "collapsed": false
   },
   "outputs": [],
   "source": [
    "emg = EMGauss(\n",
    "    l_i=l_i, \n",
    "    motion_gen={'mode': 'Diffusion', 'dc': 4.},\n",
    "    motion_prior={'dc': 10.},\n",
    "    n_t=n_t,\n",
    "    ds=ds,\n",
    "    de=de,\n",
    "    n_p=50,\n",
    "    print_mode=True,\n",
    "    l_n=l_n,\n",
    "    rf_ratio=rf_ratio,\n",
    "    sig_obs=0.1\n",
    ")"
   ]
  },
  {
   "cell_type": "code",
   "execution_count": null,
   "metadata": {
    "collapsed": false
   },
   "outputs": [],
   "source": [
    "s_gen = mat[3].astype('float32')\n",
    "s_gen = np.clip(s_gen, -1, 1)\n",
    "plt.imshow(s_gen.reshape(l_i, l_i))\n",
    "plt.colorbar()"
   ]
  },
  {
   "cell_type": "code",
   "execution_count": null,
   "metadata": {
    "collapsed": false
   },
   "outputs": [],
   "source": [
    "m, xr, yr = emg.gen_data(s_gen)"
   ]
  },
  {
   "cell_type": "code",
   "execution_count": null,
   "metadata": {
    "collapsed": false
   },
   "outputs": [],
   "source": [
    "plt.hist(m.ravel(), bins=50);\n",
    "plt.yscale('log')"
   ]
  },
  {
   "cell_type": "code",
   "execution_count": null,
   "metadata": {
    "collapsed": false
   },
   "outputs": [],
   "source": [
    "plt.plot(xr)\n",
    "plt.plot(yr)"
   ]
  },
  {
   "cell_type": "code",
   "execution_count": null,
   "metadata": {
    "collapsed": false
   },
   "outputs": [],
   "source": [
    "s, data = emg.run_em(m, n_passes=1, n_itr=n_t, reg=1.)"
   ]
  },
  {
   "cell_type": "code",
   "execution_count": null,
   "metadata": {
    "collapsed": false
   },
   "outputs": [],
   "source": [
    "emg.pf.calculate_means_sdevs()"
   ]
  },
  {
   "cell_type": "code",
   "execution_count": null,
   "metadata": {
    "collapsed": true
   },
   "outputs": [],
   "source": [
    "means = emg.pf.means\n",
    "sdevs = emg.pf.sdevs"
   ]
  },
  {
   "cell_type": "code",
   "execution_count": null,
   "metadata": {
    "collapsed": true
   },
   "outputs": [],
   "source": [
    "def plot_path_estimate(est_mean, est_sdev, xyr, d, q, dt=0.001): \n",
    "    \"\"\" \n",
    "    Plot the actual and estimated path generated.\n",
    "\n",
    "    Parameters\n",
    "    ----------\n",
    "    q : int\n",
    "        EM iteration number\n",
    "    d : int\n",
    "        Dimension to plot (either 0 or 1)\n",
    "    \"\"\"\n",
    "    n_t = est_mean.shape[0]\n",
    "    path = xyr[d]\n",
    "    if (d == 0): \n",
    "        label = 'Hor.'\n",
    "#         dxy = self.dx\n",
    "    elif (d == 1): \n",
    "        label = 'Ver.'\n",
    "#         dxy = self.dy\n",
    "    else:\n",
    "        raise ValueError('d must be either 0 or 1')\n",
    "\n",
    "    tt = dt * np.arange(n_t)\n",
    "    plt.fill_between(tt,\n",
    "                     est_mean[:, d] - est_sdev[:, d], \n",
    "                     est_mean[:, d] + est_sdev[:, d], \n",
    "                     alpha=0.5, linewidth=1.)\n",
    "    plt.plot(tt,\n",
    "             est_mean[:, d], label='estimate')\n",
    "    plt.plot(tt,\n",
    "             path, label='actual')\n",
    "    plt.xlabel('Time (s)')\n",
    "    plt.ylabel('Relative position (arcmin)')\n",
    "#     plt.title(label + ' Pos., shift = %.2f' % dxy)"
   ]
  },
  {
   "cell_type": "code",
   "execution_count": null,
   "metadata": {
    "collapsed": false
   },
   "outputs": [],
   "source": [
    "plt.figure(figsize=(10, 4))\n",
    "for d in range(2):\n",
    "    plt.subplot(1, 2, d + 1)\n",
    "    plot_path_estimate(means, sdevs, (xr, yr), d=d, q=100)"
   ]
  },
  {
   "cell_type": "code",
   "execution_count": null,
   "metadata": {
    "collapsed": false
   },
   "outputs": [],
   "source": [
    "with emg.tb.sess.as_default():\n",
    "    xe, ye = emg.tb.sess.run([emg.tb.t_xe, emg.tb.t_ye])\n",
    "    xs, ys = emg.tb.sess.run([emg.tb.t_xs, emg.tb.t_ys])"
   ]
  },
  {
   "cell_type": "code",
   "execution_count": null,
   "metadata": {
    "collapsed": true
   },
   "outputs": [],
   "source": [
    "from src.analyzer import snr"
   ]
  },
  {
   "cell_type": "code",
   "execution_count": null,
   "metadata": {
    "collapsed": false
   },
   "outputs": [],
   "source": [
    "q = len(data) - 1"
   ]
  },
  {
   "cell_type": "code",
   "execution_count": null,
   "metadata": {
    "collapsed": true
   },
   "outputs": [],
   "source": [
    "def snr_one_iteration(s_gen, s_est, xyr, xyr_est, xs, ys, t, var):\n",
    "    \"\"\"\n",
    "    Calculate the SNR of the estimated image and the true image.\n",
    "\n",
    "    Parameters\n",
    "    ----------\n",
    "    q : int\n",
    "        Iteration of the EM to pull estimated image.\n",
    "\n",
    "    Note that we shift the image estimate by the average\n",
    "        amount that the path estimate was off the true path\n",
    "        (There is a degeneracy in the representation that this\n",
    "        fixes. )\n",
    "    \"\"\"\n",
    "\n",
    "    try:\n",
    "        xr_est = xyr_est[:, 0]\n",
    "        yr_est = xyr_est[:, 1]\n",
    "\n",
    "        dx = np.mean(xr[0:t] - xr_est[0:t])\n",
    "        dy = np.mean(yr[0:t] - yr_est[0:t])\n",
    "    except KeyError:\n",
    "        dx = 0.\n",
    "        dy = 0.\n",
    "#     self.dx = dx\n",
    "#     self.dy = dy\n",
    "#     if img is None:\n",
    "#         img = self.S_gen\n",
    "    i1 = s_gen.ravel()\n",
    "    i2 = s_est.ravel()\n",
    "    i1 = i1 / i1.max()\n",
    "    i2 = i2 / i2.max()\n",
    "    return snr(i1, xs, ys,\n",
    "               i2, xs + dx, ys + dy, \n",
    "               var)"
   ]
  },
  {
   "cell_type": "code",
   "execution_count": null,
   "metadata": {
    "collapsed": false
   },
   "outputs": [],
   "source": [
    "snr_list = [snr_one_iteration(\n",
    "        s_gen, data[q], (xr, yr), means, xs, ys, q, \n",
    "        var=(0.5 * ds) ** 2) for q in range(n_t)]"
   ]
  },
  {
   "cell_type": "code",
   "execution_count": null,
   "metadata": {
    "collapsed": false
   },
   "outputs": [],
   "source": [
    "plt.plot(snr_list)"
   ]
  },
  {
   "cell_type": "code",
   "execution_count": null,
   "metadata": {
    "collapsed": true
   },
   "outputs": [],
   "source": [
    "from src.gauss_plots import plot_image, plot_rfs, compare_fourier"
   ]
  },
  {
   "cell_type": "code",
   "execution_count": null,
   "metadata": {
    "collapsed": false
   },
   "outputs": [],
   "source": [
    "compare_fourier(s_gen.reshape(l_i, l_i), data[-1].reshape(l_i, l_i), l_i, ds, de, xe, ye)\n",
    "plt.title('SNR as a function of time')\n",
    "plt.plot(snr_list);"
   ]
  },
  {
   "cell_type": "code",
   "execution_count": null,
   "metadata": {
    "collapsed": true
   },
   "outputs": [],
   "source": []
  },
  {
   "cell_type": "code",
   "execution_count": null,
   "metadata": {
    "collapsed": false
   },
   "outputs": [],
   "source": [
    "plt.hist(s_gen - data[-1])\n",
    "plt.imshow((s_gen - data[-1]).reshape(l_i, l_i))\n",
    "plt.colorbar()"
   ]
  },
  {
   "cell_type": "code",
   "execution_count": null,
   "metadata": {
    "collapsed": true
   },
   "outputs": [],
   "source": []
  }
 ],
 "metadata": {
  "kernelspec": {
   "display_name": "Python 2",
   "language": "python",
   "name": "python2"
  },
  "language_info": {
   "codemirror_mode": {
    "name": "ipython",
    "version": 2
   },
   "file_extension": ".py",
   "mimetype": "text/x-python",
   "name": "python",
   "nbconvert_exporter": "python",
   "pygments_lexer": "ipython2",
   "version": "2.7.12"
  }
 },
 "nbformat": 4,
 "nbformat_minor": 0
}
