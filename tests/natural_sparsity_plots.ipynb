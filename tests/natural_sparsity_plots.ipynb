{
 "cells": [
  {
   "cell_type": "code",
   "execution_count": null,
   "metadata": {
    "collapsed": false
   },
   "outputs": [],
   "source": [
    "import os\n",
    "\n",
    "import numpy as np\n",
    "from scipy.stats import ks_2samp\n",
    "import matplotlib\n",
    "import matplotlib.pyplot as plt\n",
    "%matplotlib inline\n",
    "\n",
    "import seaborn as sns\n",
    "\n",
    "plt.rcParams['image.interpolation'] = 'nearest'\n",
    "plt.rcParams['image.cmap'] = 'gray'\n",
    "plt.rcParams['font.size'] = 7\n",
    "plt.rcParams['font.sans-serif'] = [u'Arial']\n",
    "\n",
    "LINEWIDTH = 0.25\n",
    "\n",
    "plt.rcParams['lines.linewidth'] = LINEWIDTH\n",
    "plt.rcParams['axes.linewidth'] = LINEWIDTH\n",
    "plt.rcParams['xtick.major.width'] = LINEWIDTH\n",
    "plt.rcParams['ytick.major.width'] = LINEWIDTH\n",
    "\n",
    "plt.rcParams['legend.fancybox'] = False\n",
    "plt.rcParams['legend.frameon'] = False\n",
    "\n",
    "from matplotlib.ticker import MaxNLocator\n",
    "\n",
    "import brewer2mpl\n",
    "bmap = brewer2mpl.get_map('Set1', 'qualitative', 6)\n",
    "colors = bmap.mpl_colors\n",
    "matplotlib.rcParams['axes.color_cycle'] = colors\n",
    "\n",
    "import pandas as pd\n",
    "\n",
    "\n",
    "from context import src, utils\n",
    "from src.analyzer import DataAnalyzer, plot_fill_between\n",
    "from utils.rf_plot import show_fields\n",
    "from utils.plot_utils import label_subplot, expand_legend_linewidths\n",
    "\n",
    "INDEP = 'Indep'\n",
    "SPAR = 'Sparse'\n",
    "PCA = 'PCA'\n",
    "\n",
    "dict_label_ = {\n",
    "    INDEP: 'IND', \n",
    "    SPAR: 'SP', \n",
    "    PCA : 'PCA'\n",
    "}\n",
    "\n",
    "def get_label(D_name, lamb, quad_reg):\n",
    "    \"\"\"Get labels for different priors.\"\"\"\n",
    "    if D_name == PCA:\n",
    "        s = 'PCA'\n",
    "    elif D_name == INDEP:\n",
    "        s = 'IND'\n",
    "    elif D_name == SPAR:\n",
    "        s = 'SP '\n",
    "        if lamb == 0 and quad_reg == 0:\n",
    "            s += 'Z'\n",
    "        elif lamb ==0 and quad_reg > 0:\n",
    "            s += 'L2'\n",
    "        elif lamb > 0 and quad_reg == 0:\n",
    "            s += 'L1'\n",
    "        elif lamb > 0 and quad_reg > 0:\n",
    "            s += 'L12'\n",
    "    return s"
   ]
  },
  {
   "cell_type": "code",
   "execution_count": null,
   "metadata": {
    "collapsed": false
   },
   "outputs": [],
   "source": [
    "data_fns = []\n",
    "for output_dir in ['../output/natural_sparsity_van_hateren_sp_quad_reg']:\n",
    "    data_fns.extend(\n",
    "        [os.path.join(output_dir, fn) \n",
    "               for fn in os.listdir(output_dir) \n",
    "               if fn.endswith('.h5')]\n",
    "        )\n",
    "data_fns.sort()\n",
    "len(data_fns)"
   ]
  },
  {
   "cell_type": "code",
   "execution_count": null,
   "metadata": {
    "collapsed": false
   },
   "outputs": [],
   "source": [
    "da_ = map(DataAnalyzer.fromfilename, data_fns)"
   ]
  },
  {
   "cell_type": "code",
   "execution_count": null,
   "metadata": {
    "collapsed": false,
    "scrolled": true
   },
   "outputs": [],
   "source": [
    "records = []\n",
    "for da in da_:\n",
    "    record = {}\n",
    "    record['D_name'] = da.data['D_name']\n",
    "    record['ds'] = da.data['ds']\n",
    "    record['lamb'] = da.data['lamb']\n",
    "    record['dc'] = da.data['motion_gen']['dc']\n",
    "    record['qr'] = da.data['quad_reg'].mean()\n",
    "    for t, snr_t in zip(da.time_list(), da.snr_list()):\n",
    "        record[t] = snr_t\n",
    "    record['s_gen'] = int(da.S_gen.sum() * 10000)\n",
    "    records.append(record)"
   ]
  },
  {
   "cell_type": "code",
   "execution_count": null,
   "metadata": {
    "collapsed": false
   },
   "outputs": [],
   "source": [
    "data = pd.DataFrame(records)\n",
    "data = data[(data['lamb'] < 0.01) | (data['qr'] == 0)]  # removes extra trials\n",
    "t = da.time_list()\n",
    "tf = t[-1]\n",
    "grouping_columns = ['D_name', 'ds', 'lamb', 'dc', 'qr']\n",
    "grouped = pd.groupby(data, grouping_columns)\n",
    "len(grouped)"
   ]
  },
  {
   "cell_type": "code",
   "execution_count": null,
   "metadata": {
    "collapsed": false
   },
   "outputs": [],
   "source": [
    "for i, (name, group) in enumerate(grouped):\n",
    "    tmp = ' | '.join([_ + ' {}' for _ in grouping_columns]).format(*name)\n",
    "#     D_name, ds, lamb, dc = name\n",
    "#     if ds != 0.4:\n",
    "#         continue\n",
    "    print 'Group: {} | Size: {:2d} | '.format(i, len(group)) + tmp\n",
    "    print group[tf].mean()"
   ]
  },
  {
   "cell_type": "code",
   "execution_count": null,
   "metadata": {
    "collapsed": false
   },
   "outputs": [],
   "source": [
    "group_ = []\n",
    "for key, group in pd.groupby(data, ['s_gen']):\n",
    "    group = group.copy()\n",
    "    for tt in t:\n",
    "        pca_snr = group[group['D_name'] == 'PCA'][tt].mean()\n",
    "        if np.isnan(pca_snr):\n",
    "            continue\n",
    "        group[str(tt) + '_norm_snr'] = group[tt] / pca_snr\n",
    "    group_.append(group)\n",
    "t_n = map(lambda x: str(x) + '_norm_snr', t)  # column labels for snr rel PCA\n",
    "data = pd.concat(group_)"
   ]
  },
  {
   "cell_type": "code",
   "execution_count": null,
   "metadata": {
    "collapsed": false
   },
   "outputs": [],
   "source": [
    "for key, group in pd.groupby(data, ['D_name', 'lamb', 'qr']):\n",
    "    print key, group[str(tf) + '_norm_snr'].mean(), group[str(tf) + '_norm_snr'].std()\n",
    "#     print group['norm_snr']"
   ]
  },
  {
   "cell_type": "code",
   "execution_count": null,
   "metadata": {
    "collapsed": true
   },
   "outputs": [],
   "source": [
    "grouped = pd.groupby(data, grouping_columns)"
   ]
  },
  {
   "cell_type": "code",
   "execution_count": null,
   "metadata": {
    "collapsed": false
   },
   "outputs": [],
   "source": [
    "# da = da_[-3]\n",
    "\n",
    "# plt.imshow(da.data['S_gen'], vmin=-0.5, vmax=0.5, cmap='bwr')\n",
    "# plt.colorbar()\n",
    "\n",
    "# da.s_range = 'sym'\n",
    "# fig, ax = da.plot_em_estimate(-1, figsize=(10, 10))"
   ]
  },
  {
   "cell_type": "code",
   "execution_count": null,
   "metadata": {
    "collapsed": false
   },
   "outputs": [],
   "source": [
    "# for i, da in enumerate(da_):\n",
    "#     print 'File {:3d} ds {:.2f}, dname: {:7s} img {:7.3f}, lamb: {:.3f}'.format(\n",
    "#         i, da.data['ds'], da.data['D_name'], da.snr_one_iteration(da.N_itr - 1), da.data['lamb'])"
   ]
  },
  {
   "cell_type": "code",
   "execution_count": null,
   "metadata": {
    "collapsed": false
   },
   "outputs": [],
   "source": [
    "fig, ax = plt.subplots(figsize=(7, 7))\n",
    "ax.set_title('SNR as a function of time (ms)')\n",
    "for (name, group) in grouped:\n",
    "    D_name, ds, lamb, dc, quad_reg = name\n",
    "    label = 'D: {}, ds: {:.2f}, lamb: {:.4f} quadreg {:.2f}'.format(D_name, ds, lamb, 100 * quad_reg)\n",
    "    label = get_label(D_name, lamb, quad_reg)\n",
    "    plot_fill_between(ax, t, group[t_n], label=label, c=None, k=1.)\n",
    "ax.legend(loc='upper left')\n",
    "plt.savefig(os.path.join('../output/', 'dict_compare.png'), dpi=200)"
   ]
  },
  {
   "cell_type": "code",
   "execution_count": null,
   "metadata": {
    "collapsed": false
   },
   "outputs": [],
   "source": [
    "final_snrs = [group[t_n[-1]].values for k, group in grouped]\n",
    "names = [k for k, group in grouped]"
   ]
  },
  {
   "cell_type": "code",
   "execution_count": null,
   "metadata": {
    "collapsed": false
   },
   "outputs": [],
   "source": [
    "names[0], "
   ]
  },
  {
   "cell_type": "code",
   "execution_count": null,
   "metadata": {
    "collapsed": true
   },
   "outputs": [],
   "source": [
    "get_label_ = lambda x: get_label(x['D_name'], x['lamb'], x['qr'])\n",
    "get_label__ = lambda x: get_label(x[0], x[2], x[4])"
   ]
  },
  {
   "cell_type": "code",
   "execution_count": null,
   "metadata": {
    "collapsed": false
   },
   "outputs": [],
   "source": [
    "pvals = {}\n",
    "for name, final_snr in zip(names, final_snrs):\n",
    "    print name\n",
    "    pval = ks_2samp(final_snrs[1], final_snr).pvalue\n",
    "    pvals[get_label__(name)] = pval"
   ]
  },
  {
   "cell_type": "code",
   "execution_count": null,
   "metadata": {
    "collapsed": false
   },
   "outputs": [],
   "source": [
    "pvals"
   ]
  },
  {
   "cell_type": "code",
   "execution_count": null,
   "metadata": {
    "collapsed": true
   },
   "outputs": [],
   "source": [
    "def pval_to_star(p):\n",
    "    if p <= 0.0001:\n",
    "        return '****'\n",
    "    elif p <= 0.001:\n",
    "        return '***'\n",
    "    elif p <= 0.01:\n",
    "        return '**'\n",
    "    elif p <= 0.05:\n",
    "        return '*'\n",
    "    else:\n",
    "        return 'ns'"
   ]
  },
  {
   "cell_type": "code",
   "execution_count": null,
   "metadata": {
    "collapsed": false
   },
   "outputs": [],
   "source": [
    "stars = {k: pval_to_star(v) for k, v in pvals.items()}\n"
   ]
  },
  {
   "cell_type": "code",
   "execution_count": null,
   "metadata": {
    "collapsed": false
   },
   "outputs": [],
   "source": [
    "stars"
   ]
  },
  {
   "cell_type": "code",
   "execution_count": null,
   "metadata": {
    "collapsed": false
   },
   "outputs": [],
   "source": [
    "q1, q2 = 1, 4\n",
    "print names[q1], names[q2]\n",
    "ks_2samp(final_snrs[q1], final_snrs[q2])"
   ]
  },
  {
   "cell_type": "code",
   "execution_count": null,
   "metadata": {
    "collapsed": false
   },
   "outputs": [],
   "source": [
    "final_snrs[q2]"
   ]
  },
  {
   "cell_type": "code",
   "execution_count": null,
   "metadata": {
    "collapsed": false
   },
   "outputs": [],
   "source": [
    "idx__ = [data[data['D_name'] == key].index.values for key in [INDEP, PCA, SPAR]]\n",
    "indep_idx_, spar_idx_, pca_idx_ = idx__"
   ]
  },
  {
   "cell_type": "code",
   "execution_count": null,
   "metadata": {
    "collapsed": false
   },
   "outputs": [],
   "source": [
    "grouping_columns = ['D_name', 'ds', 'lamb', 'dc', 'qr']\n",
    "grouped = pd.groupby(data, grouping_columns)\n",
    "len(grouped)"
   ]
  },
  {
   "cell_type": "code",
   "execution_count": null,
   "metadata": {
    "collapsed": false
   },
   "outputs": [],
   "source": [
    "data['label'] = data.apply(get_label_, axis=1)"
   ]
  },
  {
   "cell_type": "code",
   "execution_count": null,
   "metadata": {
    "collapsed": false
   },
   "outputs": [],
   "source": [
    "fig, ax = plt.subplots(figsize=(7/4., 3.6/2))\n",
    "\n",
    "\n",
    "order = [\n",
    "    'IND',\n",
    "    'SP Z',\n",
    "    'PCA',\n",
    "    'SP L1',\n",
    "    'SP L2',\n",
    "    'SP L12',\n",
    "]\n",
    "\n",
    "sns.barplot(\n",
    "    ax=ax,\n",
    "    y='label', \n",
    "    x=t_n[-1], \n",
    "    data=data,\n",
    "    order=order,\n",
    ")\n",
    "ax.set_xlabel('')\n",
    "ax.set_ylabel('')\n",
    "ax.set_title('SNR rel PCA at 600 ms')\n",
    "\n",
    "for axis in ['top','bottom','left','right']:\n",
    "    ax.spines[axis].set_visible(False)\n",
    "\n",
    "for label, patch in zip(order, ax.patches):\n",
    "    w = patch.get_width()\n",
    "    h = patch.get_height()\n",
    "    y = patch.get_y()\n",
    "    print w\n",
    "    star = stars[label]\n",
    "    if star is not 'ns':\n",
    "        ax.text(w + 0.1, y+ 0.5 * h, star)\n",
    "\n",
    "# ax.set_xlim([-1, 2])\n",
    "ax.yaxis.tick_right()\n",
    "# plt.tight_layout()\n",
    "# plt.savefig('../output/snr_barchart.pdf')"
   ]
  },
  {
   "cell_type": "code",
   "execution_count": null,
   "metadata": {
    "collapsed": false
   },
   "outputs": [],
   "source": [
    "aspect = np.diff(ax.get_xlim())\n",
    "-np.diff(ax.get_ylim())        \n"
   ]
  },
  {
   "cell_type": "code",
   "execution_count": null,
   "metadata": {
    "collapsed": true
   },
   "outputs": [],
   "source": [
    "ax.text?"
   ]
  },
  {
   "cell_type": "code",
   "execution_count": null,
   "metadata": {
    "collapsed": false
   },
   "outputs": [],
   "source": [
    "patch.get_y()"
   ]
  },
  {
   "cell_type": "code",
   "execution_count": null,
   "metadata": {
    "collapsed": false
   },
   "outputs": [],
   "source": [
    "ax.patches"
   ]
  },
  {
   "cell_type": "code",
   "execution_count": null,
   "metadata": {
    "collapsed": false
   },
   "outputs": [],
   "source": []
  },
  {
   "cell_type": "code",
   "execution_count": null,
   "metadata": {
    "collapsed": false
   },
   "outputs": [],
   "source": [
    "patch.get_height()"
   ]
  },
  {
   "cell_type": "code",
   "execution_count": null,
   "metadata": {
    "collapsed": false
   },
   "outputs": [],
   "source": [
    "x_label_ = []\n",
    "yy_ = []\n",
    "yys_ = []\n",
    "for key, group in grouped:\n",
    "    x_label_.append(key)\n",
    "    snrs = group[t_n[-1]]\n",
    "    yy_.append(snrs.mean())\n",
    "    yys_.append(snrs.std() / np.sqrt(len(snrs)))"
   ]
  },
  {
   "cell_type": "code",
   "execution_count": null,
   "metadata": {
    "collapsed": false
   },
   "outputs": [],
   "source": [
    "final_snrs = [group[t_n[-1]].values for k, group in grouped]\n",
    "\n",
    "res = ks_2samp(final_snrs[0], final_snrs[2])\n",
    "print res"
   ]
  },
  {
   "cell_type": "code",
   "execution_count": null,
   "metadata": {
    "collapsed": true
   },
   "outputs": [],
   "source": [
    "xx = np.arange(len(x_label_))"
   ]
  },
  {
   "cell_type": "code",
   "execution_count": null,
   "metadata": {
    "collapsed": false
   },
   "outputs": [],
   "source": [
    "ax = plt.axes()\n",
    "ax.bar(xx, yy_, 0.25, yerr=yys_)\n",
    "ax.set_xticks(xx)\n",
    "ax.set_xticklabels(x_label_, rotation=90)\n",
    "# _ = ax.set_ylim(0.3, 1.5)"
   ]
  },
  {
   "cell_type": "code",
   "execution_count": null,
   "metadata": {
    "collapsed": true
   },
   "outputs": [],
   "source": []
  },
  {
   "cell_type": "code",
   "execution_count": null,
   "metadata": {
    "collapsed": false
   },
   "outputs": [],
   "source": [
    "fig, axes = plt.subplots(nrows=2, ncols=4, figsize=(7, 3.6))\n",
    "\n",
    "# Get indices of trials for different inference methods for the same image\n",
    "key, group = list(pd.groupby(data, ['s_gen']))[5]\n",
    "\n",
    "idx0 = group[\n",
    "    (group['D_name'] == INDEP)\n",
    "].index.values[0]\n",
    "\n",
    "\n",
    "idx1 = group[\n",
    "    (group['D_name'] == PCA)\n",
    "].index.values[0]\n",
    "\n",
    "idx2 = group[\n",
    "    (group['D_name'] == SPAR) & \n",
    "    (group['lamb'] > 0) & \n",
    "    (group['qr'] > 0)\n",
    "].index.values[0]\n",
    "\n",
    "idx_ = [idx0, idx1, idx2]\n",
    "\n",
    "# Plot Random Subset of Dictionary and a Reconstruction\n",
    "for i, idx in enumerate(idx_):\n",
    "    da = da_[idx]\n",
    "    ax = axes[1][i]\n",
    "    da.plot_image_estimate(fig, ax, -1, colorbar=False)\n",
    "\n",
    "    ax.set_title('SNR = {:.2f}'.format(da.snr_one_iteration(da.N_itr - 1)))\n",
    "    ax.set_axis_off()\n",
    "\n",
    "    ax = axes[0][i]\n",
    "    D = da.data['D']\n",
    "\n",
    "    ax.set_title('Dictionary: {}'.format(dict_label_[da.data['D_name']]))\n",
    "    np.random.shuffle(D)\n",
    "    show_fields(D[0:25], pos_only=False, fig=fig, ax=ax, colorbar=False, normed=True)\n",
    "    ax.set_axis_off()\n",
    "\n",
    "# Plot the original image and neurons for reference\n",
    "ax = axes[1][-1]\n",
    "da.plot_image_and_rfs(fig=fig, ax=ax, alpha_rf=0.25)\n",
    "a = da.data['ds'] * da.L_I / 2\n",
    "ax.set_xlim([-a, a]); ax.set_ylim([-a, a])\n",
    "ax.set_title('Original')\n",
    "ax.set_axis_off()\n",
    "    \n",
    " \n",
    "    \n",
    "ax = axes[0][-1]\n",
    "\n",
    "order = [\n",
    "    'IND',\n",
    "    'SP Z',\n",
    "    'PCA',\n",
    "    'SP L1',\n",
    "    'SP L2',\n",
    "    'SP L12',\n",
    "]\n",
    "\n",
    "sns.barplot(\n",
    "    ax=ax,\n",
    "    y='label', \n",
    "    x=t_n[-1], \n",
    "    data=data,\n",
    "    order=order,\n",
    ")\n",
    "ax.set_xlabel('')\n",
    "ax.set_ylabel('')\n",
    "ax.set_title('SNR rel PCA at 600 ms')\n",
    "\n",
    "for axis in ['top','bottom','left','right']:\n",
    "    ax.spines[axis].set_visible(False)\n",
    "\n",
    "for label, patch in zip(order, ax.patches):\n",
    "    w = patch.get_width()\n",
    "    h = patch.get_height()\n",
    "    y = patch.get_y()\n",
    "    star = stars[label]\n",
    "    if star is not 'ns':\n",
    "        ax.text(w + 0.1, y+ 0.5 * h, star)\n",
    "\n",
    "\n",
    "\n",
    "# ax.set_title('SNR rel PCA vs time (ms)')\n",
    "# for (name, group) in grouped:\n",
    "#     D_name, ds, lamb, dc, quad_reg = name\n",
    "#     label = get_label(D_name, lamb, quad_reg)\n",
    "#     plot_fill_between(\n",
    "#         ax, t, group[t_n], label=label, \n",
    "#         k=1./np.sqrt(len(group)), alpha=0.75\n",
    "#     )\n",
    "# ax.set_yticks([0.5, 1.0, 1.5])\n",
    "# ax.legend()\n",
    "\n",
    "# expand_legend_linewidths(ax, loc='lower right', labelspacing=0.1)\n",
    "\n",
    "\n",
    "for axis in ['top','bottom','left','right']:\n",
    "    ax.spines[axis].set_visible(False)\n",
    "\n",
    "aspect = -np.diff(ax.get_xlim()) / np.diff(ax.get_ylim())        \n",
    "\n",
    "# ax.set_aspect(aspect * 1.5)\n",
    "ax.yaxis.tick_right()\n",
    "\n",
    "\n",
    "    \n",
    "    \n",
    "for i, ax in enumerate(axes.T.flat):\n",
    "    label = chr(ord('a') + i)\n",
    "    label_subplot(fig=fig, ax=ax, label=label, dy=0.03)\n",
    "\n",
    "    ax.set_title(ax.get_title(), fontdict={'size': 7})\n",
    "\n",
    "plt.subplots_adjust(hspace=0.4)\n",
    "# plt.tight_layout()\n",
    "plt.savefig(os.path.join('../output', 'natural_dict_and_rec.pdf'), dpi=300)"
   ]
  },
  {
   "cell_type": "code",
   "execution_count": null,
   "metadata": {
    "collapsed": false
   },
   "outputs": [],
   "source": [
    "fig, axes = plt.subplots(1, 2)\n",
    "ax = axes[0]\n",
    "ax.set_aspect(2)"
   ]
  },
  {
   "cell_type": "markdown",
   "metadata": {
    "collapsed": true
   },
   "source": [
    "# Create a video"
   ]
  },
  {
   "cell_type": "code",
   "execution_count": null,
   "metadata": {
    "collapsed": false
   },
   "outputs": [],
   "source": [
    "video_dir = os.path.join(output_dir, 'video')\n",
    "\n",
    "if not os.path.exists(video_dir):\n",
    "    os.makedirs(video_dir)"
   ]
  },
  {
   "cell_type": "markdown",
   "metadata": {},
   "source": [
    "Create a video\n",
    "`\n",
    "avconv -framerate 20 -i img_%04d.png -c:v libx264 -r 30 rec.mp4\n",
    "`"
   ]
  },
  {
   "cell_type": "code",
   "execution_count": null,
   "metadata": {
    "collapsed": false
   },
   "outputs": [],
   "source": [
    "# for i in range(da.N_itr):\n",
    "#     print 'Rendering image {:04d}'.format(i)\n",
    "# #     da_[spar_idx[1]].plot_em_estimate(i)\n",
    "# #     plt.savefig(os.path.join(video_dir, 'img_{:04d}.png'.format(i)), dpi=150)\n",
    "# #     plt.close()"
   ]
  },
  {
   "cell_type": "markdown",
   "metadata": {},
   "source": [
    "Dictionary with Reconstructions after 200 ms, DC = 100"
   ]
  },
  {
   "cell_type": "code",
   "execution_count": null,
   "metadata": {
    "collapsed": true
   },
   "outputs": [],
   "source": [
    "def plot_snr_fcn_time(fig, ax, grouped, label_):\n",
    "\n",
    "    c_ = plt.cm.rainbow(np.linspace(0, 1, len(grouped)))\n",
    "    np.random.shuffle(c_); c_ = list(c_)\n",
    "\n",
    "    c_ = ['r', 'r', 'r', 'g' 'g', 'g', 'b', 'b', 'b']\n",
    "#     label_ = {'Indep': 'Independent Pixel Prior', \n",
    "#               'Sparse': 'Sparse Prior', \n",
    "#               'Non-sparse' : 'Non-sparse Prior'}\n",
    "    \n",
    "    \n",
    "    title = 'SNR as a function of time'.format('')\n",
    "    ax.set_title(title)\n",
    "    alpha = 0.75\n",
    "    for c, (name, group) in zip(c_, grouped):\n",
    "        D_name, ds = name\n",
    "        if ds != 0.70:\n",
    "            continue\n",
    "    #     label = 'D: {}, ds: {:.2f}'.format(label_[D_name])\n",
    "        label = label_[D_name]\n",
    "#         label=D_name\n",
    "        plot_fill_between(ax, t, group[list(t)], label=label, c=c, k=0.5)\n",
    "        ax.set_xlabel('time (ms)')\n",
    "        ax.set_ylabel('SNR')\n",
    "    ax.legend(loc='upper left', prop={'size': '6'})"
   ]
  },
  {
   "cell_type": "code",
   "execution_count": null,
   "metadata": {
    "collapsed": true
   },
   "outputs": [],
   "source": [
    "from src.analyzer import _get_sum_gaussian_image"
   ]
  },
  {
   "cell_type": "code",
   "execution_count": null,
   "metadata": {
    "collapsed": false
   },
   "outputs": [],
   "source": [
    "def plot_image_estimate(self, fig, ax, q, cmap=plt.cm.gray,\n",
    "                        colorbar=True, vmax=None):\n",
    "\n",
    "    \"\"\"Plot the estimated image after iteration q.\"\"\"\n",
    "    if q == -1:\n",
    "        q = self.N_itr - 1\n",
    "\n",
    "    res = _get_sum_gaussian_image(\n",
    "        self.data['EM_data'][q]['image_est'].ravel(),\n",
    "        self.xs, self.ys,\n",
    "    self.data['ds'] / np.sqrt(2), n=100)\n",
    "    ax.set_title('Estimated Image, S = DA:\\n SNR = %.2f'\n",
    "            % self.snr_one_iteration(q))\n",
    "    # FIXME: extent calculation could break in future\n",
    "    a = self.data['ds'] * self.L_I / 2\n",
    "    cax = ax.imshow(res, cmap=cmap, interpolation='nearest',\n",
    "                         extent=[-a, a, -a, a],\n",
    "                         vmax=vmax)\n",
    "    if colorbar:\n",
    "        fig.colorbar(cax, ax=ax)"
   ]
  },
  {
   "cell_type": "code",
   "execution_count": null,
   "metadata": {
    "collapsed": false
   },
   "outputs": [],
   "source": [
    "tmp = [idx[u] for u in [0, 2, 1]]\n",
    "tmp = [tp[1] for tp in tmp]\n",
    "\n",
    "label_ = {'Indep': 'IND', \n",
    "          'Sparse': 'SP', \n",
    "          'Non-sparse' : 'N-SP'}\n",
    "\n",
    "\n",
    "\n",
    "fig, axes = plt.subplots(nrows=3, ncols=2, figsize=(3.5, 4))\n",
    "\n",
    "for (u, v), idx_  in zip([[0, 1], [1, 1], [2, 1]], tmp):\n",
    "    da = da_[idx_]\n",
    "    plot_image_estimate(da, fig, axes[u][v], -1, colorbar=False,\n",
    "                          vmax=2.8)\n",
    "    axes[u][v].set_title('{}: SNR = {:.2f}'.format(\n",
    "            label_[da.data['D_name']], da.snr_one_iteration(da.N_itr - 1)))\n",
    "\n",
    "plot_snr_fcn_time(fig, axes[2][0], grouped, label_)\n",
    "\n",
    "da.plot_base_image(fig, axes[0][0])\n",
    "axes[0][0].set_title('Original Pattern')\n",
    "\n",
    "\n",
    "da.plot_image_and_rfs(fig, axes[1][0], legend=False)\n",
    "for u in [0, 1]:\n",
    "    axes[u][0].set_xlabel('x (arcmin)')\n",
    "    axes[u][0].set_ylabel('y (arcmin)')\n",
    "axes[1][0].set_title('Pattern and RFs')\n",
    "\n",
    "for ax in axes.flat:\n",
    "    ax.set_title(ax.get_title(), fontdict={'size': 7})\n",
    "\n",
    "\n",
    "plt.tight_layout(pad=0.2)\n",
    "# plt.savefig(os.path.join(output_dir, 'sparsity.pdf'), dpi=300)"
   ]
  },
  {
   "cell_type": "code",
   "execution_count": null,
   "metadata": {
    "collapsed": true
   },
   "outputs": [],
   "source": []
  },
  {
   "cell_type": "code",
   "execution_count": null,
   "metadata": {
    "collapsed": true
   },
   "outputs": [],
   "source": []
  },
  {
   "cell_type": "code",
   "execution_count": null,
   "metadata": {
    "collapsed": false
   },
   "outputs": [],
   "source": [
    "fig, axes = plt.subplots(nrows=2, ncols=3, figsize=(7, 4.5))\n",
    "\n",
    "for i, idx1 in enumerate([idx[u] for u in [0, 1]]):\n",
    "    da = da_[idx1[0]]\n",
    "    da.plot_image_estimate(fig, axes[1][i], -1)\n",
    "    axes[1][i].set_title('SNR = {:.2f}'.format(da.snr_one_iteration(da.N_itr - 1)))\n",
    "    plt.subplot(2, 3, i + 1)\n",
    "    D = da.data['D']\n",
    "    D_name = da.data['D_name']\n",
    "    plt.title('Dictionary: {}'.format(D_name))\n",
    "    show_fields(D, pos_only=True)\n",
    "\n",
    "# plt.savefig(os.path.join(output_dir, 'dict_and_rec.pdf'), dpi=300)"
   ]
  },
  {
   "cell_type": "code",
   "execution_count": null,
   "metadata": {
    "collapsed": false
   },
   "outputs": [],
   "source": [
    "plt.figure(figsize=(7, 4))\n",
    "# plt.suptitle('Reconstruction as a function of time for Sparse Image Prior')\n",
    "da = da_[spar_idx[1]]\n",
    "for i, ii in enumerate([None, 0, 14, 24, 59, 99]):\n",
    "    plt.subplot(2, 3, i + 1)\n",
    "    if i == 0:\n",
    "        da.plot_base_image()\n",
    "        plt.title('True Image')\n",
    "    else: \n",
    "        da.plot_image_estimate(ii)\n",
    "        plt.title('t = {} ms'.format(ii * 2 + 2))\n",
    "plt.tight_layout()\n",
    "# plt.savefig(os.path.join(output_dir, 'sparse_rec_time.png'), dpi=200)"
   ]
  },
  {
   "cell_type": "markdown",
   "metadata": {},
   "source": [
    "Plot of Dictionaries"
   ]
  },
  {
   "cell_type": "code",
   "execution_count": null,
   "metadata": {
    "collapsed": false
   },
   "outputs": [],
   "source": [
    "plt.figure(figsize=(12, 3))\n",
    "for i, q in enumerate([0, 20, 40]):\n",
    "    da = da_[q]\n",
    "    plt.subplot(1, 3, i + 1)\n",
    "\n",
    "    D = da.data['D']\n",
    "    D_name = da.data['D_name']\n",
    "    plt.title('Dictionary: {}'.format(D_name))\n",
    "    show_fields(D, pos_only=True)\n",
    "# plt.savefig(os.path.join(output_dir, 'dictionaries.png'), dpi=250)"
   ]
  },
  {
   "cell_type": "code",
   "execution_count": null,
   "metadata": {
    "collapsed": false
   },
   "outputs": [],
   "source": [
    "plt.figure(figsize=(3, 3))\n",
    "da.plot_tuning_curves()\n",
    "plt.tight_layout()\n",
    "# plt.savefig(os.path.join(output_dir, 'firing_rate.png'), dpi=200)"
   ]
  },
  {
   "cell_type": "code",
   "execution_count": null,
   "metadata": {
    "collapsed": true
   },
   "outputs": [],
   "source": []
  },
  {
   "cell_type": "code",
   "execution_count": null,
   "metadata": {
    "collapsed": true
   },
   "outputs": [],
   "source": []
  },
  {
   "cell_type": "code",
   "execution_count": null,
   "metadata": {
    "collapsed": true
   },
   "outputs": [],
   "source": []
  },
  {
   "cell_type": "code",
   "execution_count": null,
   "metadata": {
    "collapsed": true
   },
   "outputs": [],
   "source": []
  },
  {
   "cell_type": "code",
   "execution_count": null,
   "metadata": {
    "collapsed": true
   },
   "outputs": [],
   "source": []
  },
  {
   "cell_type": "code",
   "execution_count": null,
   "metadata": {
    "collapsed": true
   },
   "outputs": [],
   "source": []
  },
  {
   "cell_type": "code",
   "execution_count": null,
   "metadata": {
    "collapsed": true
   },
   "outputs": [],
   "source": []
  },
  {
   "cell_type": "code",
   "execution_count": null,
   "metadata": {
    "collapsed": true
   },
   "outputs": [],
   "source": []
  }
 ],
 "metadata": {
  "kernelspec": {
   "display_name": "Python 2",
   "language": "python",
   "name": "python2"
  },
  "language_info": {
   "codemirror_mode": {
    "name": "ipython",
    "version": 2
   },
   "file_extension": ".py",
   "mimetype": "text/x-python",
   "name": "python",
   "nbconvert_exporter": "python",
   "pygments_lexer": "ipython2",
   "version": "2.7.12"
  }
 },
 "nbformat": 4,
 "nbformat_minor": 0
}
