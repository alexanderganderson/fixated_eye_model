{
 "cells": [
  {
   "cell_type": "code",
   "execution_count": null,
   "metadata": {
    "collapsed": false
   },
   "outputs": [],
   "source": [
    "import os\n",
    "\n",
    "import numpy as np\n",
    "from scipy.stats import ks_2samp\n",
    "import matplotlib\n",
    "import matplotlib.pyplot as plt\n",
    "%matplotlib inline\n",
    "plt.rcParams['font.size'] = 7\n",
    "from matplotlib.ticker import MaxNLocator\n",
    "\n",
    "import pandas as pd\n",
    "\n",
    "\n",
    "from context import src, utils\n",
    "from src.analyzer import DataAnalyzer, plot_fill_between\n",
    "from utils.rf_plot import show_fields\n",
    "from utils.plot_utils import label_subplot\n",
    "\n",
    "\n",
    "output_dir = '../output/natural_sparsity_van_hateren3'"
   ]
  },
  {
   "cell_type": "code",
   "execution_count": null,
   "metadata": {
    "collapsed": false
   },
   "outputs": [],
   "source": [
    "pkl_fns = [os.path.join(output_dir, fn) \n",
    "           for fn in os.listdir(output_dir) \n",
    "           if fn.endswith('.pkl') or fn.endswith('.h5')]\n",
    "pkl_fns.sort()\n",
    "len(pkl_fns)"
   ]
  },
  {
   "cell_type": "code",
   "execution_count": null,
   "metadata": {
    "collapsed": false
   },
   "outputs": [],
   "source": [
    "da_ = [DataAnalyzer.fromfilename(pkl_fn) for pkl_fn in pkl_fns]"
   ]
  },
  {
   "cell_type": "code",
   "execution_count": null,
   "metadata": {
    "collapsed": false,
    "scrolled": true
   },
   "outputs": [],
   "source": [
    "records = []\n",
    "for da in da_:\n",
    "    record = {}\n",
    "    record['D_name'] = da.data['D_name']\n",
    "    record['ds'] = da.data['ds']\n",
    "    record['lamb'] = da.data['lamb']\n",
    "    record['dc'] = da.data['motion_gen']['dc']\n",
    "    for t, snr_t in zip(da.time_list(), da.snr_list()):\n",
    "        record[t] = snr_t\n",
    "\n",
    "    records.append(record)"
   ]
  },
  {
   "cell_type": "code",
   "execution_count": null,
   "metadata": {
    "collapsed": false
   },
   "outputs": [],
   "source": [
    "data = pd.DataFrame(records)\n",
    "t = da.time_list()\n",
    "grouping_columns = ['D_name', 'ds', 'lamb', 'dc']\n",
    "grouped = pd.groupby(data, grouping_columns)\n",
    "len(grouped)"
   ]
  },
  {
   "cell_type": "code",
   "execution_count": null,
   "metadata": {
    "collapsed": false
   },
   "outputs": [],
   "source": [
    "for i, (name, group) in enumerate(grouped):\n",
    "    tmp = ' | '.join([_ + ' {}' for _ in grouping_columns]).format(*name)\n",
    "#     D_name, ds, lamb, dc = name\n",
    "#     if ds != 0.4:\n",
    "#         continue\n",
    "    print 'Group: {} | Size: {:2d} | '.format(i, len(group)) + tmp\n",
    "    print group[list(t)[-1]].mean()"
   ]
  },
  {
   "cell_type": "code",
   "execution_count": null,
   "metadata": {
    "collapsed": true
   },
   "outputs": [],
   "source": [
    "da = da_[3]"
   ]
  },
  {
   "cell_type": "code",
   "execution_count": null,
   "metadata": {
    "collapsed": false
   },
   "outputs": [],
   "source": [
    "plt.imshow(da.data['S_gen'], vmin=-0.5, vmax=0.5, cmap='bwr')\n",
    "plt.colorbar()"
   ]
  },
  {
   "cell_type": "code",
   "execution_count": null,
   "metadata": {
    "collapsed": false
   },
   "outputs": [],
   "source": [
    "da.s_range = 'sym'\n",
    "fig, ax = da.plot_em_estimate(-1, figsize=(10, 10))"
   ]
  },
  {
   "cell_type": "code",
   "execution_count": null,
   "metadata": {
    "collapsed": false
   },
   "outputs": [],
   "source": [
    "for i, da in enumerate(da_):\n",
    "    print 'File {:3d} ds {:.2f}, dname: {:7s} img {:.5f}'.format(\n",
    "        i, da.data['ds'], da.data['D_name'], da.snr_one_iteration(da.N_itr - 1))"
   ]
  },
  {
   "cell_type": "code",
   "execution_count": null,
   "metadata": {
    "collapsed": true
   },
   "outputs": [],
   "source": [
    "INDEP = 'Indep'\n",
    "SPAR = 'Sparse'\n",
    "PCA = 'PCA'"
   ]
  },
  {
   "cell_type": "code",
   "execution_count": null,
   "metadata": {
    "collapsed": false
   },
   "outputs": [],
   "source": [
    "c_ = plt.cm.rainbow(np.linspace(0, 1, 2 * len(grouped)))\n",
    "np.random.shuffle(c_); c_ = list(c_)\n",
    "\n",
    "label_ = {INDEP: 'Independent Pixel Prior', \n",
    "          SPAR: 'Sparse Prior', \n",
    "          PCA : 'PCA'}"
   ]
  },
  {
   "cell_type": "code",
   "execution_count": null,
   "metadata": {
    "collapsed": false
   },
   "outputs": [],
   "source": [
    "title = 'SNR as a function of time'.format('')\n",
    "fig, ax = plt.subplots(figsize=(7, 7))\n",
    "ax.set_title(title)\n",
    "alpha = 0.75\n",
    "for c, (name, group) in zip(c_, grouped):\n",
    "    D_name, ds, lamb, dc = name\n",
    "    if dc != 20:\n",
    "        continue\n",
    "    #     if ds != 1.0:\n",
    "#         continue\n",
    "    label = 'D: {}, ds: {:.2f}, lamb: {:.4f}'.format(label_[D_name], ds, lamb)\n",
    "#     label = label_[D_name]\n",
    "    plot_fill_between(ax, t, group[list(t)], label=label, c=c, k=0.5)\n",
    "#     ax.plot(t, group[list(t)].T.iloc[:, 0], c=c, label=label, alpha=alpha)\n",
    "#     ax.plot(t, group[list(t)].T.iloc[:, 1:], c=c, alpha=alpha);\n",
    "    ax.set_xlabel('time (ms)')\n",
    "    ax.set_ylabel('SNR')\n",
    "ax.legend(loc='upper left')\n",
    "# plt.savefig(os.path.join(output_dir, 'dict_compare.png'), dpi=200)"
   ]
  },
  {
   "cell_type": "code",
   "execution_count": null,
   "metadata": {
    "collapsed": true
   },
   "outputs": [],
   "source": [
    "final_snrs = [group[list(t)[-1]].values for k, group in grouped]\n",
    "names = [k for k, group in grouped]"
   ]
  },
  {
   "cell_type": "code",
   "execution_count": null,
   "metadata": {
    "collapsed": false
   },
   "outputs": [],
   "source": [
    "q1, q2 = 1, 0\n",
    "print names[q1], names[q2]\n",
    "ks_2samp(final_snrs[q1], final_snrs[q2])"
   ]
  },
  {
   "cell_type": "code",
   "execution_count": null,
   "metadata": {
    "collapsed": false
   },
   "outputs": [],
   "source": [
    "idx = [data[(data['D_name'] == key) & (data['ds'] == 0.75)].index.values for key in [INDEP, PCA, SPAR]]\n",
    "indep_idx, spar_idx, pca_idx = idx"
   ]
  },
  {
   "cell_type": "code",
   "execution_count": null,
   "metadata": {
    "collapsed": false
   },
   "outputs": [],
   "source": [
    "# _ = da_[indep_idx[0]].plot_em_estimate(-1)\n",
    "# # plt.savefig(os.path.join(output_dir, 'sparse_example.png'), dpi=200)"
   ]
  },
  {
   "cell_type": "code",
   "execution_count": null,
   "metadata": {
    "collapsed": true
   },
   "outputs": [],
   "source": [
    "def plot_fill_between(ax, t, data, label='', c=None, hatch=None, k=1., alpha=0.5):\n",
    "    \"\"\"\n",
    "    Create a plot of the data +/- k standard deviations.\n",
    "\n",
    "    Parameters\n",
    "    ----------\n",
    "    t : array, shape (timesteps, )\n",
    "        Times for each data point\n",
    "    data : array, shape (samples, timesteps)\n",
    "        Data to plot mean and +/- one sdev as a function of time\n",
    "    k : float\n",
    "        Scaling factor for standard deviations\n",
    "    \"\"\"\n",
    "    mm = data.mean(0)\n",
    "    sd = data.std(0) * k\n",
    "    p = ax.plot(t, mm, color=c, label=label)\n",
    "    c = p[-1].get_color()\n",
    "    p = ax.fill_between(t, mm - sd, mm + sd, alpha=alpha, color=c,\n",
    "                    hatch=hatch)\n"
   ]
  },
  {
   "cell_type": "code",
   "execution_count": null,
   "metadata": {
    "collapsed": false
   },
   "outputs": [],
   "source": [
    "grouping_columns = ['D_name', 'ds', 'lamb', 'dc']\n",
    "grouped = pd.groupby(data[data['dc']==20], grouping_columns)\n",
    "len(grouped)"
   ]
  },
  {
   "cell_type": "code",
   "execution_count": null,
   "metadata": {
    "collapsed": true
   },
   "outputs": [],
   "source": [
    "plt.rcParams['font.sans-serif'] = [u'Arial']\n",
    "\n",
    "plt.rcParams['lines.linewidth'] = 0.25\n",
    "\n",
    "plt.rcParams['legend.fancybox'] = False\n",
    "plt.rcParams['legend.frameon'] = False\n"
   ]
  },
  {
   "cell_type": "code",
   "execution_count": null,
   "metadata": {
    "collapsed": false
   },
   "outputs": [],
   "source": [
    "import brewer2mpl\n",
    "bmap = brewer2mpl.get_map('Set1', 'qualitative', 5)\n",
    "colors = bmap.mpl_colors\n",
    "\n",
    "# bmap = brewer2mpl.get_map('Set2', 'qualitative', 7)\n",
    "# colors = bmap.mpl_colors\n",
    "\n",
    "matplotlib.rcParams['axes.color_cycle'] = colors\n"
   ]
  },
  {
   "cell_type": "code",
   "execution_count": null,
   "metadata": {
    "collapsed": false
   },
   "outputs": [],
   "source": [
    "fig, axes = plt.subplots(nrows=2, ncols=4, figsize=(7, 3.6))\n",
    "\n",
    "\n",
    "label_ = {'Indep': 'IND', \n",
    "          'Sparse': 'SP', \n",
    "          'PCA' : 'PCA'}\n",
    "\n",
    "\n",
    "for i, idx1 in enumerate(idx):\n",
    "    da = da_[idx1[0]]\n",
    "    ax = axes[1][i]\n",
    "    da.plot_image_estimate(fig, ax, -1, colorbar=False)\n",
    "\n",
    "    ax.set_title('SNR = {:.2f}'.format(da.snr_one_iteration(da.N_itr - 1)))\n",
    "    ax.set_axis_off()\n",
    "\n",
    "    ax = axes[0][i]\n",
    "    D = da.data['D'].copy()\n",
    "    D_name = da.data['D_name']\n",
    "\n",
    "    ax.set_title('Dictionary: {}'.format(label_[D_name]))\n",
    "    np.random.shuffle(D)\n",
    "    show_fields(D[0:25], pos_only=False, fig=fig, ax=ax, colorbar=False, normed=True)\n",
    "\n",
    "    ax.set_axis_off()\n",
    "    \n",
    "ax = axes[1][-1]\n",
    "# da.plot_base_image(fig, ax, colorbar=False, cmap=plt.cm.gray_r)\n",
    "ax.set_title('Original')\n",
    "\n",
    "da.plot_image_and_rfs(fig=fig, ax=ax, alpha_rf=0.25)\n",
    "a = da.data['ds'] * da.L_I / 2\n",
    "ax.set_xlim([-a, a])\n",
    "ax.set_ylim([-a, a])\n",
    "\n",
    "ax.set_axis_off()\n",
    "    \n",
    "    \n",
    "    \n",
    "ax = axes[0][-1]\n",
    " \n",
    "ax.set_title('SNR vs time (ms)')\n",
    "alpha = 0.75\n",
    "cix = -1\n",
    "for c, (name, group) in zip(c_, grouped):\n",
    "    D_name, ds, lamb, dc = name\n",
    "    if lamb > 0.005:\n",
    "        continue\n",
    "    cix += 1\n",
    "    label = label_[D_name]\n",
    "    if D_name == 'Sparse':\n",
    "        if lamb == 0:\n",
    "            label += 'Z'\n",
    "    plot_fill_between(ax, t, group[list(t)], label=label, c=None, k=0.5, alpha=0.75)\n",
    "#     ax.plot(t, group[list(t)].T.iloc[:, 0], c=c, label=label, alpha=alpha)\n",
    "#     ax.plot(t, group[list(t)].T.iloc[:, 1:], c=c, alpha=alpha);\n",
    "\n",
    "\n",
    "# obtain the handles and labels from the figure\n",
    "handles, labels = ax.get_legend_handles_labels()\n",
    "# copy the handles\n",
    "import copy\n",
    "handles = [copy.copy(ha) for ha in handles ]\n",
    "# set the linewidths to the copies\n",
    "[ha.set_linewidth(3) for ha in handles ]\n",
    "# put the copies into the legend\n",
    "leg = ax.legend(handles=handles, labels=labels, loc='upper left')\n",
    "\n",
    "ax.yaxis.set_major_locator(MaxNLocator(4))\n",
    "\n",
    "for axis in ['top','bottom','left','right']:\n",
    "    ax.spines[axis].set_visible(False)\n",
    "TICK_WIDTH = 0.25\n",
    "ax.xaxis.set_tick_params(width=TICK_WIDTH)\n",
    "ax.yaxis.set_tick_params(width=TICK_WIDTH)\n",
    "\n",
    "\n",
    "\n",
    "for i, ax in enumerate(axes.T.flat):\n",
    "    label = chr(ord('a') + i)\n",
    "    label_subplot(fig=fig, ax=ax, label=label, dy=0.03)\n",
    "\n",
    "    ax.set_title(ax.get_title(), fontdict={'size': 7})\n",
    "\n",
    "plt.subplots_adjust(hspace=0.3)\n",
    "plt.savefig(os.path.join('../output', 'natural_dict_and_rec.pdf'), dpi=300)"
   ]
  },
  {
   "cell_type": "code",
   "execution_count": null,
   "metadata": {
    "collapsed": true
   },
   "outputs": [],
   "source": [
    "plt.subplots_adjust?"
   ]
  },
  {
   "cell_type": "code",
   "execution_count": null,
   "metadata": {
    "collapsed": false
   },
   "outputs": [],
   "source": [
    "fig, ax = plt.subplots(1, 1)\n",
    "da.plot_image_and_rfs(fig=fig, ax=ax, alpha_rf=0.25)\n",
    "a = 3\n",
    "ax.set_xlim([-a, a])\n",
    "ax.set_ylim([-a, a])\n",
    "\n",
    "# ax.set_axis_off()\n"
   ]
  },
  {
   "cell_type": "code",
   "execution_count": null,
   "metadata": {
    "collapsed": true
   },
   "outputs": [],
   "source": []
  },
  {
   "cell_type": "code",
   "execution_count": null,
   "metadata": {
    "collapsed": false
   },
   "outputs": [],
   "source": [
    "fig, ax = plt.subplots(1, 1, figsize=(10,10))\n",
    "show_fields(D, fig=fig, ax=ax, normed=True)\n",
    "plt.savefig('dict.pdf', dpi=200)"
   ]
  },
  {
   "cell_type": "code",
   "execution_count": null,
   "metadata": {
    "collapsed": true
   },
   "outputs": [],
   "source": []
  },
  {
   "cell_type": "code",
   "execution_count": null,
   "metadata": {
    "collapsed": false
   },
   "outputs": [],
   "source": [
    "video_dir = os.path.join(output_dir, 'video')\n",
    "\n",
    "if not os.path.exists(video_dir):\n",
    "    os.makedirs(video_dir)"
   ]
  },
  {
   "cell_type": "markdown",
   "metadata": {},
   "source": [
    "Create a video\n",
    "`\n",
    "avconv -framerate 20 -i img_%04d.png -c:v libx264 -r 30 rec.mp4\n",
    "`"
   ]
  },
  {
   "cell_type": "code",
   "execution_count": null,
   "metadata": {
    "collapsed": false
   },
   "outputs": [],
   "source": [
    "# for i in range(da.N_itr):\n",
    "#     print 'Rendering image {:04d}'.format(i)\n",
    "# #     da_[spar_idx[1]].plot_em_estimate(i)\n",
    "# #     plt.savefig(os.path.join(video_dir, 'img_{:04d}.png'.format(i)), dpi=150)\n",
    "# #     plt.close()"
   ]
  },
  {
   "cell_type": "markdown",
   "metadata": {},
   "source": [
    "Dictionary with Reconstructions after 200 ms, DC = 100"
   ]
  },
  {
   "cell_type": "code",
   "execution_count": null,
   "metadata": {
    "collapsed": true
   },
   "outputs": [],
   "source": [
    "plt.rcParams['font.size'] = 7"
   ]
  },
  {
   "cell_type": "code",
   "execution_count": null,
   "metadata": {
    "collapsed": true
   },
   "outputs": [],
   "source": [
    "def plot_snr_fcn_time(fig, ax, grouped, label_):\n",
    "\n",
    "    c_ = plt.cm.rainbow(np.linspace(0, 1, len(grouped)))\n",
    "    np.random.shuffle(c_); c_ = list(c_)\n",
    "\n",
    "    c_ = ['r', 'r', 'r', 'g' 'g', 'g', 'b', 'b', 'b']\n",
    "#     label_ = {'Indep': 'Independent Pixel Prior', \n",
    "#               'Sparse': 'Sparse Prior', \n",
    "#               'Non-sparse' : 'Non-sparse Prior'}\n",
    "    \n",
    "    \n",
    "    title = 'SNR as a function of time'.format('')\n",
    "    ax.set_title(title)\n",
    "    alpha = 0.75\n",
    "    for c, (name, group) in zip(c_, grouped):\n",
    "        D_name, ds = name\n",
    "        if ds != 0.70:\n",
    "            continue\n",
    "    #     label = 'D: {}, ds: {:.2f}'.format(label_[D_name])\n",
    "        label = label_[D_name]\n",
    "#         label=D_name\n",
    "        plot_fill_between(ax, t, group[list(t)], label=label, c=c, k=0.5)\n",
    "        ax.set_xlabel('time (ms)')\n",
    "        ax.set_ylabel('SNR')\n",
    "    ax.legend(loc='upper left', prop={'size': '6'})"
   ]
  },
  {
   "cell_type": "code",
   "execution_count": null,
   "metadata": {
    "collapsed": true
   },
   "outputs": [],
   "source": [
    "from src.analyzer import _get_sum_gaussian_image"
   ]
  },
  {
   "cell_type": "code",
   "execution_count": null,
   "metadata": {
    "collapsed": false
   },
   "outputs": [],
   "source": [
    "def plot_image_estimate(self, fig, ax, q, cmap=plt.cm.gray,\n",
    "                        colorbar=True, vmax=None):\n",
    "\n",
    "    \"\"\"Plot the estimated image after iteration q.\"\"\"\n",
    "    if q == -1:\n",
    "        q = self.N_itr - 1\n",
    "\n",
    "    res = _get_sum_gaussian_image(\n",
    "        self.data['EM_data'][q]['image_est'].ravel(),\n",
    "        self.xs, self.ys,\n",
    "    self.data['ds'] / np.sqrt(2), n=100)\n",
    "    ax.set_title('Estimated Image, S = DA:\\n SNR = %.2f'\n",
    "            % self.snr_one_iteration(q))\n",
    "    # FIXME: extent calculation could break in future\n",
    "    a = self.data['ds'] * self.L_I / 2\n",
    "    cax = ax.imshow(res, cmap=cmap, interpolation='nearest',\n",
    "                         extent=[-a, a, -a, a],\n",
    "                         vmax=vmax)\n",
    "    if colorbar:\n",
    "        fig.colorbar(cax, ax=ax)"
   ]
  },
  {
   "cell_type": "code",
   "execution_count": null,
   "metadata": {
    "collapsed": false
   },
   "outputs": [],
   "source": [
    "tmp = [idx[u] for u in [0, 2, 1]]\n",
    "tmp = [tp[1] for tp in tmp]\n",
    "\n",
    "label_ = {'Indep': 'IND', \n",
    "          'Sparse': 'SP', \n",
    "          'Non-sparse' : 'N-SP'}\n",
    "\n",
    "\n",
    "\n",
    "fig, axes = plt.subplots(nrows=3, ncols=2, figsize=(3.5, 4))\n",
    "\n",
    "for (u, v), idx_  in zip([[0, 1], [1, 1], [2, 1]], tmp):\n",
    "    da = da_[idx_]\n",
    "    plot_image_estimate(da, fig, axes[u][v], -1, colorbar=False,\n",
    "                          vmax=2.8)\n",
    "    axes[u][v].set_title('{}: SNR = {:.2f}'.format(\n",
    "            label_[da.data['D_name']], da.snr_one_iteration(da.N_itr - 1)))\n",
    "\n",
    "plot_snr_fcn_time(fig, axes[2][0], grouped, label_)\n",
    "\n",
    "da.plot_base_image(fig, axes[0][0])\n",
    "axes[0][0].set_title('Original Pattern')\n",
    "\n",
    "\n",
    "da.plot_image_and_rfs(fig, axes[1][0], legend=False)\n",
    "for u in [0, 1]:\n",
    "    axes[u][0].set_xlabel('x (arcmin)')\n",
    "    axes[u][0].set_ylabel('y (arcmin)')\n",
    "axes[1][0].set_title('Pattern and RFs')\n",
    "\n",
    "for ax in axes.flat:\n",
    "    ax.set_title(ax.get_title(), fontdict={'size': 7})\n",
    "\n",
    "\n",
    "plt.tight_layout(pad=0.2)\n",
    "# plt.savefig(os.path.join(output_dir, 'sparsity.pdf'), dpi=300)"
   ]
  },
  {
   "cell_type": "code",
   "execution_count": null,
   "metadata": {
    "collapsed": true
   },
   "outputs": [],
   "source": []
  },
  {
   "cell_type": "code",
   "execution_count": null,
   "metadata": {
    "collapsed": true
   },
   "outputs": [],
   "source": []
  },
  {
   "cell_type": "code",
   "execution_count": null,
   "metadata": {
    "collapsed": false
   },
   "outputs": [],
   "source": [
    "fig, axes = plt.subplots(nrows=2, ncols=3, figsize=(7, 4.5))\n",
    "\n",
    "for i, idx1 in enumerate([idx[u] for u in [0, 1]]):\n",
    "    da = da_[idx1[0]]\n",
    "    da.plot_image_estimate(fig, axes[1][i], -1)\n",
    "    axes[1][i].set_title('SNR = {:.2f}'.format(da.snr_one_iteration(da.N_itr - 1)))\n",
    "    plt.subplot(2, 3, i + 1)\n",
    "    D = da.data['D']\n",
    "    D_name = da.data['D_name']\n",
    "    plt.title('Dictionary: {}'.format(D_name))\n",
    "    show_fields(D, pos_only=True)\n",
    "\n",
    "# plt.savefig(os.path.join(output_dir, 'dict_and_rec.pdf'), dpi=300)"
   ]
  },
  {
   "cell_type": "code",
   "execution_count": null,
   "metadata": {
    "collapsed": false
   },
   "outputs": [],
   "source": [
    "plt.figure(figsize=(7, 4))\n",
    "# plt.suptitle('Reconstruction as a function of time for Sparse Image Prior')\n",
    "da = da_[spar_idx[1]]\n",
    "for i, ii in enumerate([None, 0, 14, 24, 59, 99]):\n",
    "    plt.subplot(2, 3, i + 1)\n",
    "    if i == 0:\n",
    "        da.plot_base_image()\n",
    "        plt.title('True Image')\n",
    "    else: \n",
    "        da.plot_image_estimate(ii)\n",
    "        plt.title('t = {} ms'.format(ii * 2 + 2))\n",
    "plt.tight_layout()\n",
    "# plt.savefig(os.path.join(output_dir, 'sparse_rec_time.png'), dpi=200)"
   ]
  },
  {
   "cell_type": "markdown",
   "metadata": {},
   "source": [
    "Plot of Dictionaries"
   ]
  },
  {
   "cell_type": "code",
   "execution_count": null,
   "metadata": {
    "collapsed": false
   },
   "outputs": [],
   "source": [
    "plt.figure(figsize=(12, 3))\n",
    "for i, q in enumerate([0, 20, 40]):\n",
    "    da = da_[q]\n",
    "    plt.subplot(1, 3, i + 1)\n",
    "\n",
    "    D = da.data['D']\n",
    "    D_name = da.data['D_name']\n",
    "    plt.title('Dictionary: {}'.format(D_name))\n",
    "    show_fields(D, pos_only=True)\n",
    "# plt.savefig(os.path.join(output_dir, 'dictionaries.png'), dpi=250)"
   ]
  },
  {
   "cell_type": "code",
   "execution_count": null,
   "metadata": {
    "collapsed": false
   },
   "outputs": [],
   "source": [
    "plt.figure(figsize=(3, 3))\n",
    "da.plot_tuning_curves()\n",
    "plt.tight_layout()\n",
    "# plt.savefig(os.path.join(output_dir, 'firing_rate.png'), dpi=200)"
   ]
  },
  {
   "cell_type": "code",
   "execution_count": null,
   "metadata": {
    "collapsed": true
   },
   "outputs": [],
   "source": []
  },
  {
   "cell_type": "code",
   "execution_count": null,
   "metadata": {
    "collapsed": true
   },
   "outputs": [],
   "source": []
  },
  {
   "cell_type": "code",
   "execution_count": null,
   "metadata": {
    "collapsed": true
   },
   "outputs": [],
   "source": []
  },
  {
   "cell_type": "code",
   "execution_count": null,
   "metadata": {
    "collapsed": true
   },
   "outputs": [],
   "source": []
  },
  {
   "cell_type": "code",
   "execution_count": null,
   "metadata": {
    "collapsed": true
   },
   "outputs": [],
   "source": []
  },
  {
   "cell_type": "code",
   "execution_count": null,
   "metadata": {
    "collapsed": true
   },
   "outputs": [],
   "source": []
  },
  {
   "cell_type": "code",
   "execution_count": null,
   "metadata": {
    "collapsed": true
   },
   "outputs": [],
   "source": []
  },
  {
   "cell_type": "code",
   "execution_count": null,
   "metadata": {
    "collapsed": true
   },
   "outputs": [],
   "source": []
  }
 ],
 "metadata": {
  "kernelspec": {
   "display_name": "Python 2",
   "language": "python",
   "name": "python2"
  },
  "language_info": {
   "codemirror_mode": {
    "name": "ipython",
    "version": 2
   },
   "file_extension": ".py",
   "mimetype": "text/x-python",
   "name": "python",
   "nbconvert_exporter": "python",
   "pygments_lexer": "ipython2",
   "version": "2.7.12"
  }
 },
 "nbformat": 4,
 "nbformat_minor": 0
}
