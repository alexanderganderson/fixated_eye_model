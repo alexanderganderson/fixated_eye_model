{
 "cells": [
  {
   "cell_type": "code",
   "execution_count": null,
   "metadata": {
    "collapsed": false
   },
   "outputs": [],
   "source": [
    "import os\n",
    "import numpy as np\n",
    "from context import src, utils\n",
    "from utils.rf_plot import show_fields\n",
    "from src.analyzer import DataAnalyzer\n",
    "import matplotlib.pyplot as plt\n",
    "%matplotlib inline\n",
    "plt.rcParams['image.interpolation'] = 'nearest'\n",
    "plt.rcParams['image.cmap'] = 'gray'\n",
    "output_dir = '../output/motion_benefit4'\n",
    "\n",
    "plt.rcParams['font.size'] = 7\n",
    "\n",
    "from matplotlib.ticker import MaxNLocator"
   ]
  },
  {
   "cell_type": "code",
   "execution_count": null,
   "metadata": {
    "collapsed": true
   },
   "outputs": [],
   "source": [
    "# output_dir = 'output/sparsity'"
   ]
  },
  {
   "cell_type": "code",
   "execution_count": null,
   "metadata": {
    "collapsed": false
   },
   "outputs": [],
   "source": [
    "pkl_fns = [os.path.join(output_dir, fn) \n",
    "           for fn in os.listdir(output_dir) \n",
    "           if fn.endswith('.h5')]\n",
    "pkl_fns.sort()\n",
    "len(pkl_fns)"
   ]
  },
  {
   "cell_type": "code",
   "execution_count": null,
   "metadata": {
    "collapsed": false
   },
   "outputs": [],
   "source": [
    "# import pickle as pkl\n",
    "# from utils.h5py_utils import save_dict\n",
    "\n",
    "# pkl_fns = [os.path.join(output_dir, fn) \n",
    "#            for fn in os.listdir(output_dir) \n",
    "#            if fn.endswith('.pkl')]\n",
    "# pkl_fns.sort()\n",
    "# len(pkl_fns)\n",
    "\n",
    "# for pkl_fn in pkl_fns:\n",
    "#     print pkl_fn\n",
    "#     with open(pkl_fn, 'rb') as f:\n",
    "#         data = pkl.load(f)\n",
    "#     save_fn = pkl_fn.replace('pkl', 'h5')\n",
    "#     save_dict(save_fn, data)"
   ]
  },
  {
   "cell_type": "code",
   "execution_count": null,
   "metadata": {
    "collapsed": false
   },
   "outputs": [],
   "source": [
    "da_ = [DataAnalyzer.fromfilename(pkl_fn) for pkl_fn in pkl_fns[21:25]]"
   ]
  },
  {
   "cell_type": "code",
   "execution_count": null,
   "metadata": {
    "collapsed": false
   },
   "outputs": [],
   "source": [
    "da = da_[1]"
   ]
  },
  {
   "cell_type": "code",
   "execution_count": null,
   "metadata": {
    "collapsed": false
   },
   "outputs": [],
   "source": [
    "# fp = da.data['FP']\n",
    "\n",
    "# plt.hist(fp.ravel(), bins=50)\n",
    "# plt.yscale('log')"
   ]
  },
  {
   "cell_type": "code",
   "execution_count": null,
   "metadata": {
    "collapsed": false
   },
   "outputs": [],
   "source": [
    "# ax = plt.axes()\n",
    "# ips = da.data['Ips'][0, :, 50]\n",
    "# xe = da.data['XE']\n",
    "# ye = da.data['YE']\n",
    "# ie = da.data['IE']\n",
    "# de = da.data['de']\n",
    "\n",
    "# m = abs(ips).max()\n",
    "\n",
    "# for x, y, i, val in zip(xe, ye, ie, ips):\n",
    "#     ax.add_patch(plt.Circle((x, -y), de * 0.203, alpha=val/m))\n",
    "\n",
    "# rng = max(max(xe), max(ye))\n",
    "# ax.set_xlim([-rng, rng])\n",
    "# ax.set_ylim([-rng, rng])\n",
    "# ax.set_aspect('equal')"
   ]
  },
  {
   "cell_type": "code",
   "execution_count": null,
   "metadata": {
    "collapsed": false
   },
   "outputs": [],
   "source": [
    "fig, axes = plt.subplots(nrows=1, ncols=3, sharey=False,\n",
    "                         figsize=(3, 1.2))\n",
    "\n",
    "for i, q in enumerate([9, 69, 139]):\n",
    "    ax = axes[i]\n",
    "    colorbar = i == 2\n",
    "    colorbar = False\n",
    "    da.plot_image_estimate(fig, ax, q=q,\n",
    "                           colorbar=colorbar)\n",
    "    t = da.data['EM_data/{}/time_steps'.format(q)]\n",
    "    ax.set_title('T = {} ms'.format(t), fontsize=7)\n",
    "    ax.xaxis.set_visible(False)\n",
    "    ax.yaxis.set_visible(False)\n",
    "\n",
    "\n",
    "plt.tight_layout()\n",
    "\n",
    "plt.savefig('../output/improvement.pdf')"
   ]
  },
  {
   "cell_type": "code",
   "execution_count": null,
   "metadata": {
    "collapsed": false
   },
   "outputs": [],
   "source": [
    "fig, axes = plt.subplots(nrows=1, ncols=2, sharey=True,\n",
    "                         figsize=(2.1, 1))\n",
    "\n",
    "for i in range(2):\n",
    "    ax = axes[i]\n",
    "    da.plot_path_estimate(ax, q, i)\n",
    "    ax.set_title('')\n",
    "    ax.set_ylabel('')\n",
    "    start, end = ax.get_xlim()\n",
    "    ax.xaxis.set_ticks([0, .7])\n",
    "    ax.set_xlabel('')\n",
    "axes[0].yaxis.set_ticks([-6, 6])\n",
    "plt.tight_layout()\n",
    "plt.savefig('../output/path.pdf')"
   ]
  },
  {
   "cell_type": "code",
   "execution_count": null,
   "metadata": {
    "collapsed": false,
    "scrolled": true
   },
   "outputs": [],
   "source": [
    "fig, axes = da.plot_em_estimate(139, figsize=(3.5, 5))\n",
    "\n",
    "axes[2][1].set_ylabel('')\n",
    "\n",
    "\n",
    "axes[0][0].set_ylabel('Position (arcmin)')\n",
    "axes[1][0].set_ylabel('Position (arcmin)')\n",
    "\n",
    "start, stop = axes[0][1].get_xlim()\n",
    "ticks = np.arange(start, stop + 0.5, 2)\n",
    "axes[0][1].set_xticks(ticks)\n",
    "axes[0][1].set_yticks(ticks)\n",
    "\n",
    "plt.tight_layout()\n",
    "plt.savefig('../output/example.pdf')\n",
    "# for _ in axes.flat:\n",
    "#     pass"
   ]
  },
  {
   "cell_type": "code",
   "execution_count": null,
   "metadata": {
    "collapsed": true
   },
   "outputs": [],
   "source": []
  },
  {
   "cell_type": "code",
   "execution_count": null,
   "metadata": {
    "collapsed": false
   },
   "outputs": [],
   "source": [
    "fig, axes = da_[0].plot_em_estimate(139, figsize=(3.5, 5.5))\n",
    "\n",
    "plt.suptitle('asdfadfasdfhi')\n",
    "\n",
    "axes[2][1].set_ylabel('')\n",
    "\n",
    "\n",
    "axes[0][0].set_ylabel('Position (arcmin)')\n",
    "axes[1][0].set_ylabel('Position (arcmin)')\n",
    "\n",
    "start, stop = axes[0][1].get_xlim()\n",
    "ticks = np.arange(start, stop + 0.5, 2)\n",
    "axes[0][1].set_xticks(ticks)\n",
    "axes[0][1].set_yticks(ticks)\n",
    "\n",
    "\n",
    "plt.tight_layout()\n",
    "# plt.savefig('output/example.pdf')\n",
    "# for _ in axes.flat:\n",
    "#     pass"
   ]
  },
  {
   "cell_type": "code",
   "execution_count": null,
   "metadata": {
    "collapsed": false
   },
   "outputs": [],
   "source": [
    "fig, ax = plt.subplots(figsize=(0.75, 0.75))\n",
    "ax.set_xlabel(None, fontsize=7)\n",
    "ax.set_ylabel(None, fontsize=7)\n",
    "\n",
    "ax.xaxis.set_ticks_position('bottom')\n",
    "ax.yaxis.set_ticks_position('left')\n",
    "\n",
    "\n",
    "\n",
    "# ax.get_xaxis().set_ticks([])\n",
    "start, stop = ax.get_xlim()\n",
    "xres = 0.5\n",
    "ticks = np.arange(start, stop + xres, xres)\n",
    "ax.set_xticks(ticks)\n",
    "\n",
    "for tick in ax.xaxis.get_major_ticks():\n",
    "    tick.label.set_fontsize(7)\n",
    "for tick in ax.yaxis.get_major_ticks():\n",
    "    tick.label.set_fontsize(7)\n",
    "\n",
    "    \n",
    "da.plot_tuning_curves()\n",
    "\n",
    "start, stop = ax.get_ylim()\n",
    "xres = 40\n",
    "ticks = [10, 50, 100]\n",
    "ax.set_yticks(ticks)\n",
    "\n",
    "ax.set_ylabel('')\n",
    "ax.set_xlabel('')\n",
    "\n",
    "ax.legend().set_visible(False)\n",
    "ax.title.set_fontsize(7)\n",
    "plt.tight_layout(pad=0.3)\n",
    "plt.savefig('../output/firing_rates.pdf')"
   ]
  },
  {
   "cell_type": "code",
   "execution_count": null,
   "metadata": {
    "collapsed": true
   },
   "outputs": [],
   "source": [
    "save_dir = '../output/spike_video/'\n",
    "\n",
    "if not os.path.exists(save_dir):\n",
    "    os.makedirs(save_dir)"
   ]
  },
  {
   "cell_type": "code",
   "execution_count": null,
   "metadata": {
    "collapsed": false
   },
   "outputs": [],
   "source": [
    "%%time\n",
    "da.plot_image_and_rfs(alpha_rf=0.25)"
   ]
  },
  {
   "cell_type": "code",
   "execution_count": null,
   "metadata": {
    "collapsed": false
   },
   "outputs": [],
   "source": [
    "for i, q in enumerate(range(0, da.N_T, 1)):\n",
    "# for i, q in enumerate(range(0, 1, 1)):\n",
    "    print 'Creating figure {:04d}'.format(q)\n",
    "    da.plot_moving_image_and_spikes(q)\n",
    "    plt.suptitle('Image Projected on the Retina and Generated Spikes at t = {:03d} ms'.format(q))\n",
    "    plt.savefig(os.path.join(save_dir, 'img_{:04d}'.format(i)))\n",
    "    plt.close()"
   ]
  },
  {
   "cell_type": "markdown",
   "metadata": {
    "collapsed": true
   },
   "source": [
    "To synthesize the different png files run:\n",
    "\n",
    "`\n",
    "avconv -framerate 20 -i img_%04d.png -c:v libx264 -r 30 video/out.mp4\n",
    "`"
   ]
  },
  {
   "cell_type": "code",
   "execution_count": null,
   "metadata": {
    "collapsed": true
   },
   "outputs": [],
   "source": [
    "def plot_em_estimate(self, q, figsize=None):\n",
    "    \"\"\"Visualize the results after iteration q.\"\"\"\n",
    "    if q == -1:\n",
    "        q = self.N_itr - 1\n",
    "\n",
    "    n_time_steps = self.data['EM_data/{}/time_steps'.format(q)]\n",
    "    t_ms = self.DT * n_time_steps * 1000.\n",
    "\n",
    "    if figsize is None:\n",
    "        figsize=(3.5, 5)\n",
    "    fig, ax = plt.subplots(nrows=2, ncols=3, figsize=figsize)\n",
    "    #  fig.suptitle('EM Reconstruction after t = {} ms'.format(t_ms))\n",
    "\n",
    "    self.plot_spikes(ax[0][1], n_time_steps - 1, mode='ON')\n",
    "\n",
    "    self.plot_spikes(ax[1][1], n_time_steps - 1, mode='OFF')\n",
    "\n",
    "    self.plot_image_estimate(fig, ax[1][0], q, cmap=plt.cm.gray_r)\n",
    "\n",
    "    self.plot_image_and_rfs(fig, ax=ax[0][0], legend=False, q=n_time_steps - 1, alpha_rf=0.25)\n",
    "    ax[0][0].set_title('Pattern with Cone RFs')\n",
    "\n",
    "    self.plot_path_estimate(ax[0][2], q, 0)\n",
    "    self.plot_path_estimate(ax[0][2], q, 1)\n",
    "\n",
    "    for u in [0, 1]:\n",
    "        ax_ = ax[u][2]\n",
    "        ax_.xaxis.set_major_locator(MaxNLocator(2))\n",
    "        \n",
    "    u0, v0 = ax[0][2].get_ylim()\n",
    "    u1, v1 = ax[1][2].get_ylim()\n",
    "\n",
    "    for u in [0, 1]:\n",
    "        ax[u][2].set_ylim(min(u0, u1), max(v0, v1))\n",
    "\n",
    "\n",
    "\n",
    "#     axes[2][1].set_ylabel('')\n",
    "\n",
    "\n",
    "    ax[0][0].set_ylabel('Position (arcmin)')\n",
    "    ax[0][1].set_ylabel('Position (arcmin)')\n",
    "    ax[1][1].set_ylabel('Position (arcmin)')\n",
    "\n",
    "#     start, stop = axes[0][1].get_xlim()\n",
    "#     ticks = np.arange(start, stop + 0.5, 2)\n",
    "#     axes[0][1].set_xticks(ticks)\n",
    "#     axes[0][1].set_yticks(ticks)\n",
    "\n",
    "\n",
    "    plt.tight_layout()\n",
    "    plt.subplots_adjust(top=0.85)\n",
    "\n",
    "    return fig, ax"
   ]
  },
  {
   "cell_type": "code",
   "execution_count": null,
   "metadata": {
    "collapsed": false
   },
   "outputs": [],
   "source": [
    "for i, q in enumerate(range(0, da.N_T, 1)):\n",
    "# for i, q in enumerate(range(2)):\n",
    "    print 'Creating figure {:04d}'.format(q)    \n",
    "    fig, axes = plot_em_estimate(da, q, figsize=(6, 4.5))\n",
    "    plt.suptitle('Image Projected on the Retina and Generated Spikes at t = {:03d} ms'.format((q+1) * 5), fontsize=10)\n",
    "    plt.savefig(os.path.join(save_dir, 'img_rec_{:04d}.png'.format(i)), dpi=200)\n",
    "    plt.close()"
   ]
  },
  {
   "cell_type": "markdown",
   "metadata": {},
   "source": [
    "r\"\"\"\n",
    "avconv -framerate 20 -i img_rec_%04d.png -c:v libx264 -r 30 video/out_rec.mp4\n",
    "\"\"\"\n"
   ]
  },
  {
   "cell_type": "code",
   "execution_count": null,
   "metadata": {
    "collapsed": true
   },
   "outputs": [],
   "source": []
  },
  {
   "cell_type": "markdown",
   "metadata": {
    "collapsed": true
   },
   "source": [
    "# Motion Prior"
   ]
  },
  {
   "cell_type": "code",
   "execution_count": null,
   "metadata": {
    "collapsed": true
   },
   "outputs": [],
   "source": [
    "output_dir = '../output/natural_sparsity_van_hateren3'"
   ]
  },
  {
   "cell_type": "code",
   "execution_count": null,
   "metadata": {
    "collapsed": false
   },
   "outputs": [],
   "source": [
    "pkl_fns = [os.path.join(output_dir, fn) \n",
    "           for fn in os.listdir(output_dir) \n",
    "           if fn.endswith('.pkl')]\n",
    "pkl_fns.sort()\n",
    "len(pkl_fns)"
   ]
  },
  {
   "cell_type": "code",
   "execution_count": null,
   "metadata": {
    "collapsed": true
   },
   "outputs": [],
   "source": [
    "da_ = [DataAnalyzer.fromfilename(pkl_fn) for pkl_fn in pkl_fns]"
   ]
  },
  {
   "cell_type": "code",
   "execution_count": null,
   "metadata": {
    "collapsed": true
   },
   "outputs": [],
   "source": [
    "da = da_[7]"
   ]
  },
  {
   "cell_type": "code",
   "execution_count": null,
   "metadata": {
    "collapsed": true
   },
   "outputs": [],
   "source": [
    "save_dir = '../output/natural_spike_video/'\n",
    "\n",
    "if not os.path.exists(save_dir):\n",
    "    os.makedirs(save_dir)"
   ]
  },
  {
   "cell_type": "code",
   "execution_count": null,
   "metadata": {
    "collapsed": false
   },
   "outputs": [],
   "source": [
    "A = da.data['EM_data/{}/coeff_est'.format(i)]\n",
    "D = da.data['D']"
   ]
  },
  {
   "cell_type": "code",
   "execution_count": null,
   "metadata": {
    "collapsed": false
   },
   "outputs": [],
   "source": [
    "_ = plt.hist(A, bins=50)"
   ]
  },
  {
   "cell_type": "code",
   "execution_count": null,
   "metadata": {
    "collapsed": true
   },
   "outputs": [],
   "source": [
    "def equalize_ys(ax0, ax1):\n",
    "    u0, v0 = ax0.get_ylim()\n",
    "    u1, v1 = ax1.get_ylim()\n",
    "    for ax in [ax0, ax1]:\n",
    "        ax.set_ylim(min(u0, u1), max(v0, v1))"
   ]
  },
  {
   "cell_type": "code",
   "execution_count": null,
   "metadata": {
    "collapsed": true
   },
   "outputs": [],
   "source": [
    "def plot_em_estimate_dict(self, q, figsize=None):\n",
    "    \"\"\"Visualize the results after iteration q.\"\"\"\n",
    "    if q == -1:\n",
    "        q = self.N_itr - 1\n",
    "\n",
    "    n_time_steps = self.data['EM_data/{}/time_steps'.format(q)]\n",
    "    t_ms = self.DT * n_time_steps * 1000.\n",
    "#     fig, axes = plt.subplots(nrows=2, ncols=3, figsize=figsize)\n",
    "\n",
    "    fig = plt.figure(figsize=(8, 4))\n",
    "    shape = (4, 8)\n",
    "    ax1 = plt.subplot2grid(shape, (0, 0), rowspan=2, colspan=2)\n",
    "    ax2 = plt.subplot2grid(shape, (2, 0), rowspan=2, colspan=2)\n",
    "    ax3 = plt.subplot2grid(shape, (2, 2), rowspan=2, colspan=2)\n",
    "#     ax4 = plt.subplot2grid(shape, (3, 2), rowspan=1, colspan=2)\n",
    "\n",
    "    ax5 = plt.subplot2grid(shape, (0, 2), rowspan=2, colspan=2)\n",
    "    ax6 = plt.subplot2grid(shape, (0, 4), rowspan=4, colspan=4)\n",
    "\n",
    "#     axes = [ax1, ax2, ax3, ax4, ax5]\n",
    "\n",
    "\n",
    "\n",
    "    #  fig.suptitle('EM Reconstruction after t = {} ms'.format(t_ms))\n",
    "\n",
    "    ax = ax5\n",
    "    self.plot_spikes(ax, n_time_steps - 1, mode='ON')\n",
    "\n",
    "#     self.plot_spikes(ax, n_time_steps - 1, mode='OFF')\n",
    "\n",
    "    ax = ax2\n",
    "    self.plot_image_estimate(fig, ax, q, cmap=plt.cm.gray_r, colorbar=False)\n",
    "    \n",
    "    ax = ax1\n",
    "    self.plot_image_and_rfs(fig, ax=ax, legend=False, q=n_time_steps - 1, alpha_rf=0.25)\n",
    "    ax.set_title('Pattern with Cone RFs')\n",
    "\n",
    "    ax = ax3\n",
    "    self.plot_path_estimate(ax, q, 0)\n",
    "#     ax.set_xlabel('')\n",
    "    ax.set_ylabel('')\n",
    "#     ax.xaxis.set_visible(False)\n",
    "    ax = ax3\n",
    "    self.plot_path_estimate(ax, q, 1)\n",
    "    ax.set_ylabel('')\n",
    "    ax.set_title('X and Y Positions')\n",
    "    \n",
    "#     for ax in [ax3, ax4]:\n",
    "    for ax in [ax3]:\n",
    "        ax.xaxis.set_major_locator(MaxNLocator(2))\n",
    "        \n",
    "#     equalize_ys(ax3, ax4)\n",
    "\n",
    "\n",
    "    ax = ax6\n",
    "\n",
    "    A = self.data['EM_data/{}/coeff_est'.format(q)]\n",
    "    D = self.data['D']\n",
    "    sort_idx = np.argsort(np.abs(A))[::-1]\n",
    "    n_active = np.sum(np.abs(A) > 0.5)\n",
    "\n",
    "    active_idx = sort_idx[0:n_active]\n",
    "\n",
    "    n_sp = D.shape[0]\n",
    "#     ax.set_title('Histogram of sparse Coefficients: \\n Percentage of active coefficients {:.0f}%'.format(\n",
    "#             100. * n_active / n_sp))\n",
    "#     ax.set_xlabel('Coefficient Activity')\n",
    "\n",
    "    show_fields(D[active_idx] *\n",
    "                A[active_idx][:, np.newaxis], fig=fig, ax=ax,\n",
    "                cmap = plt.cm.gray, pos_only = False, colorbar=False)\n",
    "    ax.set_title('Receptive Fields of Active Neurons \\n Scaled by their Activations')\n",
    "    \n",
    "\n",
    "    plt.tight_layout()\n",
    "    plt.subplots_adjust(top=0.85)\n",
    "\n",
    "    return fig, ax"
   ]
  },
  {
   "cell_type": "code",
   "execution_count": null,
   "metadata": {
    "collapsed": true
   },
   "outputs": [],
   "source": [
    "from time import time"
   ]
  },
  {
   "cell_type": "code",
   "execution_count": null,
   "metadata": {
    "collapsed": false
   },
   "outputs": [],
   "source": [
    "t0 = time()\n",
    "for i in range(da.N_itr):\n",
    "    t1, t0 = (time(), t1)\n",
    "    print i, t1 - t0\n",
    "    fig, axes = plot_em_estimate_dict(da, i, figsize=(6, 4.5))\n",
    "    plt.suptitle('Pattern and Trajectory Reconstruction using Sparsely Activated Neurons at t = {:03d} ms'.format((i+1) * 5), fontsize=10)\n",
    "    plt.savefig(os.path.join(save_dir, 'img_{:04d}'.format(i)), dpi=200)\n",
    "    plt.close()"
   ]
  },
  {
   "cell_type": "code",
   "execution_count": null,
   "metadata": {
    "collapsed": true
   },
   "outputs": [],
   "source": [
    "r\"\"\"\n",
    "mkdir video\n",
    "avconv -framerate 10 -i img_%04d.png -c:v libx264 -r 30 video/sparse_rec.mp4\n",
    "\"\"\""
   ]
  },
  {
   "cell_type": "code",
   "execution_count": null,
   "metadata": {
    "collapsed": false
   },
   "outputs": [],
   "source": [
    "fig, axes = plt.subplots(1, 2, figsize=(20, 10))\n",
    "\n",
    "i = 102\n",
    "\n",
    "A = da.data['EM_data/{}/coeff_est'.format(i)]\n",
    "D = da.data['D']\n",
    "\n",
    "ax = axes[0]\n",
    "ax.hist(A, bins=100)\n",
    "\n",
    "sort_idx = np.argsort(np.abs(A))[::-1]\n",
    "n_active = np.sum(np.abs(A) > 0.5)\n",
    "\n",
    "active_idx = sort_idx[0:n_active]\n",
    "\n",
    "n_sp = D.shape[0]\n",
    "ax.set_title('Histogram of sparse Coefficients: \\n Percentage of active coefficients {:.0f}%'.format(\n",
    "        100. * n_active / n_sp))\n",
    "ax.set_xlabel('Coefficient Activity')\n",
    "\n",
    "ax = axes[1]\n",
    "show_fields(D[active_idx] *\n",
    "            A[active_idx][:, np.newaxis], fig=fig, ax=ax,\n",
    "            cmap = plt.cm.gray, pos_only = False, colorbar=False)\n",
    "ax.set_title('Active Dictionary Elements \\n Scaled by their activations')"
   ]
  },
  {
   "cell_type": "code",
   "execution_count": null,
   "metadata": {
    "collapsed": true
   },
   "outputs": [],
   "source": []
  },
  {
   "cell_type": "code",
   "execution_count": null,
   "metadata": {
    "collapsed": true
   },
   "outputs": [],
   "source": []
  }
 ],
 "metadata": {
  "kernelspec": {
   "display_name": "Python 2",
   "language": "python",
   "name": "python2"
  },
  "language_info": {
   "codemirror_mode": {
    "name": "ipython",
    "version": 2
   },
   "file_extension": ".py",
   "mimetype": "text/x-python",
   "name": "python",
   "nbconvert_exporter": "python",
   "pygments_lexer": "ipython2",
   "version": "2.7.12"
  }
 },
 "nbformat": 4,
 "nbformat_minor": 0
}
