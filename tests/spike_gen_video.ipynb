{
 "cells": [
  {
   "cell_type": "code",
   "execution_count": null,
   "metadata": {
    "collapsed": false
   },
   "outputs": [],
   "source": [
    "cd .."
   ]
  },
  {
   "cell_type": "code",
   "execution_count": null,
   "metadata": {
    "collapsed": false
   },
   "outputs": [],
   "source": [
    "import os\n",
    "import numpy as np\n",
    "from src.analyzer import DataAnalyzer\n",
    "import matplotlib.pyplot as plt\n",
    "%matplotlib inline\n",
    "plt.rcParams['image.interpolation'] = 'nearest'\n",
    "plt.rcParams['image.cmap'] = 'gray'\n",
    "output_dir = 'output/motion_benefit4'"
   ]
  },
  {
   "cell_type": "code",
   "execution_count": null,
   "metadata": {
    "collapsed": true
   },
   "outputs": [],
   "source": [
    "# output_dir = 'output/sparsity'"
   ]
  },
  {
   "cell_type": "code",
   "execution_count": null,
   "metadata": {
    "collapsed": false
   },
   "outputs": [],
   "source": [
    "pkl_fns = [os.path.join(output_dir, fn) \n",
    "           for fn in os.listdir(output_dir) \n",
    "           if fn.endswith('.pkl')]\n",
    "pkl_fns.sort()\n",
    "len(pkl_fns)"
   ]
  },
  {
   "cell_type": "code",
   "execution_count": null,
   "metadata": {
    "collapsed": true
   },
   "outputs": [],
   "source": [
    "da_ = [DataAnalyzer.fromfilename(pkl_fn) for pkl_fn in pkl_fns[21:25]]"
   ]
  },
  {
   "cell_type": "code",
   "execution_count": null,
   "metadata": {
    "collapsed": false
   },
   "outputs": [],
   "source": [
    "da = da_[1]"
   ]
  },
  {
   "cell_type": "code",
   "execution_count": null,
   "metadata": {
    "collapsed": false
   },
   "outputs": [],
   "source": [
    "# fp = da.data['FP']\n",
    "\n",
    "# plt.hist(fp.ravel(), bins=50)\n",
    "# plt.yscale('log')"
   ]
  },
  {
   "cell_type": "code",
   "execution_count": null,
   "metadata": {
    "collapsed": false
   },
   "outputs": [],
   "source": [
    "# ax = plt.axes()\n",
    "# ips = da.data['Ips'][0, :, 50]\n",
    "# xe = da.data['XE']\n",
    "# ye = da.data['YE']\n",
    "# ie = da.data['IE']\n",
    "# de = da.data['de']\n",
    "\n",
    "# m = abs(ips).max()\n",
    "\n",
    "# for x, y, i, val in zip(xe, ye, ie, ips):\n",
    "#     ax.add_patch(plt.Circle((x, -y), de * 0.203, alpha=val/m))\n",
    "\n",
    "# rng = max(max(xe), max(ye))\n",
    "# ax.set_xlim([-rng, rng])\n",
    "# ax.set_ylim([-rng, rng])\n",
    "# ax.set_aspect('equal')"
   ]
  },
  {
   "cell_type": "code",
   "execution_count": null,
   "metadata": {
    "collapsed": false
   },
   "outputs": [],
   "source": [
    "plt.rcParams['font.size'] = 7"
   ]
  },
  {
   "cell_type": "code",
   "execution_count": null,
   "metadata": {
    "collapsed": false
   },
   "outputs": [],
   "source": [
    "fig, axes = plt.subplots(nrows=1, ncols=3, sharey=False,\n",
    "                         figsize=(3, 1.2))\n",
    "\n",
    "for i, q in enumerate([9, 69, 139]):\n",
    "    ax = axes[i]\n",
    "    colorbar = i == 2\n",
    "    colorbar = False\n",
    "    da.plot_image_estimate(fig, ax, q=q,\n",
    "                           colorbar=colorbar)\n",
    "    t = da.data['EM_data'][q]['time_steps']\n",
    "    ax.set_title('T = {} ms'.format(t), fontsize=7)\n",
    "    ax.xaxis.set_visible(False)\n",
    "    ax.yaxis.set_visible(False)\n",
    "\n",
    "\n",
    "plt.tight_layout()\n",
    "\n",
    "plt.savefig('output/improvement.pdf')"
   ]
  },
  {
   "cell_type": "code",
   "execution_count": null,
   "metadata": {
    "collapsed": false
   },
   "outputs": [],
   "source": [
    "fig, axes = plt.subplots(nrows=1, ncols=2, sharey=True,\n",
    "                         figsize=(2.1, 1))\n",
    "\n",
    "for i in range(2):\n",
    "    ax = axes[i]\n",
    "    da.plot_path_estimate(ax, q, i)\n",
    "    ax.set_title('')\n",
    "    ax.set_ylabel('')\n",
    "    start, end = ax.get_xlim()\n",
    "    ax.xaxis.set_ticks([0, .7])\n",
    "    ax.set_xlabel('')\n",
    "axes[0].yaxis.set_ticks([-6, 6])\n",
    "plt.tight_layout()\n",
    "plt.savefig('output/path.pdf')"
   ]
  },
  {
   "cell_type": "code",
   "execution_count": null,
   "metadata": {
    "collapsed": true
   },
   "outputs": [],
   "source": []
  },
  {
   "cell_type": "code",
   "execution_count": null,
   "metadata": {
    "collapsed": true
   },
   "outputs": [],
   "source": []
  },
  {
   "cell_type": "code",
   "execution_count": null,
   "metadata": {
    "collapsed": false,
    "scrolled": true
   },
   "outputs": [],
   "source": [
    "fig, axes = da.plot_em_estimate(139, figsize=(3.5, 5))\n",
    "\n",
    "axes[2][1].set_ylabel('')\n",
    "\n",
    "\n",
    "axes[0][0].set_ylabel('Position (arcmin)')\n",
    "axes[1][0].set_ylabel('Position (arcmin)')\n",
    "\n",
    "start, stop = axes[0][1].get_xlim()\n",
    "ticks = np.arange(start, stop + 0.5, 2)\n",
    "axes[0][1].set_xticks(ticks)\n",
    "axes[0][1].set_yticks(ticks)\n",
    "\n",
    "plt.tight_layout()\n",
    "plt.savefig('output/example.pdf')\n",
    "# for _ in axes.flat:\n",
    "#     pass"
   ]
  },
  {
   "cell_type": "code",
   "execution_count": null,
   "metadata": {
    "collapsed": true
   },
   "outputs": [],
   "source": []
  },
  {
   "cell_type": "code",
   "execution_count": null,
   "metadata": {
    "collapsed": true
   },
   "outputs": [],
   "source": []
  },
  {
   "cell_type": "code",
   "execution_count": null,
   "metadata": {
    "collapsed": true
   },
   "outputs": [],
   "source": []
  },
  {
   "cell_type": "code",
   "execution_count": null,
   "metadata": {
    "collapsed": false
   },
   "outputs": [],
   "source": [
    "fig, axes = plot_em_estimate(da, 139, figsize=(3.5, 5.5))\n",
    "\n",
    "plt.suptitle('asdfadfasdfhi')\n",
    "\n",
    "axes[2][1].set_ylabel('')\n",
    "\n",
    "\n",
    "axes[0][0].set_ylabel('Position (arcmin)')\n",
    "axes[1][0].set_ylabel('Position (arcmin)')\n",
    "\n",
    "start, stop = axes[0][1].get_xlim()\n",
    "ticks = np.arange(start, stop + 0.5, 2)\n",
    "axes[0][1].set_xticks(ticks)\n",
    "axes[0][1].set_yticks(ticks)\n",
    "\n",
    "\n",
    "plt.tight_layout()\n",
    "# plt.savefig('output/example.pdf')\n",
    "# for _ in axes.flat:\n",
    "#     pass"
   ]
  },
  {
   "cell_type": "code",
   "execution_count": null,
   "metadata": {
    "collapsed": true
   },
   "outputs": [],
   "source": []
  },
  {
   "cell_type": "code",
   "execution_count": null,
   "metadata": {
    "collapsed": true
   },
   "outputs": [],
   "source": []
  },
  {
   "cell_type": "code",
   "execution_count": null,
   "metadata": {
    "collapsed": true
   },
   "outputs": [],
   "source": []
  },
  {
   "cell_type": "code",
   "execution_count": null,
   "metadata": {
    "collapsed": true
   },
   "outputs": [],
   "source": []
  },
  {
   "cell_type": "code",
   "execution_count": null,
   "metadata": {
    "collapsed": false
   },
   "outputs": [],
   "source": [
    "fig, ax = plt.subplots(figsize=(0.75, 0.75))\n",
    "ax.set_xlabel(None, fontsize=7)\n",
    "ax.set_ylabel(None, fontsize=7)\n",
    "\n",
    "ax.xaxis.set_ticks_position('bottom')\n",
    "ax.yaxis.set_ticks_position('left')\n",
    "\n",
    "\n",
    "\n",
    "# ax.get_xaxis().set_ticks([])\n",
    "start, stop = ax.get_xlim()\n",
    "xres = 0.5\n",
    "ticks = np.arange(start, stop + xres, xres)\n",
    "ax.set_xticks(ticks)\n",
    "\n",
    "for tick in ax.xaxis.get_major_ticks():\n",
    "    tick.label.set_fontsize(7)\n",
    "for tick in ax.yaxis.get_major_ticks():\n",
    "    tick.label.set_fontsize(7)\n",
    "\n",
    "    \n",
    "da.plot_tuning_curves()\n",
    "\n",
    "start, stop = ax.get_ylim()\n",
    "xres = 40\n",
    "ticks = [10, 50, 100]\n",
    "ax.set_yticks(ticks)\n",
    "\n",
    "ax.set_ylabel('')\n",
    "ax.set_xlabel('')\n",
    "\n",
    "ax.legend().set_visible(False)\n",
    "ax.title.set_fontsize(7)\n",
    "plt.tight_layout(pad=0.3)\n",
    "plt.savefig('output/firing_rates.pdf')"
   ]
  },
  {
   "cell_type": "code",
   "execution_count": null,
   "metadata": {
    "collapsed": true
   },
   "outputs": [],
   "source": [
    "save_dir = 'output/spike_video/'"
   ]
  },
  {
   "cell_type": "code",
   "execution_count": null,
   "metadata": {
    "collapsed": true
   },
   "outputs": [],
   "source": [
    "if not os.path.exists(save_dir):\n",
    "    os.makedirs(save_dir)"
   ]
  },
  {
   "cell_type": "code",
   "execution_count": null,
   "metadata": {
    "collapsed": false
   },
   "outputs": [],
   "source": [
    "da.plot_image_and_rfs(alpha_rf=0.25)"
   ]
  },
  {
   "cell_type": "code",
   "execution_count": null,
   "metadata": {
    "collapsed": false
   },
   "outputs": [],
   "source": [
    "for i, q in enumerate(range(0, da.N_T, 1)):\n",
    "# for i, q in enumerate(range(0, 1, 1)):\n",
    "    print 'Creating figure {:04d}'.format(q)\n",
    "    da.plot_moving_image_and_spikes(q)\n",
    "    plt.suptitle('Image Projected on the Retina and Generated Spikes at t = {:03d} ms'.format(q))\n",
    "    plt.savefig(os.path.join(save_dir, 'img_{:04d}'.format(i)))\n",
    "    plt.close()"
   ]
  },
  {
   "cell_type": "markdown",
   "metadata": {
    "collapsed": true
   },
   "source": [
    "To synthesize the different png files run:\n",
    "\n",
    "`\n",
    "avconv -framerate 20 -i img_%04d.png -c:v libx264 -r 30 video/out.mp4\n",
    "`"
   ]
  },
  {
   "cell_type": "code",
   "execution_count": null,
   "metadata": {
    "collapsed": true
   },
   "outputs": [],
   "source": [
    "def plot_em_estimate(self, q, figsize=None):\n",
    "    \"\"\"Visualize the results after iteration q.\"\"\"\n",
    "    if q == -1:\n",
    "        q = self.N_itr - 1\n",
    "\n",
    "    n_time_steps = self.data['EM_data'][q]['time_steps']\n",
    "    t_ms = self.DT * n_time_steps * 1000.\n",
    "\n",
    "    if figsize is None:\n",
    "        figsize=(3.5, 5)\n",
    "    fig, ax = plt.subplots(nrows=2, ncols=3, figsize=figsize)\n",
    "    #  fig.suptitle('EM Reconstruction after t = {} ms'.format(t_ms))\n",
    "\n",
    "    self.plot_spikes(ax[0][1], n_time_steps - 1, mode='ON')\n",
    "\n",
    "    self.plot_spikes(ax[1][1], n_time_steps - 1, mode='OFF')\n",
    "\n",
    "    self.plot_image_estimate(fig, ax[1][0], q, cmap=plt.cm.gray_r)\n",
    "\n",
    "    self.plot_image_and_rfs(fig, ax=ax[0][0], legend=False, q=n_time_steps - 1)\n",
    "    ax[0][0].set_title('Pattern with Cone RFs')\n",
    "\n",
    "    self.plot_path_estimate(ax[0][2], q, 0)\n",
    "\n",
    "    self.plot_path_estimate(ax[1][2], q, 1)\n",
    "\n",
    "    for u in [0, 1]:\n",
    "        ax_ = ax[u][2]\n",
    "        start, stop = ax_.get_xlim()\n",
    "        ticks = np.arange(start, stop + 0.1, (stop - start) / 2)\n",
    "        ax_.set_xticks(ticks)\n",
    "\n",
    "        \n",
    "        \n",
    "    u0, v0 = ax[0][2].get_ylim()\n",
    "    u1, v1 = ax[1][2].get_ylim()\n",
    "\n",
    "    for u in [0, 1]:\n",
    "        ax[u][2].set_ylim(min(u0, u1), max(v0, v1))\n",
    "\n",
    "\n",
    "\n",
    "#     axes[2][1].set_ylabel('')\n",
    "\n",
    "\n",
    "    ax[0][0].set_ylabel('Position (arcmin)')\n",
    "    ax[0][1].set_ylabel('Position (arcmin)')\n",
    "    ax[1][1].set_ylabel('Position (arcmin)')\n",
    "\n",
    "#     start, stop = axes[0][1].get_xlim()\n",
    "#     ticks = np.arange(start, stop + 0.5, 2)\n",
    "#     axes[0][1].set_xticks(ticks)\n",
    "#     axes[0][1].set_yticks(ticks)\n",
    "\n",
    "\n",
    "    plt.tight_layout()\n",
    "    plt.subplots_adjust(top=0.85)\n",
    "\n",
    "    return fig, ax"
   ]
  },
  {
   "cell_type": "code",
   "execution_count": null,
   "metadata": {
    "collapsed": false
   },
   "outputs": [],
   "source": [
    "for i, q in enumerate(range(0, da.N_T, 1)):\n",
    "# for i, q in enumerate(range(2)):\n",
    "    print 'Creating figure {:04d}'.format(q)    \n",
    "    fig, axes = plot_em_estimate(da, q, figsize=(6, 4.5))\n",
    "    plt.suptitle('Image Projected on the Retina and Generated Spikes at t = {:03d} ms'.format((q+1) * 5), fontsize=10)\n",
    "    plt.savefig(os.path.join(save_dir, 'img_rec_{:04d}.png'.format(i)), dpi=200)\n",
    "    plt.close()"
   ]
  },
  {
   "cell_type": "markdown",
   "metadata": {},
   "source": [
    "r\"\"\"\n",
    "avconv -framerate 20 -i img_rec_%04d.png -c:v libx264 -r 30 video/out_rec.mp4\n",
    "\"\"\"\n"
   ]
  },
  {
   "cell_type": "code",
   "execution_count": null,
   "metadata": {
    "collapsed": true
   },
   "outputs": [],
   "source": []
  },
  {
   "cell_type": "code",
   "execution_count": null,
   "metadata": {
    "collapsed": true
   },
   "outputs": [],
   "source": []
  },
  {
   "cell_type": "code",
   "execution_count": null,
   "metadata": {
    "collapsed": true
   },
   "outputs": [],
   "source": []
  },
  {
   "cell_type": "code",
   "execution_count": null,
   "metadata": {
    "collapsed": true
   },
   "outputs": [],
   "source": []
  },
  {
   "cell_type": "code",
   "execution_count": null,
   "metadata": {
    "collapsed": true
   },
   "outputs": [],
   "source": []
  },
  {
   "cell_type": "code",
   "execution_count": null,
   "metadata": {
    "collapsed": true
   },
   "outputs": [],
   "source": []
  },
  {
   "cell_type": "code",
   "execution_count": null,
   "metadata": {
    "collapsed": true
   },
   "outputs": [],
   "source": []
  },
  {
   "cell_type": "code",
   "execution_count": null,
   "metadata": {
    "collapsed": true
   },
   "outputs": [],
   "source": []
  },
  {
   "cell_type": "code",
   "execution_count": null,
   "metadata": {
    "collapsed": true
   },
   "outputs": [],
   "source": []
  },
  {
   "cell_type": "code",
   "execution_count": null,
   "metadata": {
    "collapsed": true
   },
   "outputs": [],
   "source": []
  },
  {
   "cell_type": "code",
   "execution_count": null,
   "metadata": {
    "collapsed": true
   },
   "outputs": [],
   "source": []
  }
 ],
 "metadata": {
  "kernelspec": {
   "display_name": "Python 2",
   "language": "python",
   "name": "python2"
  },
  "language_info": {
   "codemirror_mode": {
    "name": "ipython",
    "version": 2
   },
   "file_extension": ".py",
   "mimetype": "text/x-python",
   "name": "python",
   "nbconvert_exporter": "python",
   "pygments_lexer": "ipython2",
   "version": "2.7.12"
  }
 },
 "nbformat": 4,
 "nbformat_minor": 0
}
