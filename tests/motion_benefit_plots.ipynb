{
 "cells": [
  {
   "cell_type": "code",
   "execution_count": null,
   "metadata": {
    "collapsed": false
   },
   "outputs": [],
   "source": [
    "import os\n",
    "import numpy as np\n",
    "\n",
    "import matplotlib.pyplot as plt\n",
    "from matplotlib.ticker import MaxNLocator\n",
    "%matplotlib inline\n",
    "# plt.rcParams['image.interpolation'] = 'nearest'\n",
    "plt.rcParams['image.cmap'] = 'gray'\n",
    "plt.rcParams['font.size'] = 7\n",
    "plt.rcParams['font.sans-serif'] = [u'Arial']\n",
    "\n",
    "\n",
    "\n",
    "LINEWIDTH = 0.25\n",
    "\n",
    "plt.rcParams['lines.linewidth'] = LINEWIDTH\n",
    "plt.rcParams['axes.linewidth'] = LINEWIDTH\n",
    "plt.rcParams['xtick.major.width'] = LINEWIDTH\n",
    "plt.rcParams['ytick.major.width'] = LINEWIDTH\n",
    "\n",
    "plt.rcParams['legend.fancybox'] = False\n",
    "plt.rcParams['legend.frameon'] = False\n",
    "\n",
    "\n",
    "import brewer2mpl\n",
    "bmap = brewer2mpl.get_map('Set1', 'qualitative', 5)\n",
    "colors = bmap.mpl_colors\n",
    "\n",
    "plt.rcParams['axes.color_cycle'] = colors\n",
    "\n",
    "\n",
    "\n",
    "from scipy.stats import ks_2samp\n",
    "from sklearn.neighbors import KernelDensity\n",
    "\n",
    "import pandas as pd\n",
    "\n",
    "\n",
    "from context import src, utils\n",
    "from src.analyzer import DataAnalyzer, plot_fill_between\n",
    "from utils.plot_utils import label_subplot\n",
    "\n",
    "# output_dir = '../output/motion_benefit6'\n",
    "# output_dir = '../output/motion_benefit_nom'"
   ]
  },
  {
   "cell_type": "code",
   "execution_count": null,
   "metadata": {
    "collapsed": false
   },
   "outputs": [],
   "source": [
    "# d = plt.rcParams\n",
    "# for k in d.keys():\n",
    "#     if k.startswith('font'):\n",
    "#         print k, d[k]\n",
    "\n",
    "# plt.rcParams.keys()"
   ]
  },
  {
   "cell_type": "code",
   "execution_count": null,
   "metadata": {
    "collapsed": false
   },
   "outputs": [],
   "source": [
    "data_fns = []\n",
    "# for output_dir in ['../output/motion_benefit_nom', '../output/motion_benefit6']:\n",
    "# for output_dir in ['../output/motion_benefit_drop']:\n",
    "for output_dir in ['../output/motion_benefit_drop_best_dc']:\n",
    "    data_fns.extend(\n",
    "        [os.path.join(output_dir, fn) \n",
    "               for fn in os.listdir(output_dir) \n",
    "               if fn.endswith('.h5')]\n",
    "        )\n",
    "data_fns.sort()\n",
    "len(data_fns)"
   ]
  },
  {
   "cell_type": "code",
   "execution_count": null,
   "metadata": {
    "collapsed": false
   },
   "outputs": [],
   "source": [
    "da_ = map(DataAnalyzer.fromfilename, data_fns)"
   ]
  },
  {
   "cell_type": "code",
   "execution_count": null,
   "metadata": {
    "collapsed": true
   },
   "outputs": [],
   "source": [
    "for da in da_:\n",
    "    da.s_range = 'pos'"
   ]
  },
  {
   "cell_type": "code",
   "execution_count": null,
   "metadata": {
    "collapsed": false
   },
   "outputs": [],
   "source": [
    "out_ = []\n",
    "for da in da_:\n",
    "    out = {}\n",
    "    out['inference_mode'] = da.data['EM_data/mode']\n",
    "    out['gen_mode'] = da.data['motion_gen']['mode']   # True eye movements or no eye movements\n",
    "    try:\n",
    "        out['gen_dc'] = da.data['motion_gen']['dc']\n",
    "    except KeyError:\n",
    "        out['gen_dc'] = 0.0\n",
    "    try:\n",
    "        out['drop_prob'] = da.data['drop_prob']\n",
    "    except KeyError:\n",
    "        out['drop_prob'] = 0.0\n",
    "    out['prior_dc'] = da.data['motion_prior']['dc']\n",
    "    out['ds'] = da.data['ds'] # Image size\n",
    "    for t, snr_t in zip(da.time_list(), da.snr_list()):\n",
    "        out[t] = snr_t\n",
    "\n",
    "    out_.append(out)"
   ]
  },
  {
   "cell_type": "code",
   "execution_count": null,
   "metadata": {
    "collapsed": false
   },
   "outputs": [],
   "source": [
    "t = da.time_list()\n",
    "data = pd.DataFrame(out_)\n",
    "\n",
    "grouping_columns = ['inference_mode', 'gen_mode', 'prior_dc', 'ds', 'drop_prob']\n",
    "grouped = pd.groupby(data, grouping_columns)\n",
    "\n",
    "EXP = 'Experiment'\n",
    "NOM = 'Diffusion'  # no motion\n",
    "\n",
    "# label_ = ['Motion', 'No-motion']"
   ]
  },
  {
   "cell_type": "code",
   "execution_count": null,
   "metadata": {
    "collapsed": true
   },
   "outputs": [],
   "source": [
    "def nice_print(lst):\n",
    "    l1 = []\n",
    "    for l in lst:\n",
    "        if isinstance(l, str):\n",
    "            l1.append(l)\n",
    "        elif isinstance(l, float):\n",
    "            l1.append('{:6.2f}'.format(l))\n",
    "        elif isinstance(l, int):\n",
    "            l1.append('{:02}'.format(l))\n",
    "        else:\n",
    "            l1.append(str(l))\n",
    "    return ' | '.join(l1)"
   ]
  },
  {
   "cell_type": "code",
   "execution_count": null,
   "metadata": {
    "collapsed": false,
    "scrolled": false
   },
   "outputs": [],
   "source": [
    "print ['Group'] + grouping_columns + ['SNR']\n",
    "for i, (name, group) in enumerate(grouped):\n",
    "    mode, gen_mode, prior_dc, ds, drop_prob = name\n",
    "#     if ds != 0.4:\n",
    "#         continue\n",
    "    print nice_print((i,) + name + (group[list(t)[-1]].mean(),))"
   ]
  },
  {
   "cell_type": "code",
   "execution_count": null,
   "metadata": {
    "collapsed": false
   },
   "outputs": [],
   "source": [
    "df1 = grouped.aggregate(np.mean)[['gen_dc', t[-1]]]\n",
    "df1.reset_index(inplace=True)"
   ]
  },
  {
   "cell_type": "code",
   "execution_count": null,
   "metadata": {
    "collapsed": false
   },
   "outputs": [],
   "source": [
    "ax = plt.axes()\n",
    "for name, group in df1.groupby('drop_prob'):\n",
    "    group.plot(x='gen_dc', y=t[-1], label='Drop Prob: {:.2f}'.format(name), ax=ax)\n",
    "ax.set_ylabel('SNR')\n",
    "plt.savefig('../output/drop_prob.pdf')"
   ]
  },
  {
   "cell_type": "code",
   "execution_count": null,
   "metadata": {
    "collapsed": true
   },
   "outputs": [],
   "source": [
    "# Plot mean SNR as a function of DC for the two conditions"
   ]
  },
  {
   "cell_type": "code",
   "execution_count": null,
   "metadata": {
    "collapsed": false
   },
   "outputs": [],
   "source": [
    "fig, ax = plt.subplots(1, 1, figsize=(4, 4))\n",
    "ax.set_title('SNR as a function of time')\n",
    "for name, group in grouped:\n",
    "    inf_mode, gen_mode, prior_dc, ds = name\n",
    "#     label = 'Inf: {} Gen: {} GenDC:  InfDC: {} ds: {:.2f}'.format(*name)\n",
    "    label = {EXP: 'Motion', NOM: 'No Motion'}[gen_mode] + ' | ' + inf_mode\n",
    "    plot_fill_between(ax, t, group[list(t)], label=label, k=0.5)\n",
    "\n",
    "ax.set_xlabel('time (ms)')\n",
    "ax.legend(loc='upper left')\n",
    "# plt.savefig(os.path.join('../output', 'snr_time_no_motion_vs_motion_1.pdf'))"
   ]
  },
  {
   "cell_type": "code",
   "execution_count": null,
   "metadata": {
    "collapsed": false
   },
   "outputs": [],
   "source": [
    "final_snrs = [group[list(t)[-1]].values for k, group in grouped]\n",
    "\n",
    "res = ks_2samp(final_snrs[0], final_snrs[1])\n",
    "label_ = [k[1] for k, group in grouped]\n",
    "\n",
    "res"
   ]
  },
  {
   "cell_type": "code",
   "execution_count": null,
   "metadata": {
    "collapsed": false
   },
   "outputs": [],
   "source": [
    "plt.figure(figsize=(4, 4))\n",
    "X_plot = np.linspace(0, 20, 1000)[:, np.newaxis]\n",
    "for final_snr, label in zip(final_snrs, label_):\n",
    "    log_dens = KernelDensity().fit(final_snr[:, np.newaxis]).score_samples(X_plot)\n",
    "    plt.plot(X_plot, np.exp(log_dens), c=None, label=label)\n",
    "plt.xlabel('SNR')\n",
    "plt.ylabel('Normalized Density')\n",
    "plt.title('Density of SNR, p = {:.1E}'.format(res.pvalue))\n",
    "plt.legend()\n",
    "plt.tight_layout()\n",
    "# plt.savefig(os.path.join(output_dir, 'motion_benefit_density.png'), dpi=200)\n",
    "\n",
    "# plt.hist(final_snrs, bins=20)"
   ]
  },
  {
   "cell_type": "code",
   "execution_count": null,
   "metadata": {
    "collapsed": false
   },
   "outputs": [],
   "source": [
    "idx = [data[\n",
    "        (data['gen_mode'] == key) & \n",
    "        (data['ds'] == 0.4) & \n",
    "        (data['inference_mode'] == 'EM')\n",
    "    ].index.values for key in [EXP, NOM]]\n",
    "exp_idx, nom_idx = idx\n",
    "\n",
    "# np.random.shuffle(exp_idx)\n",
    "# np.random.shuffle(nom_idx)"
   ]
  },
  {
   "cell_type": "code",
   "execution_count": null,
   "metadata": {
    "collapsed": false
   },
   "outputs": [],
   "source": [
    "da = da_[exp_idx[2]]"
   ]
  },
  {
   "cell_type": "code",
   "execution_count": null,
   "metadata": {
    "collapsed": false
   },
   "outputs": [],
   "source": [
    "da.plot_em_estimate(-1)"
   ]
  },
  {
   "cell_type": "code",
   "execution_count": null,
   "metadata": {
    "collapsed": false
   },
   "outputs": [],
   "source": [
    "def plot_results(ax, grouped):\n",
    "    from matplotlib.patches import Rectangle\n",
    "    c_ = ['b', 'g']\n",
    "#     hatch_ = ['o', 'x']\n",
    "    hatch_ = [None, None]\n",
    "    alpha = 0.5\n",
    "    label_ = []\n",
    "    rect_ = []\n",
    "    for name, group in grouped:\n",
    "        inf_mode, gen_mode, prior_dc, ds = name\n",
    "        label = ({EXP: 'M', NOM: 'NoM'}[gen_mode] + ' | ' + \n",
    "                 {'EM': 'EM ', 'NoMotion': 'NoM'}[inf_mode])\n",
    "        plot_fill_between(ax, t, group[list(t)], label=label, c=None, \n",
    "                          k=0.5)\n",
    "        c = ax.get_lines()[-1].get_color()\n",
    "        rect_.append(Rectangle((0, 0), 1, 1, fc=c, hatch=None))\n",
    "        label_.append(label)\n",
    "    ax.legend(rect_, label_, loc='upper left', prop={'size': 7}, labelspacing=0.2)\n"
   ]
  },
  {
   "cell_type": "code",
   "execution_count": null,
   "metadata": {
    "collapsed": false
   },
   "outputs": [],
   "source": [
    "fig, axes = plt.subplots(nrows=2, ncols=2, figsize=(3.5, 3.5))\n",
    "\n",
    "da_exp, da_nom = [da_[idx_[0]] for idx_ in [exp_idx, nom_idx]]\n",
    "\n",
    "ax = axes[0, 0]\n",
    "da_exp.plot_image_and_rfs(fig, ax, -1)\n",
    "a = 4; ax.set_xlim([-a, a]); ax.set_ylim([-a, a])\n",
    "ax.xaxis.set_major_locator(MaxNLocator(3, symmetric=True))\n",
    "ax.yaxis.set_major_locator(MaxNLocator(3, symmetric=True))\n",
    "\n",
    "\n",
    "\n",
    "ax = axes[0, 1]\n",
    "plot_results(ax, grouped)\n",
    "ax.set_xlim([0., 700.])\n",
    "ax.set_xticks([0, 300, 600])\n",
    "ax.set_title('SNR vs time (ms)')\n",
    "# ax.set_xlabel('time (ms)')\n",
    "# ax.set_ylabel('SNR')\n",
    "\n",
    "# ax.xaxis.set_major_locator(MaxNLocator(3))\n",
    "ax.yaxis.set_major_locator(MaxNLocator(4))\n",
    "\n",
    "for v, da, label in zip(\n",
    "    [0, 1],\n",
    "    [da_exp, da_nom],\n",
    "    ['Motion', 'No Motion']):\n",
    "    ax = axes[1, v]\n",
    "    da.plot_image_estimate(fig, ax, da.N_itr - 1,\n",
    "                           colorbar=False)\n",
    "    ax.set_title('{}: SNR = {:.2f}'.format(label, da.snr_one_iteration(da.N_itr - 1)))\n",
    "\n",
    "    ax.xaxis.set_major_locator(MaxNLocator(3))\n",
    "    ax.yaxis.set_major_locator(MaxNLocator(3))\n",
    "\n",
    "\n",
    "for i, ax in enumerate(axes.flat):\n",
    "    ax.set_title(ax.get_title(), fontdict={'size': 7})\n",
    "    label=chr(ord('a') + i)\n",
    "    label_subplot(fig=fig, ax=ax, label=label, dx=0.08, dy=0.03)\n",
    "\n",
    "    \n",
    "    for axis in ['top','bottom','left','right']:\n",
    "        ax.spines[axis].set_visible(False)\n",
    "    \n",
    "plt.tight_layout(pad=0.5)\n",
    "plt.savefig(os.path.join('../output', 'motion_benefit_drop.pdf'), dpi=200)"
   ]
  },
  {
   "cell_type": "code",
   "execution_count": null,
   "metadata": {
    "collapsed": false
   },
   "outputs": [],
   "source": [
    "# plt.figure(figsize=(4, 4))\n",
    "# plt.title('SNR as a function of time')\n",
    "# alpha = 0.5\n",
    "# for c, (name, group) in zip(c_, grouped):\n",
    "#     inf_mode, gen_mode, prior_dc, ds = name\n",
    "#     label = {EXP: 'Motion', NOM: 'No Motion'}[gen_mode]\n",
    "#     plt.plot(t, group[list(t)].T.iloc[:, 0], c=c, label=label, alpha=alpha)\n",
    "#     plt.plot(t, group[list(t)].T.iloc[:, 1:], c=c, alpha=alpha);\n",
    "#     plt.xlabel('time (ms)')\n",
    "# plt.legend(loc='upper left')\n",
    "# # plt.savefig(os.path.join(output_dir, 'snr_time_no_motion_vs_motion_0.png'), dpi=200)"
   ]
  },
  {
   "cell_type": "code",
   "execution_count": null,
   "metadata": {
    "collapsed": false
   },
   "outputs": [],
   "source": [
    "NOM"
   ]
  },
  {
   "cell_type": "code",
   "execution_count": null,
   "metadata": {
    "collapsed": false
   },
   "outputs": [],
   "source": [
    "idx = data[\n",
    "        (data['gen_mode'] == NOM) & \n",
    "#         (data['ds'] == 0.4) & \n",
    "        (data['inference_mode'] == 'NoMotion')\n",
    "    ].index.values\n",
    "print idx"
   ]
  },
  {
   "cell_type": "code",
   "execution_count": null,
   "metadata": {
    "collapsed": false
   },
   "outputs": [],
   "source": [
    "da = da_[idx[0]]"
   ]
  },
  {
   "cell_type": "code",
   "execution_count": null,
   "metadata": {
    "collapsed": true
   },
   "outputs": [],
   "source": []
  },
  {
   "cell_type": "code",
   "execution_count": null,
   "metadata": {
    "collapsed": false
   },
   "outputs": [],
   "source": [
    "fig, ax = plt.subplots(1, 1)\n",
    "\n",
    "da.plot_image_estimate(fig=fig, ax=ax, q=-1)"
   ]
  },
  {
   "cell_type": "code",
   "execution_count": null,
   "metadata": {
    "collapsed": true
   },
   "outputs": [],
   "source": []
  },
  {
   "cell_type": "code",
   "execution_count": null,
   "metadata": {
    "collapsed": false
   },
   "outputs": [],
   "source": [
    "da.plot_em_estimate(-1)\n",
    "# plt.savefig(os.path.join(output_dir, 'ds04_e_reconstruction.png'), dpi=200)"
   ]
  },
  {
   "cell_type": "code",
   "execution_count": null,
   "metadata": {
    "collapsed": false
   },
   "outputs": [],
   "source": [
    "fig, ax = plt.subplots(figsize=(2, 2))\n",
    "ax.set_xlabel(None, fontsize=7)\n",
    "ax.set_ylabel(None, fontsize=7)\n",
    "da.plot_image_and_rfs(fig, ax)\n",
    "for tick in ax.xaxis.get_major_ticks():\n",
    "    tick.label.set_fontsize(7)\n",
    "for tick in ax.yaxis.get_major_ticks():\n",
    "    tick.label.set_fontsize(7)\n",
    "ax.title.set_fontsize(7)\n",
    "\n",
    "\n",
    "\n",
    "plt.title('E Projected onto the Retina \\n E thickness: {:.2f} arcmin \\n Neuron Spacing {:.2f} arcmin'.format(\n",
    "        2 * da.data['ds'], da.data['de']), fontsize=7)\n",
    "a = 6; plt.xlim([-a, a]); plt.ylim([-a, a])\n",
    "\n",
    "\n",
    "plt.tight_layout(pad=0.1)\n",
    "\n",
    "# plt.savefig(os.path.join(output_dir, 'motion_benefit_e.pdf'))"
   ]
  },
  {
   "cell_type": "code",
   "execution_count": null,
   "metadata": {
    "collapsed": true
   },
   "outputs": [],
   "source": []
  },
  {
   "cell_type": "code",
   "execution_count": null,
   "metadata": {
    "collapsed": false,
    "scrolled": false
   },
   "outputs": [],
   "source": [
    "fig, axes = plt.subplots(5, 2, figsize=(4 * 2, 3.5 * 5))\n",
    "for i, idx in enumerate(nom_idx[0:10]):\n",
    "#     plt.subplot(5, 2, i + 1)\n",
    "    da_[idx].plot_image_estimate(fig, axes.flat[i], -1)\n",
    "plt.savefig(os.path.join(output_dir, 'e_reconstructions_no_motion.png'), dpi=200)"
   ]
  },
  {
   "cell_type": "code",
   "execution_count": null,
   "metadata": {
    "collapsed": false
   },
   "outputs": [],
   "source": [
    "fig, axes = plt.subplots(5, 2, figsize=(4 * 2, 3.5 * 5))\n",
    "for i, idx in enumerate(exp_idx[0:10]):\n",
    "    da_[idx].plot_image_estimate(fig, axes.flat[i], -1)\n",
    "plt.savefig(os.path.join(output_dir, 'e_reconstructions_motion.png'), dpi=200)"
   ]
  },
  {
   "cell_type": "code",
   "execution_count": null,
   "metadata": {
    "collapsed": true
   },
   "outputs": [],
   "source": []
  },
  {
   "cell_type": "code",
   "execution_count": null,
   "metadata": {
    "collapsed": false
   },
   "outputs": [],
   "source": [
    "plt.figure(figsize=(20, 20))\n",
    "for i, t in enumerate(range(0, 140, 10)):\n",
    "    plt.subplot(5, 5, i + 1)\n",
    "    da.plot_image_estimate(t)"
   ]
  },
  {
   "cell_type": "code",
   "execution_count": null,
   "metadata": {
    "collapsed": true
   },
   "outputs": [],
   "source": []
  },
  {
   "cell_type": "code",
   "execution_count": null,
   "metadata": {
    "collapsed": true
   },
   "outputs": [],
   "source": []
  },
  {
   "cell_type": "code",
   "execution_count": null,
   "metadata": {
    "collapsed": true
   },
   "outputs": [],
   "source": []
  },
  {
   "cell_type": "code",
   "execution_count": null,
   "metadata": {
    "collapsed": true
   },
   "outputs": [],
   "source": []
  },
  {
   "cell_type": "code",
   "execution_count": null,
   "metadata": {
    "collapsed": true
   },
   "outputs": [],
   "source": []
  },
  {
   "cell_type": "code",
   "execution_count": null,
   "metadata": {
    "collapsed": true
   },
   "outputs": [],
   "source": []
  },
  {
   "cell_type": "code",
   "execution_count": null,
   "metadata": {
    "collapsed": true
   },
   "outputs": [],
   "source": []
  },
  {
   "cell_type": "code",
   "execution_count": null,
   "metadata": {
    "collapsed": true
   },
   "outputs": [],
   "source": []
  },
  {
   "cell_type": "markdown",
   "metadata": {},
   "source": [
    "# Group SNR plots by image size and diffusion constant"
   ]
  },
  {
   "cell_type": "code",
   "execution_count": null,
   "metadata": {
    "collapsed": false
   },
   "outputs": [],
   "source": [
    "out_ = []\n",
    "for pkl_fn in pkl_fns:\n",
    "    da = DataAnalyzer.fromfilename(pkl_fn)\n",
    "    out = [da.data['ds'], da.data['motion_gen']['dc']]\n",
    "    out = out + da.SNR_list()\n",
    "    out_.append(out)"
   ]
  },
  {
   "cell_type": "code",
   "execution_count": null,
   "metadata": {
    "collapsed": true
   },
   "outputs": [],
   "source": [
    "t = da_[0].time_list()"
   ]
  },
  {
   "cell_type": "code",
   "execution_count": null,
   "metadata": {
    "collapsed": false
   },
   "outputs": [],
   "source": [
    "data = pd.DataFrame.from_records(out_, columns=['ds', 'dc_gen'] + list(t))\n",
    "# data = data[data['ds'] == 0.5]"
   ]
  },
  {
   "cell_type": "code",
   "execution_count": null,
   "metadata": {
    "collapsed": false
   },
   "outputs": [],
   "source": [
    "grouped = pd.groupby(data, ['ds', 'dc_gen'])\n",
    "c_ = ['g', 'b', 'r', 'y', 'm', 'c']"
   ]
  },
  {
   "cell_type": "code",
   "execution_count": null,
   "metadata": {
    "collapsed": false
   },
   "outputs": [],
   "source": [
    "plt.figure(figsize=(10, 7))\n",
    "plt.title('SNR as a function of time')\n",
    "for c, (name, group) in zip(c_, grouped):\n",
    "    label = 'ds={}, dc={}'.format(*name)\n",
    "    plot_fill_between(t, group[list(t)], label=label, c=c)\n",
    "plt.legend(loc='upper left')\n",
    "# plt.savefig(os.path.join(output_dir, 'motion_benefit.png'), dpi=200)"
   ]
  },
  {
   "cell_type": "code",
   "execution_count": null,
   "metadata": {
    "collapsed": true
   },
   "outputs": [],
   "source": []
  }
 ],
 "metadata": {
  "kernelspec": {
   "display_name": "Python 2",
   "language": "python",
   "name": "python2"
  },
  "language_info": {
   "codemirror_mode": {
    "name": "ipython",
    "version": 2
   },
   "file_extension": ".py",
   "mimetype": "text/x-python",
   "name": "python",
   "nbconvert_exporter": "python",
   "pygments_lexer": "ipython2",
   "version": "2.7.12"
  }
 },
 "nbformat": 4,
 "nbformat_minor": 0
}
