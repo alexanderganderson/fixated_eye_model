{
 "cells": [
  {
   "cell_type": "code",
   "execution_count": null,
   "metadata": {
    "collapsed": false
   },
   "outputs": [],
   "source": [
    "import os\n",
    "import numpy as np\n",
    "\n",
    "import matplotlib.pyplot as plt\n",
    "from matplotlib.ticker import MaxNLocator\n",
    "%matplotlib inline\n",
    "plt.rcParams['image.interpolation'] = 'nearest'\n",
    "plt.rcParams['image.cmap'] = 'gray'\n",
    "plt.rcParams['font.size'] = 7\n",
    "\n",
    "from scipy.stats import ks_2samp\n",
    "from sklearn.neighbors import KernelDensity\n",
    "\n",
    "import pandas as pd\n",
    "\n",
    "\n",
    "from context import src, utils\n",
    "from src.analyzer import DataAnalyzer, plot_fill_between\n",
    "\n",
    "output_dir = '../output/motion_benefit6'"
   ]
  },
  {
   "cell_type": "code",
   "execution_count": null,
   "metadata": {
    "collapsed": false
   },
   "outputs": [],
   "source": [
    "pkl_fns = [os.path.join(output_dir, fn) \n",
    "           for fn in os.listdir(output_dir) \n",
    "           if fn.endswith('.h5')]\n",
    "pkl_fns.sort()\n",
    "len(pkl_fns)"
   ]
  },
  {
   "cell_type": "code",
   "execution_count": null,
   "metadata": {
    "collapsed": false
   },
   "outputs": [],
   "source": [
    "da_ = [DataAnalyzer.fromfilename(pkl_fn) for pkl_fn in pkl_fns]"
   ]
  },
  {
   "cell_type": "code",
   "execution_count": null,
   "metadata": {
    "collapsed": true
   },
   "outputs": [],
   "source": [
    "for da in da_:\n",
    "    da.s_range = 'pos'"
   ]
  },
  {
   "cell_type": "code",
   "execution_count": null,
   "metadata": {
    "collapsed": false
   },
   "outputs": [],
   "source": [
    "out_ = []\n",
    "for da in da_:\n",
    "# for pkl_fn in pkl_fns:\n",
    "#     da = DataAnalyzer.fromfilename(pkl_fn)\n",
    "    out = []\n",
    "    out.append(da.data['EM_data']['mode']) # Eye path given or not\n",
    "    out.append(da.data['motion_gen']['mode']) # True eye movements or no eye movements\n",
    "    try:\n",
    "        out.append(da.data['motion_gen']['dc'])\n",
    "    except KeyError:\n",
    "        out.append(0.0)\n",
    "    out.append(da.data['motion_prior']['dc'])\n",
    "    out.append(da.data['ds']) # Image size\n",
    "    out = out + da.snr_list()\n",
    "    out_.append(out)"
   ]
  },
  {
   "cell_type": "code",
   "execution_count": null,
   "metadata": {
    "collapsed": false
   },
   "outputs": [],
   "source": [
    "t = da.time_list()\n",
    "data = pd.DataFrame.from_records(\n",
    "    out_, columns=['inference_mode', 'gen_mode', 'gen_dc', 'prior_dc', 'ds'] + list(t))\n",
    "grouped = pd.groupby(data, ['inference_mode', 'gen_mode', 'prior_dc', 'ds'])\n",
    "c_ = plt.cm.rainbow(np.linspace(0, 1, len(grouped)))\n",
    "np.random.shuffle(c_)\n",
    "c_ = list(c_)\n",
    "len(grouped)"
   ]
  },
  {
   "cell_type": "code",
   "execution_count": null,
   "metadata": {
    "collapsed": true
   },
   "outputs": [],
   "source": [
    "EXP = 'Experiment'\n",
    "NOM = 'Diffusion'  # no motion"
   ]
  },
  {
   "cell_type": "code",
   "execution_count": null,
   "metadata": {
    "collapsed": false
   },
   "outputs": [],
   "source": [
    "for i, (name, group) in enumerate(grouped):\n",
    "    mode, gen_mode, prior_dc, ds = name\n",
    "#     if ds != 0.4:\n",
    "#         continue\n",
    "    print i, name\n",
    "    print group[list(t)[-1]].mean()"
   ]
  },
  {
   "cell_type": "code",
   "execution_count": null,
   "metadata": {
    "collapsed": true
   },
   "outputs": [],
   "source": [
    "label_ = ['Motion', 'No-motion']"
   ]
  },
  {
   "cell_type": "code",
   "execution_count": null,
   "metadata": {
    "collapsed": false
   },
   "outputs": [],
   "source": [
    "plt.figure(figsize=(4, 4))\n",
    "ax = plt.axes()\n",
    "plt.title('SNR as a function of time')\n",
    "alpha = 0.5\n",
    "for c, (name, group) in zip(c_, grouped):\n",
    "    inf_mode, gen_mode, prior_dc, ds = name\n",
    "#     if ds != .40:\n",
    "#         continue\n",
    "#     label = ''\n",
    "    label = 'Inf: {} Gen: {} GenDC:  InfDC: {} ds: {:.2f}'.format(*name)\n",
    "    label = {EXP: 'Motion', NOM: 'No Motion'}[gen_mode]\n",
    "\n",
    "    plot_fill_between(ax, t, group[list(t)], label=label, c=c, hatch=None, k=0.5)\n",
    "\n",
    "#     plt.plot(t, group[list(t)].T.iloc[:, 0], c=c, label=label, alpha=alpha)\n",
    "#     plt.plot(t, group[list(t)].T.iloc[:, 1:], c=c, alpha=alpha);\n",
    "\n",
    "    plt.xlabel('time (ms)')\n",
    "plt.legend(loc='upper left')\n",
    "# plt.ylim([0, 12]);\n",
    "# plt.savefig(os.path.join(output_dir, 'snr_time_no_motion_vs_motion_1.png'), dpi=200)"
   ]
  },
  {
   "cell_type": "code",
   "execution_count": null,
   "metadata": {
    "collapsed": false
   },
   "outputs": [],
   "source": [
    "plt.figure(figsize=(4, 4))\n",
    "plt.title('SNR as a function of time')\n",
    "alpha = 0.5\n",
    "for c, (name, group) in zip(c_, grouped):\n",
    "    inf_mode, gen_mode, prior_dc, ds = name\n",
    "    label = {EXP: 'Motion', NOM: 'No Motion'}[gen_mode]\n",
    "    plt.plot(t, group[list(t)].T.iloc[:, 0], c=c, label=label, alpha=alpha)\n",
    "    plt.plot(t, group[list(t)].T.iloc[:, 1:], c=c, alpha=alpha);\n",
    "    plt.xlabel('time (ms)')\n",
    "plt.legend(loc='upper left')\n",
    "# plt.savefig(os.path.join(output_dir, 'snr_time_no_motion_vs_motion_0.png'), dpi=200)"
   ]
  },
  {
   "cell_type": "code",
   "execution_count": null,
   "metadata": {
    "collapsed": false
   },
   "outputs": [],
   "source": [
    "plt.figure(figsize=(4, 4))\n",
    "ax = plt.axes()\n",
    "plt.title('SNR as a function of time')\n",
    "alpha = 0.5\n",
    "for c, (name, group) in zip(c_, grouped):\n",
    "    inf_mode, gen_mode, prior_dc, ds = name\n",
    "    label = {EXP: 'Motion', NOM: 'No Motion'}[gen_mode]\n",
    "    plot_fill_between(ax, t, group[list(t)], label=label, c=c, k=0.5)\n",
    "    plt.xlabel('time (ms)')\n",
    "plt.legend(loc='upper left')\n",
    "# plt.savefig(os.path.join(output_dir, 'snr_time_no_motion_vs_motion_1.png'), dpi=200)"
   ]
  },
  {
   "cell_type": "code",
   "execution_count": null,
   "metadata": {
    "collapsed": false
   },
   "outputs": [],
   "source": [
    "final_snrs = [group[list(t)[-1]].values for k, group in grouped]\n",
    "\n",
    "res = ks_2samp(final_snrs[0], final_snrs[1])\n",
    "label_ = [k[1] for k, group in grouped]"
   ]
  },
  {
   "cell_type": "code",
   "execution_count": null,
   "metadata": {
    "collapsed": false
   },
   "outputs": [],
   "source": [
    "res"
   ]
  },
  {
   "cell_type": "code",
   "execution_count": null,
   "metadata": {
    "collapsed": false
   },
   "outputs": [],
   "source": [
    "plt.figure(figsize=(4, 4))\n",
    "X_plot = np.linspace(0, 20, 1000)[:, np.newaxis]\n",
    "for c, final_snr, label in zip(c_, final_snrs, label_):\n",
    "    log_dens = KernelDensity().fit(final_snr[:, np.newaxis]).score_samples(X_plot)\n",
    "    plt.plot(X_plot, np.exp(log_dens), c=c, label=label)\n",
    "plt.xlabel('SNR')\n",
    "plt.ylabel('Normalized Density')\n",
    "plt.title('Density of SNR, p = {:.1E}'.format(res.pvalue))\n",
    "plt.legend()\n",
    "plt.tight_layout()\n",
    "# plt.savefig(os.path.join(output_dir, 'motion_benefit_density.png'), dpi=200)"
   ]
  },
  {
   "cell_type": "code",
   "execution_count": null,
   "metadata": {
    "collapsed": false
   },
   "outputs": [],
   "source": [
    "plt.hist(final_snrs, bins=20)"
   ]
  },
  {
   "cell_type": "code",
   "execution_count": null,
   "metadata": {
    "collapsed": false
   },
   "outputs": [],
   "source": [
    "idx = [data[(data['gen_mode'] == key) & (data['ds'] == 0.4)].index.values for key in [EXP, NOM]]\n",
    "exp_idx, nom_idx = idx"
   ]
  },
  {
   "cell_type": "code",
   "execution_count": null,
   "metadata": {
    "collapsed": false
   },
   "outputs": [],
   "source": [
    "# np.random.shuffle(exp_idx)\n",
    "# np.random.shuffle(nom_idx)"
   ]
  },
  {
   "cell_type": "code",
   "execution_count": null,
   "metadata": {
    "collapsed": true
   },
   "outputs": [],
   "source": [
    "def plot_results(ax, grouped):\n",
    "    from matplotlib.patches import Rectangle\n",
    "    c_ = ['b', 'g']\n",
    "#     hatch_ = ['o', 'x']\n",
    "    hatch_ = [None, None]\n",
    "    alpha = 0.5\n",
    "    label_ = []\n",
    "    rect_ = []\n",
    "    for c, hatch, (name, group) in zip(c_, hatch_, grouped):\n",
    "        inf_mode, gen_mode, prior_dc, ds = name\n",
    "        label = {EXP: 'Motion', NOM: 'No Motion'}[gen_mode]\n",
    "        plot_fill_between(ax, t, group[list(t)], label=label, c=c, \n",
    "                          hatch=hatch, k=0.5)\n",
    "        rect_.append(Rectangle((0, 0), 1, 1, fc=c, hatch=None))\n",
    "        label_.append(label)\n",
    "\n",
    "    ax.legend(rect_, label_, loc='upper left', prop={'size': 7})\n",
    "    \n",
    "\n",
    "# def equalize_y_axes(ax0, ax1):\n",
    "#     u0, v0 = ax0.get_ylim()\n",
    "#     u1, v1 = ax1.get_ylim()\n",
    "\n",
    "#     u, v = min(u0, u1), max(v0, v1)\n",
    "#     for ax in [ax0, ax1]:\n",
    "#         ax.set_ylim(u, v)\n",
    "\n",
    "\n",
    "\n",
    "def label_subplot(fig, ax, label, dx=0.005 * 4, dy=0.005):\n",
    "    \"\"\"\n",
    "    Add a label to label a subplot offset from the plot.\n",
    "    \n",
    "    Parameters\n",
    "    ----------\n",
    "    fig : plt.Figure\n",
    "        Overall figure to add label to.\n",
    "    ax : plt.Axes()\n",
    "        Axis corresponding to individual subplot.\n",
    "    text : str\n",
    "        Label\n",
    "    dx, dy : float\n",
    "        Amount to translate the letter relative to the top right corner of the subplot.\n",
    "    \"\"\"\n",
    "    # Compose transformer:\n",
    "    tf = ax.transAxes.inverted() + fig.transFigure\n",
    "    # transFigure takes you from [0,1] figure coordinates to pixels\n",
    "    # transAxes.inverted takes you from pixels to coordinates of axes\n",
    "    # ax.text uses these coordinates\n",
    "    \n",
    "    # Transform delta\n",
    "    u, v = tf.transform((dx, dy)) - tf.transform((0, 0))\n",
    "    ax.text(-u, 1 + v, label, size=8, weight='bold', transform=ax.transAxes)\n"
   ]
  },
  {
   "cell_type": "code",
   "execution_count": null,
   "metadata": {
    "collapsed": false
   },
   "outputs": [],
   "source": [
    "fig, axes = plt.subplots(nrows=2, ncols=2, figsize=(3.5, 3.5))\n",
    "\n",
    "da_exp, da_nom = [da_[idx_[4]] for idx_ in [exp_idx, nom_idx]]\n",
    "\n",
    "ax = axes[0, 0]\n",
    "da_exp.plot_image_and_rfs(fig, ax, -1)\n",
    "\n",
    "\n",
    "ax = axes[0, 1]\n",
    "plot_results(ax, grouped)\n",
    "ax.set_xlim([0., 700.])\n",
    "ax.set_xticks([0, 350, 700])\n",
    "ax.set_title('SNR vs time (ms)')\n",
    "# ax.set_xlabel('time (ms)')\n",
    "# ax.set_ylabel('SNR')\n",
    "\n",
    "# ax.xaxis.set_major_locator(MaxNLocator(3))\n",
    "ax.yaxis.set_major_locator(MaxNLocator(4))\n",
    "\n",
    "for v, da, label in zip(\n",
    "    [0, 1],\n",
    "    [da_exp, da_nom],\n",
    "    ['Motion', 'No Motion']):\n",
    "    ax = axes[1, v]\n",
    "    da.plot_image_estimate(fig, ax, da.N_itr - 1,\n",
    "                           colorbar=False)\n",
    "    ax.set_title('{}: SNR = {:.2f}'.format(label, da.snr_one_iteration(da.N_itr - 1)))\n",
    "\n",
    "    ax.xaxis.set_major_locator(MaxNLocator(3))\n",
    "    ax.yaxis.set_major_locator(MaxNLocator(3))\n",
    "\n",
    "\n",
    "\n",
    "for i, ax in enumerate(axes.flat):\n",
    "    ax.set_title(ax.get_title(), fontdict={'size': 7})\n",
    "    label=chr(ord('a') + i)\n",
    "    label_subplot(fig=fig, ax=ax, label=label, dx=0.04, dy=0.01)\n",
    "\n",
    "plt.tight_layout(pad=0.5)\n",
    "plt.savefig(os.path.join(output_dir, 'motion_benefit.pdf'), dpi=200)"
   ]
  },
  {
   "cell_type": "code",
   "execution_count": null,
   "metadata": {
    "collapsed": true
   },
   "outputs": [],
   "source": []
  },
  {
   "cell_type": "code",
   "execution_count": null,
   "metadata": {
    "collapsed": true
   },
   "outputs": [],
   "source": []
  },
  {
   "cell_type": "code",
   "execution_count": null,
   "metadata": {
    "collapsed": true
   },
   "outputs": [],
   "source": []
  },
  {
   "cell_type": "code",
   "execution_count": null,
   "metadata": {
    "collapsed": true
   },
   "outputs": [],
   "source": []
  },
  {
   "cell_type": "code",
   "execution_count": null,
   "metadata": {
    "collapsed": true
   },
   "outputs": [],
   "source": []
  },
  {
   "cell_type": "code",
   "execution_count": null,
   "metadata": {
    "collapsed": true
   },
   "outputs": [],
   "source": []
  },
  {
   "cell_type": "code",
   "execution_count": null,
   "metadata": {
    "collapsed": true
   },
   "outputs": [],
   "source": []
  },
  {
   "cell_type": "code",
   "execution_count": null,
   "metadata": {
    "collapsed": false
   },
   "outputs": [],
   "source": [
    "da.plot_em_estimate(-1)\n",
    "# plt.savefig(os.path.join(output_dir, 'ds04_e_reconstruction.png'), dpi=200)"
   ]
  },
  {
   "cell_type": "code",
   "execution_count": null,
   "metadata": {
    "collapsed": false
   },
   "outputs": [],
   "source": [
    "fig, ax = plt.subplots(figsize=(2, 2))\n",
    "ax.set_xlabel(None, fontsize=7)\n",
    "ax.set_ylabel(None, fontsize=7)\n",
    "da.plot_image_and_rfs(fig, ax)\n",
    "for tick in ax.xaxis.get_major_ticks():\n",
    "    tick.label.set_fontsize(7)\n",
    "for tick in ax.yaxis.get_major_ticks():\n",
    "    tick.label.set_fontsize(7)\n",
    "ax.title.set_fontsize(7)\n",
    "\n",
    "\n",
    "\n",
    "plt.title('E Projected onto the Retina \\n E thickness: {:.2f} arcmin \\n Neuron Spacing {:.2f} arcmin'.format(\n",
    "        2 * da.data['ds'], da.data['de']), fontsize=7)\n",
    "a = 6; plt.xlim([-a, a]); plt.ylim([-a, a])\n",
    "\n",
    "\n",
    "plt.tight_layout(pad=0.1)\n",
    "\n",
    "# plt.savefig(os.path.join(output_dir, 'motion_benefit_e.pdf'))"
   ]
  },
  {
   "cell_type": "code",
   "execution_count": null,
   "metadata": {
    "collapsed": true
   },
   "outputs": [],
   "source": []
  },
  {
   "cell_type": "code",
   "execution_count": null,
   "metadata": {
    "collapsed": false,
    "scrolled": false
   },
   "outputs": [],
   "source": [
    "fig, axes = plt.subplots(5, 2, figsize=(4 * 2, 3.5 * 5))\n",
    "for i, idx in enumerate(nom_idx[0:10]):\n",
    "#     plt.subplot(5, 2, i + 1)\n",
    "    da_[idx].plot_image_estimate(fig, axes.flat[i], -1)\n",
    "plt.savefig(os.path.join(output_dir, 'e_reconstructions_no_motion.png'), dpi=200)"
   ]
  },
  {
   "cell_type": "code",
   "execution_count": null,
   "metadata": {
    "collapsed": false
   },
   "outputs": [],
   "source": [
    "fig, axes = plt.subplots(5, 2, figsize=(4 * 2, 3.5 * 5))\n",
    "for i, idx in enumerate(exp_idx[0:10]):\n",
    "    da_[idx].plot_image_estimate(fig, axes.flat[i], -1)\n",
    "plt.savefig(os.path.join(output_dir, 'e_reconstructions_motion.png'), dpi=200)"
   ]
  },
  {
   "cell_type": "code",
   "execution_count": null,
   "metadata": {
    "collapsed": true
   },
   "outputs": [],
   "source": []
  },
  {
   "cell_type": "code",
   "execution_count": null,
   "metadata": {
    "collapsed": false
   },
   "outputs": [],
   "source": [
    "plt.figure(figsize=(20, 20))\n",
    "for i, t in enumerate(range(0, 140, 10)):\n",
    "    plt.subplot(5, 5, i + 1)\n",
    "    da.plot_image_estimate(t)"
   ]
  },
  {
   "cell_type": "code",
   "execution_count": null,
   "metadata": {
    "collapsed": true
   },
   "outputs": [],
   "source": []
  },
  {
   "cell_type": "code",
   "execution_count": null,
   "metadata": {
    "collapsed": true
   },
   "outputs": [],
   "source": []
  },
  {
   "cell_type": "code",
   "execution_count": null,
   "metadata": {
    "collapsed": true
   },
   "outputs": [],
   "source": []
  },
  {
   "cell_type": "code",
   "execution_count": null,
   "metadata": {
    "collapsed": true
   },
   "outputs": [],
   "source": []
  },
  {
   "cell_type": "code",
   "execution_count": null,
   "metadata": {
    "collapsed": true
   },
   "outputs": [],
   "source": []
  },
  {
   "cell_type": "code",
   "execution_count": null,
   "metadata": {
    "collapsed": true
   },
   "outputs": [],
   "source": []
  },
  {
   "cell_type": "code",
   "execution_count": null,
   "metadata": {
    "collapsed": true
   },
   "outputs": [],
   "source": []
  },
  {
   "cell_type": "code",
   "execution_count": null,
   "metadata": {
    "collapsed": true
   },
   "outputs": [],
   "source": []
  },
  {
   "cell_type": "markdown",
   "metadata": {},
   "source": [
    "# Group SNR plots by image size and diffusion constant"
   ]
  },
  {
   "cell_type": "code",
   "execution_count": null,
   "metadata": {
    "collapsed": false
   },
   "outputs": [],
   "source": [
    "out_ = []\n",
    "for pkl_fn in pkl_fns:\n",
    "    da = DataAnalyzer.fromfilename(pkl_fn)\n",
    "    out = [da.data['ds'], da.data['motion_gen']['dc']]\n",
    "    out = out + da.SNR_list()\n",
    "    out_.append(out)"
   ]
  },
  {
   "cell_type": "code",
   "execution_count": null,
   "metadata": {
    "collapsed": true
   },
   "outputs": [],
   "source": [
    "t = da_[0].time_list()"
   ]
  },
  {
   "cell_type": "code",
   "execution_count": null,
   "metadata": {
    "collapsed": false
   },
   "outputs": [],
   "source": [
    "data = pd.DataFrame.from_records(out_, columns=['ds', 'dc_gen'] + list(t))\n",
    "# data = data[data['ds'] == 0.5]"
   ]
  },
  {
   "cell_type": "code",
   "execution_count": null,
   "metadata": {
    "collapsed": false
   },
   "outputs": [],
   "source": [
    "grouped = pd.groupby(data, ['ds', 'dc_gen'])\n",
    "c_ = ['g', 'b', 'r', 'y', 'm', 'c']"
   ]
  },
  {
   "cell_type": "code",
   "execution_count": null,
   "metadata": {
    "collapsed": false
   },
   "outputs": [],
   "source": [
    "plt.figure(figsize=(10, 7))\n",
    "plt.title('SNR as a function of time')\n",
    "for c, (name, group) in zip(c_, grouped):\n",
    "    label = 'ds={}, dc={}'.format(*name)\n",
    "    plot_fill_between(t, group[list(t)], label=label, c=c)\n",
    "plt.legend(loc='upper left')\n",
    "# plt.savefig(os.path.join(output_dir, 'motion_benefit.png'), dpi=200)"
   ]
  },
  {
   "cell_type": "code",
   "execution_count": null,
   "metadata": {
    "collapsed": true
   },
   "outputs": [],
   "source": []
  }
 ],
 "metadata": {
  "kernelspec": {
   "display_name": "Python 2",
   "language": "python",
   "name": "python2"
  },
  "language_info": {
   "codemirror_mode": {
    "name": "ipython",
    "version": 2
   },
   "file_extension": ".py",
   "mimetype": "text/x-python",
   "name": "python",
   "nbconvert_exporter": "python",
   "pygments_lexer": "ipython2",
   "version": "2.7.12"
  }
 },
 "nbformat": 4,
 "nbformat_minor": 0
}
