{
 "cells": [
  {
   "cell_type": "code",
   "execution_count": null,
   "metadata": {
    "collapsed": false
   },
   "outputs": [],
   "source": [
    "cd .."
   ]
  },
  {
   "cell_type": "code",
   "execution_count": null,
   "metadata": {
    "collapsed": false
   },
   "outputs": [],
   "source": [
    "import os\n",
    "import pandas as pd\n",
    "import numpy as np\n",
    "from src.analyzer import DataAnalyzer, plot_fill_between\n",
    "from scipy.stats import ks_2samp\n",
    "from sklearn.neighbors import KernelDensity\n",
    "import matplotlib.pyplot as plt\n",
    "%matplotlib inline\n",
    "plt.rcParams['image.interpolation'] = 'nearest'\n",
    "plt.rcParams['image.cmap'] = 'gray'\n",
    "output_dir = 'output/motion_benefit4'"
   ]
  },
  {
   "cell_type": "code",
   "execution_count": null,
   "metadata": {
    "collapsed": false
   },
   "outputs": [],
   "source": [
    "pkl_fns = [os.path.join(output_dir, fn) \n",
    "           for fn in os.listdir(output_dir) \n",
    "           if fn.endswith('.pkl')]\n",
    "pkl_fns.sort()\n",
    "len(pkl_fns)"
   ]
  },
  {
   "cell_type": "code",
   "execution_count": null,
   "metadata": {
    "collapsed": false
   },
   "outputs": [],
   "source": [
    "da_ = [DataAnalyzer.fromfilename(pkl_fn) for pkl_fn in pkl_fns]"
   ]
  },
  {
   "cell_type": "code",
   "execution_count": null,
   "metadata": {
    "collapsed": false
   },
   "outputs": [],
   "source": [
    "out_ = []\n",
    "for da in da_:\n",
    "# for pkl_fn in pkl_fns:\n",
    "#     da = DataAnalyzer.fromfilename(pkl_fn)\n",
    "    out = []\n",
    "    out.append(da.data['EM_data']['mode']) # Eye path given or not\n",
    "    out.append(da.data['motion_gen']['mode']) # True eye movements or no eye movements\n",
    "    try:\n",
    "        out.append(da.data['motion_gen']['dc'])\n",
    "    except KeyError:\n",
    "        out.append(0.0)\n",
    "    out.append(da.data['motion_prior']['dc'])\n",
    "    out.append(da.data['ds']) # Image size\n",
    "    out = out + da.snr_list()\n",
    "    out_.append(out)"
   ]
  },
  {
   "cell_type": "code",
   "execution_count": null,
   "metadata": {
    "collapsed": false
   },
   "outputs": [],
   "source": [
    "t = da.time_list()\n",
    "data = pd.DataFrame.from_records(\n",
    "    out_, columns=['inference_mode', 'gen_mode', 'gen_dc', 'prior_dc', 'ds'] + list(t))\n",
    "grouped = pd.groupby(data, ['inference_mode', 'gen_mode', 'gen_dc', 'prior_dc', 'ds'])\n",
    "c_ = plt.cm.rainbow(np.linspace(0, 1, len(grouped)))\n",
    "np.random.shuffle(c_)\n",
    "c_ = list(c_)\n",
    "len(grouped)"
   ]
  },
  {
   "cell_type": "code",
   "execution_count": null,
   "metadata": {
    "collapsed": false
   },
   "outputs": [],
   "source": [
    "for i, (name, group) in enumerate(grouped):\n",
    "    mode, gen_mode, gen_dc, prior_dc, ds = name\n",
    "#     if ds != 0.4:\n",
    "#         continue\n",
    "    print i, name\n",
    "    print group[list(t)[-1]].mean()"
   ]
  },
  {
   "cell_type": "code",
   "execution_count": null,
   "metadata": {
    "collapsed": false
   },
   "outputs": [],
   "source": [
    "plt.figure(figsize=(10, 7))\n",
    "plt.title('SNR as a function of time')\n",
    "alpha = 0.75\n",
    "for c, (name, group) in zip(c_, grouped):\n",
    "    inf_mode, gen_mode, gen_dc, prior_dc, ds = name\n",
    "#     if mode != 'EM':\n",
    "#         continue\n",
    "#     if ds != .40:\n",
    "#         continue\n",
    "    label = 'Inf: {} Gen: {} GenDC: {} InfDC: {} ds: {:.2f}'.format(*name)\n",
    "#     plot_fill_between(t, group[list(t)], label=label, c=c, k=0.5)\n",
    "    plt.plot(t, group[list(t)].T.iloc[:, 0], c=c, label=label, alpha=alpha)\n",
    "    plt.plot(t, group[list(t)].T.iloc[:, 1:], c=c, alpha=alpha);\n",
    "    plt.xlabel('time (ms)')\n",
    "plt.legend(loc='upper left')\n",
    "# plt.ylim([0, 12]);\n",
    "# plt.savefig(os.path.join(output_dir, 'motion_benefit.png'), dpi=200)"
   ]
  },
  {
   "cell_type": "code",
   "execution_count": null,
   "metadata": {
    "collapsed": false
   },
   "outputs": [],
   "source": [
    "final_snrs = [group[list(t)[-1]].values for k, group in grouped]\n",
    "\n",
    "ks_2samp(final_snrs[0], final_snrs[1])"
   ]
  },
  {
   "cell_type": "code",
   "execution_count": null,
   "metadata": {
    "collapsed": false
   },
   "outputs": [],
   "source": [
    "X_plot = np.linspace(1, 20, 1000)[:, np.newaxis]\n",
    "for c, final_snr in zip(c_, final_snrs):\n",
    "    log_dens = KernelDensity().fit(final_snr[:, np.newaxis]).score_samples(X_plot)\n",
    "    plt.plot(X_plot, np.exp(log_dens), c=c)\n",
    "plt.xlabel('SNR')\n",
    "plt.ylabel('Normalized Density')\n",
    "plt.title('Density of SNR')"
   ]
  },
  {
   "cell_type": "code",
   "execution_count": null,
   "metadata": {
    "collapsed": false
   },
   "outputs": [],
   "source": [
    "plt.hist(final_snrs, bins=20)"
   ]
  },
  {
   "cell_type": "code",
   "execution_count": null,
   "metadata": {
    "collapsed": false
   },
   "outputs": [],
   "source": [
    "plt.figure(figsize=(5, 5))\n",
    "da.plot_image_and_rfs()\n",
    "\n",
    "plt.title('E Projected onto the Retina \\n E thickness: {:.2f} arcmin \\n Neuron Spacing {:.2f} arcmin'.format(\n",
    "        2 * da.data['ds'], da.data['de']))\n",
    "a = 6; plt.xlim([-a, a]); plt.ylim([-a, a])"
   ]
  },
  {
   "cell_type": "code",
   "execution_count": null,
   "metadata": {
    "collapsed": false
   },
   "outputs": [],
   "source": [
    "da.plot_em_estimate(-1)"
   ]
  },
  {
   "cell_type": "code",
   "execution_count": null,
   "metadata": {
    "collapsed": false
   },
   "outputs": [],
   "source": [
    "plt.figure(figsize=(4 * 2, 3.5 * 5))\n",
    "for i in range(10):\n",
    "    plt.subplot(5, 2, i + 1)\n",
    "    da_[i].plot_image_estimate(-1)"
   ]
  },
  {
   "cell_type": "code",
   "execution_count": null,
   "metadata": {
    "collapsed": false
   },
   "outputs": [],
   "source": [
    "plt.figure(figsize=(4 * 4, 3.5 * 5))\n",
    "for i in range(20, 40):\n",
    "    plt.subplot(5, 4, i - 20 + 1)\n",
    "    da_[i].plot_image_estimate(-1)"
   ]
  },
  {
   "cell_type": "code",
   "execution_count": null,
   "metadata": {
    "collapsed": false
   },
   "outputs": [],
   "source": [
    "plt.figure(figsize=(20, 20))\n",
    "for i, t in enumerate(range(0, 140, 10)):\n",
    "    plt.subplot(5, 5, i + 1)\n",
    "    da.plot_image_estimate(t)"
   ]
  },
  {
   "cell_type": "code",
   "execution_count": null,
   "metadata": {
    "collapsed": true
   },
   "outputs": [],
   "source": []
  },
  {
   "cell_type": "code",
   "execution_count": null,
   "metadata": {
    "collapsed": true
   },
   "outputs": [],
   "source": []
  },
  {
   "cell_type": "markdown",
   "metadata": {},
   "source": [
    "# Group SNR plots by image size and diffusion constant"
   ]
  },
  {
   "cell_type": "code",
   "execution_count": null,
   "metadata": {
    "collapsed": false
   },
   "outputs": [],
   "source": [
    "out_ = []\n",
    "for pkl_fn in pkl_fns:\n",
    "    da = DataAnalyzer.fromfilename(pkl_fn)\n",
    "    out = [da.data['ds'], da.data['motion_gen']['dc']]\n",
    "    out = out + da.SNR_list()\n",
    "    out_.append(out)"
   ]
  },
  {
   "cell_type": "code",
   "execution_count": null,
   "metadata": {
    "collapsed": true
   },
   "outputs": [],
   "source": [
    "t = da_[0].time_list()"
   ]
  },
  {
   "cell_type": "code",
   "execution_count": null,
   "metadata": {
    "collapsed": false
   },
   "outputs": [],
   "source": [
    "data = pd.DataFrame.from_records(out_, columns=['ds', 'dc_gen'] + list(t))\n",
    "# data = data[data['ds'] == 0.5]"
   ]
  },
  {
   "cell_type": "code",
   "execution_count": null,
   "metadata": {
    "collapsed": false
   },
   "outputs": [],
   "source": [
    "grouped = pd.groupby(data, ['ds', 'dc_gen'])\n",
    "c_ = ['g', 'b', 'r', 'y', 'm', 'c']"
   ]
  },
  {
   "cell_type": "code",
   "execution_count": null,
   "metadata": {
    "collapsed": false
   },
   "outputs": [],
   "source": [
    "plt.figure(figsize=(10, 7))\n",
    "plt.title('SNR as a function of time')\n",
    "for c, (name, group) in zip(c_, grouped):\n",
    "    label = 'ds={}, dc={}'.format(*name)\n",
    "    plot_fill_between(t, group[list(t)], label=label, c=c)\n",
    "plt.legend(loc='upper left')\n",
    "# plt.savefig(os.path.join(output_dir, 'motion_benefit.png'), dpi=200)"
   ]
  },
  {
   "cell_type": "code",
   "execution_count": null,
   "metadata": {
    "collapsed": true
   },
   "outputs": [],
   "source": []
  }
 ],
 "metadata": {
  "kernelspec": {
   "display_name": "Python 2",
   "language": "python",
   "name": "python2"
  },
  "language_info": {
   "codemirror_mode": {
    "name": "ipython",
    "version": 2
   },
   "file_extension": ".py",
   "mimetype": "text/x-python",
   "name": "python",
   "nbconvert_exporter": "python",
   "pygments_lexer": "ipython2",
   "version": "2.7.11"
  }
 },
 "nbformat": 4,
 "nbformat_minor": 0
}
