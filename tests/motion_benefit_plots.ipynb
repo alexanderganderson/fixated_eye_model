{
 "cells": [
  {
   "cell_type": "code",
   "execution_count": null,
   "metadata": {
    "collapsed": false
   },
   "outputs": [],
   "source": [
    "cd .."
   ]
  },
  {
   "cell_type": "code",
   "execution_count": null,
   "metadata": {
    "collapsed": false
   },
   "outputs": [],
   "source": [
    "import os\n",
    "import pandas as pd\n",
    "from src.analyzer import *\n",
    "%matplotlib inline\n",
    "plt.rcParams['image.interpolation'] = 'nearest'\n",
    "plt.rcParams['image.cmap'] = 'gray'\n",
    "output_dir = 'output/motion_benefit3'"
   ]
  },
  {
   "cell_type": "code",
   "execution_count": null,
   "metadata": {
    "collapsed": true
   },
   "outputs": [],
   "source": [
    "def plot_fill_between(t, data, label='', c = None, k=1.):\n",
    "    \"\"\"\n",
    "    Create a plot of the data +/- k standard deviations.\n",
    "    \n",
    "    Parameters\n",
    "    ----------\n",
    "    t : array, shape (timesteps, )\n",
    "        Times for each data point\n",
    "    data : array, shape (samples, timesteps)\n",
    "        Data to plot mean and +/- one sdev as a function of time\n",
    "    k : float\n",
    "        Scaling factor for standard deviations\n",
    "    \"\"\"\n",
    "    mm = data.mean(0)\n",
    "    sd = data.std(0) * k\n",
    "    plt.fill_between(t, mm-sd, mm + sd, alpha=0.5, color=c)\n",
    "    plt.plot(t, mm, color=c, label=label)"
   ]
  },
  {
   "cell_type": "code",
   "execution_count": null,
   "metadata": {
    "collapsed": false
   },
   "outputs": [],
   "source": [
    "pkl_fns = [os.path.join(output_dir, fn) \n",
    "           for fn in os.listdir(output_dir) \n",
    "           if fn.endswith('.pkl')]\n",
    "pkl_fns.sort()\n",
    "# pkl_fns = pkl_fns[120:]\n",
    "len(pkl_fns)"
   ]
  },
  {
   "cell_type": "code",
   "execution_count": null,
   "metadata": {
    "collapsed": false
   },
   "outputs": [],
   "source": [
    "da_ = [DataAnalyzer.fromfilename(pkl_fn) for pkl_fn in pkl_fns]\n",
    "t = da_[0].time_list()"
   ]
  },
  {
   "cell_type": "code",
   "execution_count": null,
   "metadata": {
    "collapsed": false
   },
   "outputs": [],
   "source": [
    "out_ = []\n",
    "# for da in da_:\n",
    "for pkl_fn in pkl_fns:\n",
    "    da = DataAnalyzer.fromfilename(pkl_fn)\n",
    "    out = []\n",
    "    out.append(da.data['EM_data']['mode']) # Eye path given or not\n",
    "#     out.append(da.data['motion_gen']['mode']) # True eye movements or no eye movements\n",
    "    out.append(da.data['motion_gen']['dc'])\n",
    "    out.append(da.data['ds']) # Image size\n",
    "    out = out + da.snr_list()\n",
    "    out_.append(out)"
   ]
  },
  {
   "cell_type": "code",
   "execution_count": null,
   "metadata": {
    "collapsed": true
   },
   "outputs": [],
   "source": [
    "t = da.time_list()"
   ]
  },
  {
   "cell_type": "code",
   "execution_count": null,
   "metadata": {
    "collapsed": false
   },
   "outputs": [],
   "source": [
    "data = pd.DataFrame.from_records(out_, columns=['inference_mode', 'dc', 'ds'] + list(t))\n",
    "# data = data[data['ds'] == 0.75]\n",
    "grouped = pd.groupby(data, ['inference_mode', 'dc', 'ds'])\n",
    "c_ = ['g', 'b', 'r', 'y', 'm', 'c']\n",
    "c_ = c_ + c_"
   ]
  },
  {
   "cell_type": "code",
   "execution_count": null,
   "metadata": {
    "collapsed": false
   },
   "outputs": [],
   "source": [
    "plt.figure(figsize=(10, 7))\n",
    "plt.title('SNR as a function of time')\n",
    "for c, (name, group) in zip(c_, grouped):\n",
    "    label = 'Mode: {} dc: {:.2f} ds: {:.2f}'.format(*name)\n",
    "    plot_fill_between(t, group[list(t)], label=label, c=c, k=1)\n",
    "    plt.xlabel('time (ms)')\n",
    "plt.legend(loc='upper left')\n",
    "# plt.savefig(os.path.join(output_dir, 'motion_benefit.png'), dpi=200)"
   ]
  },
  {
   "cell_type": "code",
   "execution_count": null,
   "metadata": {
    "collapsed": false
   },
   "outputs": [],
   "source": [
    "da_[0].plot_image_and_rfs(s=50)"
   ]
  },
  {
   "cell_type": "code",
   "execution_count": null,
   "metadata": {
    "collapsed": false
   },
   "outputs": [],
   "source": [
    "plt.figure(figsize=(10, 4))\n",
    "plt.subplot(121)\n",
    "da_[0].plot_base_image()\n",
    "plt.subplot(122)\n",
    "da_[0].plot_image_estimate(20)"
   ]
  },
  {
   "cell_type": "markdown",
   "metadata": {},
   "source": [
    "# Group SNR plots by image size and diffusion constant"
   ]
  },
  {
   "cell_type": "code",
   "execution_count": null,
   "metadata": {
    "collapsed": false
   },
   "outputs": [],
   "source": [
    "out_ = []\n",
    "for pkl_fn in pkl_fns:\n",
    "    da = DataAnalyzer.fromfilename(pkl_fn)\n",
    "    out = [da.data['ds'], da.data['motion_gen']['dc']]\n",
    "    out = out + da.SNR_list()\n",
    "    out_.append(out)"
   ]
  },
  {
   "cell_type": "code",
   "execution_count": null,
   "metadata": {
    "collapsed": true
   },
   "outputs": [],
   "source": [
    "t = da_[0].time_list()"
   ]
  },
  {
   "cell_type": "code",
   "execution_count": null,
   "metadata": {
    "collapsed": false
   },
   "outputs": [],
   "source": [
    "data = pd.DataFrame.from_records(out_, columns=['ds', 'dc_gen'] + list(t))\n",
    "# data = data[data['ds'] == 0.5]"
   ]
  },
  {
   "cell_type": "code",
   "execution_count": null,
   "metadata": {
    "collapsed": false
   },
   "outputs": [],
   "source": [
    "grouped = pd.groupby(data, ['ds', 'dc_gen'])\n",
    "c_ = ['g', 'b', 'r', 'y', 'm', 'c']"
   ]
  },
  {
   "cell_type": "code",
   "execution_count": null,
   "metadata": {
    "collapsed": false
   },
   "outputs": [],
   "source": [
    "plt.figure(figsize=(10, 7))\n",
    "plt.title('SNR as a function of time')\n",
    "for c, (name, group) in zip(c_, grouped):\n",
    "    label = 'ds={}, dc={}'.format(*name)\n",
    "    plot_fill_between(t, group[list(t)], label=label, c=c)\n",
    "plt.legend(loc='upper left')\n",
    "# plt.savefig(os.path.join(output_dir, 'motion_benefit.png'), dpi=200)"
   ]
  },
  {
   "cell_type": "code",
   "execution_count": null,
   "metadata": {
    "collapsed": true
   },
   "outputs": [],
   "source": []
  }
 ],
 "metadata": {
  "kernelspec": {
   "display_name": "Python 2",
   "language": "python",
   "name": "python2"
  },
  "language_info": {
   "codemirror_mode": {
    "name": "ipython",
    "version": 2
   },
   "file_extension": ".py",
   "mimetype": "text/x-python",
   "name": "python",
   "nbconvert_exporter": "python",
   "pygments_lexer": "ipython2",
   "version": "2.7.11"
  }
 },
 "nbformat": 4,
 "nbformat_minor": 0
}
