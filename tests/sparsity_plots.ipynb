{
 "cells": [
  {
   "cell_type": "code",
   "execution_count": null,
   "metadata": {
    "collapsed": false
   },
   "outputs": [],
   "source": [
    "import os\n",
    "from src.analyzer import *\n",
    "%matplotlib inline\n",
    "output_dir = 'output/sparsity'"
   ]
  },
  {
   "cell_type": "code",
   "execution_count": null,
   "metadata": {
    "collapsed": false
   },
   "outputs": [],
   "source": [
    "pkl_fns = [os.path.join(output_dir, fn) \n",
    "           for fn in os.listdir(output_dir) \n",
    "           if fn.endswith('.pkl')]\n",
    "pkl_fns"
   ]
  },
  {
   "cell_type": "code",
   "execution_count": null,
   "metadata": {
    "collapsed": false
   },
   "outputs": [],
   "source": [
    "snr_list_ = [DataAnalyzer.fromfilename(pkl_fn).SNR_list() for pkl_fn in pkl_fns]"
   ]
  },
  {
   "cell_type": "code",
   "execution_count": null,
   "metadata": {
    "collapsed": true
   },
   "outputs": [],
   "source": [
    "in_idx = slice(0, 1)\n",
    "sp_idx = slice(1, 2)"
   ]
  },
  {
   "cell_type": "code",
   "execution_count": null,
   "metadata": {
    "collapsed": true
   },
   "outputs": [],
   "source": [
    "da = DataAnalyzer.fromfilename(pkl_fns[-1])"
   ]
  },
  {
   "cell_type": "code",
   "execution_count": null,
   "metadata": {
    "collapsed": false
   },
   "outputs": [],
   "source": [
    "snr_sp = np.array(snr_list_[sp_idx])\n",
    "snr_id = np.array(snr_list_[in_idx])\n",
    "t = da.time_list()"
   ]
  },
  {
   "cell_type": "code",
   "execution_count": null,
   "metadata": {
    "collapsed": true
   },
   "outputs": [],
   "source": [
    "def plot_fill_between(t, data, label='', c = 'r'):\n",
    "    \"\"\"\n",
    "    t : array, shape (timesteps, )\n",
    "        indices for time\n",
    "    data : array, shape (samples, timesteps)\n",
    "        SNR to plot mean and +/- one sdev\n",
    "    \"\"\"\n",
    "    mm = data.mean(0)\n",
    "    sd = data.std(0)\n",
    "    plt.fill_between(t, mm-sd, mm + sd, alpha=0.5, color=c)\n",
    "    plt.plot(t, mm, color=c, label=label)"
   ]
  },
  {
   "cell_type": "code",
   "execution_count": null,
   "metadata": {
    "collapsed": false
   },
   "outputs": [],
   "source": [
    "plot_fill_between(t, snr_sp, c = 'g', label='Sparse Prior')\n",
    "plot_fill_between(t, snr_id, c = 'b', label='Independent Pixel Prior')\n",
    "plt.xlabel('time (ms)')\n",
    "plt.ylabel('SNR')\n",
    "plt.title('SNR as a function of time, DC = {}'.format(100.))\n",
    "plt.legend(loc='upper left')\n",
    "plt.savefig(os.path.join(output_dir, 'sp_vs_indep.png'), dpi=200)"
   ]
  },
  {
   "cell_type": "code",
   "execution_count": null,
   "metadata": {
    "collapsed": true
   },
   "outputs": [],
   "source": []
  }
 ],
 "metadata": {
  "kernelspec": {
   "display_name": "Python 2",
   "language": "python",
   "name": "python2"
  },
  "language_info": {
   "codemirror_mode": {
    "name": "ipython",
    "version": 2
   },
   "file_extension": ".py",
   "mimetype": "text/x-python",
   "name": "python",
   "nbconvert_exporter": "python",
   "pygments_lexer": "ipython2",
   "version": "2.7.11"
  }
 },
 "nbformat": 4,
 "nbformat_minor": 0
}
