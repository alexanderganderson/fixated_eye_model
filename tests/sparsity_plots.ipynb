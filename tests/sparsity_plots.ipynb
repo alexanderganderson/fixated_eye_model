{
 "cells": [
  {
   "cell_type": "code",
   "execution_count": null,
   "metadata": {},
   "outputs": [],
   "source": [
    "import os\n",
    "import numpy as np\n",
    "import pandas as pd\n",
    "import matplotlib.pyplot as plt\n",
    "%matplotlib inline\n",
    "\n",
    "from scipy.stats import ks_2samp\n",
    "\n",
    "from context import src, utils\n",
    "from src.analyzer import DataAnalyzer, plot_fill_between\n",
    "from utils.rf_plot import show_fields\n",
    "output_dir = '../output/sparsity'"
   ]
  },
  {
   "cell_type": "code",
   "execution_count": null,
   "metadata": {},
   "outputs": [],
   "source": [
    "pkl_fns = [os.path.join(output_dir, fn) \n",
    "           for fn in os.listdir(output_dir) \n",
    "           if fn.endswith('.pkl')]\n",
    "pkl_fns.sort()\n",
    "len(pkl_fns)"
   ]
  },
  {
   "cell_type": "code",
   "execution_count": null,
   "metadata": {},
   "outputs": [],
   "source": [
    "import pickle as pkl\n",
    "from utils.h5py_utils import save_dict\n",
    "\n",
    "pkl_fns = [os.path.join(output_dir, fn) \n",
    "           for fn in os.listdir(output_dir) \n",
    "           if fn.endswith('.pkl')]\n",
    "pkl_fns.sort()\n",
    "len(pkl_fns)\n",
    "\n",
    "for pkl_fn in pkl_fns:\n",
    "    print pkl_fn\n",
    "    with open(pkl_fn, 'rb') as f:\n",
    "        data = pkl.load(f)\n",
    "    save_fn = pkl_fn.replace('pkl', 'h5')\n",
    "    save_dict(save_fn, data)"
   ]
  },
  {
   "cell_type": "code",
   "execution_count": null,
   "metadata": {
    "collapsed": true
   },
   "outputs": [],
   "source": [
    "da_ = [DataAnalyzer.fromfilename(pkl_fn) for pkl_fn in pkl_fns]"
   ]
  },
  {
   "cell_type": "code",
   "execution_count": null,
   "metadata": {
    "collapsed": true
   },
   "outputs": [],
   "source": [
    "records = []\n",
    "for da in da_:\n",
    "    record = []\n",
    "    record.append(da.data['D_name'])\n",
    "    record.append(da.data['ds'])\n",
    "    record = record + da.snr_list()\n",
    "    records.append(record)"
   ]
  },
  {
   "cell_type": "code",
   "execution_count": null,
   "metadata": {
    "collapsed": true
   },
   "outputs": [],
   "source": [
    "t = da.time_list()\n",
    "data = pd.DataFrame.from_records(records, columns=['D_name', 'ds'] + list(t))\n",
    "grouped = pd.groupby(data, ['D_name', 'ds'])\n",
    "len(grouped)"
   ]
  },
  {
   "cell_type": "code",
   "execution_count": null,
   "metadata": {
    "collapsed": true
   },
   "outputs": [],
   "source": [
    "for i, (name, group) in enumerate(grouped):\n",
    "    D_name, ds = name\n",
    "#     if ds != 0.4:\n",
    "#         continue\n",
    "    print 'Group: {} | Prior: {} | ds: {}'.format(i, D_name, ds)\n",
    "    print group[list(t)[-1]].mean()"
   ]
  },
  {
   "cell_type": "code",
   "execution_count": null,
   "metadata": {
    "collapsed": true
   },
   "outputs": [],
   "source": [
    "INDEP = 'Indep'\n",
    "SPAR = 'Sparse'\n",
    "NSPAR = 'Non-sparse'"
   ]
  },
  {
   "cell_type": "code",
   "execution_count": null,
   "metadata": {
    "collapsed": true
   },
   "outputs": [],
   "source": [
    "c_ = plt.cm.rainbow(np.linspace(0, 1, len(grouped)))\n",
    "np.random.shuffle(c_); c_ = list(c_)\n",
    "\n",
    "label_ = {'Indep': 'Independent Pixel Prior', \n",
    "          'Sparse': 'Sparse Prior', \n",
    "          'Non-sparse' : 'Non-sparse Prior'}"
   ]
  },
  {
   "cell_type": "code",
   "execution_count": null,
   "metadata": {
    "collapsed": true
   },
   "outputs": [],
   "source": [
    "title = 'SNR as a function of time'.format('')\n",
    "plt.figure(figsize=(5, 5))\n",
    "plt.title(title)\n",
    "# , DC = {}'.format(100.)\n",
    "alpha = 0.75\n",
    "for c, (name, group) in zip(c_, grouped):\n",
    "    D_name, ds = name\n",
    "#     if mode != 'EM':\n",
    "#         continue\n",
    "    if ds != 0.70:\n",
    "        continue\n",
    "#     label = 'D: {}, ds: {:.2f}'.format(label_[D_name])\n",
    "    label = label_[D_name]\n",
    "    plot_fill_between(t, group[list(t)], label=label, c=c, k=0.5)\n",
    "#     plt.plot(t, group[list(t)].T.iloc[:, 0], c=c, label=label, alpha=alpha)\n",
    "#     plt.plot(t, group[list(t)].T.iloc[:, 1:], c=c, alpha=alpha);\n",
    "    plt.xlabel('time (ms)')\n",
    "    plt.ylabel('SNR')\n",
    "plt.legend(loc='upper left')\n",
    "# plt.ylim([0, 12]);\n",
    "# plt.savefig(os.path.join(output_dir, 'dict_compare.png'), dpi=200)"
   ]
  },
  {
   "cell_type": "code",
   "execution_count": null,
   "metadata": {
    "collapsed": true
   },
   "outputs": [],
   "source": [
    "final_snrs = [group[list(t)[-1]].values for k, group in grouped]\n",
    "names = [k for k, group in grouped]"
   ]
  },
  {
   "cell_type": "code",
   "execution_count": null,
   "metadata": {
    "collapsed": true
   },
   "outputs": [],
   "source": [
    "q1, q2 = 4, 7\n",
    "print names[q1], names[q2]\n",
    "ks_2samp(final_snrs[q1], final_snrs[q2])"
   ]
  },
  {
   "cell_type": "code",
   "execution_count": null,
   "metadata": {
    "collapsed": true
   },
   "outputs": [],
   "source": [
    "idx = [data[(data['D_name'] == key) & (data['ds'] == 0.7)].index.values for key in [INDEP, SPAR, NSPAR]]\n",
    "indep_idx, spar_idx, nspar_idx = idx"
   ]
  },
  {
   "cell_type": "code",
   "execution_count": null,
   "metadata": {
    "collapsed": true
   },
   "outputs": [],
   "source": [
    "da_[spar_idx[1]].plot_em_estimate(-1)\n",
    "# plt.savefig(os.path.join(output_dir, 'sparse_example.png'), dpi=200)"
   ]
  },
  {
   "cell_type": "code",
   "execution_count": null,
   "metadata": {
    "collapsed": true
   },
   "outputs": [],
   "source": [
    "video_dir = os.path.join(output_dir, 'video')\n",
    "\n",
    "if not os.path.exists(video_dir):\n",
    "    os.makedirs(video_dir)"
   ]
  },
  {
   "cell_type": "markdown",
   "metadata": {},
   "source": [
    "Create a video\n",
    "`\n",
    "avconv -framerate 20 -i img_%04d.png -c:v libx264 -r 30 rec.mp4\n",
    "`"
   ]
  },
  {
   "cell_type": "code",
   "execution_count": null,
   "metadata": {
    "collapsed": true
   },
   "outputs": [],
   "source": [
    "# for i in range(da.N_itr):\n",
    "#     print 'Rendering image {:04d}'.format(i)\n",
    "# #     da_[spar_idx[1]].plot_em_estimate(i)\n",
    "# #     plt.savefig(os.path.join(video_dir, 'img_{:04d}.png'.format(i)), dpi=150)\n",
    "# #     plt.close()"
   ]
  },
  {
   "cell_type": "markdown",
   "metadata": {},
   "source": [
    "Dictionary with Reconstructions after 200 ms, DC = 100"
   ]
  },
  {
   "cell_type": "code",
   "execution_count": null,
   "metadata": {
    "collapsed": true
   },
   "outputs": [],
   "source": [
    "da.plot_image_estimate?"
   ]
  },
  {
   "cell_type": "code",
   "execution_count": null,
   "metadata": {
    "collapsed": true
   },
   "outputs": [],
   "source": [
    "plt.rcParams['font.size'] = 7"
   ]
  },
  {
   "cell_type": "code",
   "execution_count": null,
   "metadata": {
    "collapsed": true
   },
   "outputs": [],
   "source": [
    "def plot_snr_fcn_time(fig, ax, grouped, label_):\n",
    "\n",
    "    c_ = plt.cm.rainbow(np.linspace(0, 1, len(grouped)))\n",
    "    np.random.shuffle(c_); c_ = list(c_)\n",
    "\n",
    "    c_ = ['r', 'r', 'r', 'g' 'g', 'g', 'b', 'b', 'b']\n",
    "#     label_ = {'Indep': 'Independent Pixel Prior', \n",
    "#               'Sparse': 'Sparse Prior', \n",
    "#               'Non-sparse' : 'Non-sparse Prior'}\n",
    "    \n",
    "    \n",
    "    title = 'SNR as a function of time'.format('')\n",
    "    ax.set_title(title)\n",
    "    alpha = 0.75\n",
    "    for c, (name, group) in zip(c_, grouped):\n",
    "        D_name, ds = name\n",
    "        if ds != 0.70:\n",
    "            continue\n",
    "    #     label = 'D: {}, ds: {:.2f}'.format(label_[D_name])\n",
    "        label = label_[D_name]\n",
    "#         label=D_name\n",
    "        plot_fill_between(ax, t, group[list(t)], label=label, c=c, k=0.5)\n",
    "        ax.set_xlabel('time (ms)')\n",
    "        ax.set_ylabel('SNR')\n",
    "    ax.legend(loc='upper left', prop={'size': '6'})"
   ]
  },
  {
   "cell_type": "code",
   "execution_count": null,
   "metadata": {
    "collapsed": true
   },
   "outputs": [],
   "source": [
    "from src.analyzer import _get_sum_gaussian_image"
   ]
  },
  {
   "cell_type": "code",
   "execution_count": null,
   "metadata": {
    "collapsed": true
   },
   "outputs": [],
   "source": [
    "def plot_image_estimate(self, fig, ax, q, cmap=plt.cm.gray,\n",
    "                        colorbar=True, vmax=None):\n",
    "\n",
    "    \"\"\"Plot the estimated image after iteration q.\"\"\"\n",
    "    if q == -1:\n",
    "        q = self.N_itr - 1\n",
    "\n",
    "    res = _get_sum_gaussian_image(\n",
    "        self.data['EM_data'][q]['image_est'].ravel(),\n",
    "        self.xs, self.ys,\n",
    "    self.data['ds'] / np.sqrt(2), n=100)\n",
    "    ax.set_title('Estimated Image, S = DA:\\n SNR = %.2f'\n",
    "            % self.snr_one_iteration(q))\n",
    "    # FIXME: extent calculation could break in future\n",
    "    a = self.data['ds'] * self.L_I / 2\n",
    "    cax = ax.imshow(res, cmap=cmap, interpolation='nearest',\n",
    "                         extent=[-a, a, -a, a],\n",
    "                         vmax=vmax)\n",
    "    if colorbar:\n",
    "        fig.colorbar(cax, ax=ax)"
   ]
  },
  {
   "cell_type": "code",
   "execution_count": null,
   "metadata": {
    "collapsed": true
   },
   "outputs": [],
   "source": [
    "tmp = [idx[u] for u in [0, 2, 1]]\n",
    "tmp = [tp[1] for tp in tmp]\n",
    "\n",
    "label_ = {'Indep': 'IND', \n",
    "          'Sparse': 'SP', \n",
    "          'Non-sparse' : 'N-SP'}\n",
    "\n",
    "\n",
    "\n",
    "fig, axes = plt.subplots(nrows=3, ncols=2, figsize=(3.5, 4))\n",
    "\n",
    "for (u, v), idx_  in zip([[0, 1], [1, 1], [2, 1]], tmp):\n",
    "    da = da_[idx_]\n",
    "    plot_image_estimate(da, fig, axes[u][v], -1, colorbar=False,\n",
    "                          vmax=2.8)\n",
    "    axes[u][v].set_title('{}: SNR = {:.2f}'.format(\n",
    "            label_[da.data['D_name']], da.snr_one_iteration(da.N_itr - 1)))\n",
    "\n",
    "plot_snr_fcn_time(fig, axes[2][0], grouped, label_)\n",
    "\n",
    "da.plot_base_image(fig, axes[0][0])\n",
    "axes[0][0].set_title('Original Pattern')\n",
    "\n",
    "\n",
    "da.plot_image_and_rfs(fig, axes[1][0], legend=False)\n",
    "for u in [0, 1]:\n",
    "    axes[u][0].set_xlabel('x (arcmin)')\n",
    "    axes[u][0].set_ylabel('y (arcmin)')\n",
    "axes[1][0].set_title('Pattern and RFs')\n",
    "\n",
    "for ax in axes.flat:\n",
    "    ax.set_title(ax.get_title(), fontdict={'size': 7})\n",
    "\n",
    "\n",
    "plt.tight_layout(pad=0.2)\n",
    "plt.savefig(os.path.join(output_dir, 'sparsity.pdf'), dpi=300)"
   ]
  },
  {
   "cell_type": "code",
   "execution_count": null,
   "metadata": {
    "collapsed": true
   },
   "outputs": [],
   "source": []
  },
  {
   "cell_type": "code",
   "execution_count": null,
   "metadata": {
    "collapsed": true
   },
   "outputs": [],
   "source": []
  },
  {
   "cell_type": "code",
   "execution_count": null,
   "metadata": {
    "collapsed": true
   },
   "outputs": [],
   "source": [
    "da.plot_image_and_rfs()"
   ]
  },
  {
   "cell_type": "code",
   "execution_count": null,
   "metadata": {
    "collapsed": true
   },
   "outputs": [],
   "source": [
    "fig, axes = plt.subplots(nrows=2, ncols=3, figsize=(7, 4.5))\n",
    "\n",
    "for i, idx1 in enumerate([idx[u] for u in [0, 2, 1]]):\n",
    "    da = da_[idx1[1]]\n",
    "    da.plot_image_estimate(fig, axes[1][i], -1)\n",
    "    axes[1][i].set_title('SNR = {:.2f}'.format(da.snr_one_iteration(da.N_itr - 1)))\n",
    "    plt.subplot(2, 3, i + 1)\n",
    "    D = da.data['D']\n",
    "    D_name = da.data['D_name']\n",
    "    plt.title('Dictionary: {}'.format(D_name))\n",
    "    show_fields(D, pos_only=True)\n",
    "\n",
    "plt.savefig(os.path.join(output_dir, 'dict_and_rec.pdf'), dpi=300)"
   ]
  },
  {
   "cell_type": "code",
   "execution_count": null,
   "metadata": {
    "collapsed": true
   },
   "outputs": [],
   "source": [
    "plt.figure(figsize=(7, 4))\n",
    "# plt.suptitle('Reconstruction as a function of time for Sparse Image Prior')\n",
    "da = da_[spar_idx[1]]\n",
    "for i, ii in enumerate([None, 0, 14, 24, 59, 99]):\n",
    "    plt.subplot(2, 3, i + 1)\n",
    "    if i == 0:\n",
    "        da.plot_base_image()\n",
    "        plt.title('True Image')\n",
    "    else: \n",
    "        da.plot_image_estimate(ii)\n",
    "        plt.title('t = {} ms'.format(ii * 2 + 2))\n",
    "plt.tight_layout()\n",
    "# plt.savefig(os.path.join(output_dir, 'sparse_rec_time.png'), dpi=200)"
   ]
  },
  {
   "cell_type": "markdown",
   "metadata": {},
   "source": [
    "Plot of Dictionaries"
   ]
  },
  {
   "cell_type": "code",
   "execution_count": null,
   "metadata": {
    "collapsed": true
   },
   "outputs": [],
   "source": [
    "plt.figure(figsize=(12, 3))\n",
    "for i, q in enumerate([0, 20, 40]):\n",
    "    da = da_[q]\n",
    "    plt.subplot(1, 3, i + 1)\n",
    "\n",
    "    D = da.data['D']\n",
    "    D_name = da.data['D_name']\n",
    "    plt.title('Dictionary: {}'.format(D_name))\n",
    "    show_fields(D, pos_only=True)\n",
    "# plt.savefig(os.path.join(output_dir, 'dictionaries.png'), dpi=250)"
   ]
  },
  {
   "cell_type": "code",
   "execution_count": null,
   "metadata": {
    "collapsed": true
   },
   "outputs": [],
   "source": [
    "plt.figure(figsize=(3, 3))\n",
    "da.plot_tuning_curves()\n",
    "plt.tight_layout()\n",
    "# plt.savefig(os.path.join(output_dir, 'firing_rate.png'), dpi=200)"
   ]
  },
  {
   "cell_type": "code",
   "execution_count": null,
   "metadata": {
    "collapsed": true
   },
   "outputs": [],
   "source": []
  },
  {
   "cell_type": "code",
   "execution_count": null,
   "metadata": {
    "collapsed": true
   },
   "outputs": [],
   "source": []
  },
  {
   "cell_type": "code",
   "execution_count": null,
   "metadata": {
    "collapsed": true
   },
   "outputs": [],
   "source": []
  },
  {
   "cell_type": "code",
   "execution_count": null,
   "metadata": {
    "collapsed": true
   },
   "outputs": [],
   "source": []
  },
  {
   "cell_type": "code",
   "execution_count": null,
   "metadata": {
    "collapsed": true
   },
   "outputs": [],
   "source": []
  },
  {
   "cell_type": "code",
   "execution_count": null,
   "metadata": {
    "collapsed": true
   },
   "outputs": [],
   "source": []
  },
  {
   "cell_type": "code",
   "execution_count": null,
   "metadata": {
    "collapsed": true
   },
   "outputs": [],
   "source": []
  },
  {
   "cell_type": "code",
   "execution_count": null,
   "metadata": {
    "collapsed": true
   },
   "outputs": [],
   "source": []
  }
 ],
 "metadata": {
  "kernelspec": {
   "display_name": "Python 2",
   "language": "python",
   "name": "python2"
  },
  "language_info": {
   "codemirror_mode": {
    "name": "ipython",
    "version": 2
   },
   "file_extension": ".py",
   "mimetype": "text/x-python",
   "name": "python",
   "nbconvert_exporter": "python",
   "pygments_lexer": "ipython2",
   "version": "2.7.13"
  }
 },
 "nbformat": 4,
 "nbformat_minor": 1
}
