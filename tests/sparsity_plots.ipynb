{
 "cells": [
  {
   "cell_type": "code",
   "execution_count": null,
   "metadata": {
    "collapsed": false
   },
   "outputs": [],
   "source": [
    "cd .."
   ]
  },
  {
   "cell_type": "code",
   "execution_count": null,
   "metadata": {
    "collapsed": false
   },
   "outputs": [],
   "source": [
    "import os\n",
    "import numpy as np\n",
    "import pandas as pd\n",
    "from src.analyzer import DataAnalyzer, plot_fill_between\n",
    "import matplotlib.pyplot as plt\n",
    "from utils.rf_plot import show_fields\n",
    "from scipy.stats import ks_2samp\n",
    "%matplotlib inline\n",
    "output_dir = 'output/sparsity'"
   ]
  },
  {
   "cell_type": "code",
   "execution_count": null,
   "metadata": {
    "collapsed": false
   },
   "outputs": [],
   "source": [
    "pkl_fns = [os.path.join(output_dir, fn) \n",
    "           for fn in os.listdir(output_dir) \n",
    "           if fn.endswith('.pkl')]\n",
    "pkl_fns.sort()\n",
    "len(pkl_fns)"
   ]
  },
  {
   "cell_type": "code",
   "execution_count": null,
   "metadata": {
    "collapsed": false
   },
   "outputs": [],
   "source": [
    "da_ = [DataAnalyzer.fromfilename(pkl_fn) for pkl_fn in pkl_fns]"
   ]
  },
  {
   "cell_type": "code",
   "execution_count": null,
   "metadata": {
    "collapsed": true
   },
   "outputs": [],
   "source": [
    "records = []\n",
    "for da in da_:\n",
    "    record = []\n",
    "    record.append(da.data['D_name'])\n",
    "    record.append(da.data['ds'])\n",
    "    record = record + da.snr_list()\n",
    "    records.append(record)"
   ]
  },
  {
   "cell_type": "code",
   "execution_count": null,
   "metadata": {
    "collapsed": false
   },
   "outputs": [],
   "source": [
    "t = da.time_list()\n",
    "data = pd.DataFrame.from_records(records, columns=['D_name', 'ds'] + list(t))\n",
    "grouped = pd.groupby(data, ['D_name', 'ds'])\n",
    "len(grouped)"
   ]
  },
  {
   "cell_type": "code",
   "execution_count": null,
   "metadata": {
    "collapsed": false
   },
   "outputs": [],
   "source": [
    "for i, (name, group) in enumerate(grouped):\n",
    "    D_name, ds = name\n",
    "#     if ds != 0.4:\n",
    "#         continue\n",
    "    print 'Group: {} | Prior: {} | ds: {}'.format(i, D_name, ds)\n",
    "    print group[list(t)[-1]].mean()"
   ]
  },
  {
   "cell_type": "code",
   "execution_count": null,
   "metadata": {
    "collapsed": true
   },
   "outputs": [],
   "source": [
    "label_ = ['Sparse Prior', 'Non-sparse Learned Prior', 'Independent Pixel Prior']\n",
    "c_ = plt.cm.rainbow(np.linspace(0, 1, len(grouped)))\n",
    "np.random.shuffle(c_); c_ = list(c_)"
   ]
  },
  {
   "cell_type": "code",
   "execution_count": null,
   "metadata": {
    "collapsed": false
   },
   "outputs": [],
   "source": [
    "plt.figure(figsize=(10, 7))\n",
    "plt.title('SNR as a function of time')\n",
    "# , DC = {}'.format(100.)\n",
    "alpha = 0.75\n",
    "for c, (name, group) in zip(c_, grouped):\n",
    "    D_name, ds = name\n",
    "#     if mode != 'EM':\n",
    "#         continue\n",
    "    if ds != 0.70:\n",
    "        continue\n",
    "    label = 'D: {}, ds: {:.2f}'.format(*name)\n",
    "    plot_fill_between(t, group[list(t)], label=label, c=c, k=0.5)\n",
    "#     plt.plot(t, group[list(t)].T.iloc[:, 0], c=c, label=label, alpha=alpha)\n",
    "#     plt.plot(t, group[list(t)].T.iloc[:, 1:], c=c, alpha=alpha);\n",
    "    plt.xlabel('time (ms)')\n",
    "    plt.ylabel('SNR')\n",
    "plt.legend(loc='upper left')\n",
    "# plt.ylim([0, 12]);\n",
    "# plt.savefig(os.path.join(output_dir, 'sparse_compare.png'), dpi=200)"
   ]
  },
  {
   "cell_type": "code",
   "execution_count": null,
   "metadata": {
    "collapsed": true
   },
   "outputs": [],
   "source": [
    "final_snrs = [group[list(t)[-1]].values for k, group in grouped]\n",
    "names = [k for k, group in grouped]"
   ]
  },
  {
   "cell_type": "code",
   "execution_count": null,
   "metadata": {
    "collapsed": false
   },
   "outputs": [],
   "source": [
    "q1, q2 = 4, 7\n",
    "print names[q1], names[q2]\n",
    "ks_2samp(final_snrs[q1], final_snrs[q2])"
   ]
  },
  {
   "cell_type": "code",
   "execution_count": null,
   "metadata": {
    "collapsed": false
   },
   "outputs": [],
   "source": [
    "da_[42].plot_em_estimate(30)\n",
    "# plt.savefig(os.path.join(output_dir, 'sparse_example.png'))"
   ]
  },
  {
   "cell_type": "code",
   "execution_count": null,
   "metadata": {
    "collapsed": true
   },
   "outputs": [],
   "source": []
  },
  {
   "cell_type": "code",
   "execution_count": null,
   "metadata": {
    "collapsed": false
   },
   "outputs": [],
   "source": [
    "plt.figure(figsize=(10, 10))\n",
    "for i, idx in enumerate([0, 20, 40]):\n",
    "    da = da_[idx]\n",
    "    plt.subplot(2, 2, i + 1)\n",
    "\n",
    "    D = da.data['D']\n",
    "    D_name = da.data['D_name']\n",
    "    plt.title('D_name: {}'.format(D_name))\n",
    "    show_fields(D, pos_only=True)"
   ]
  },
  {
   "cell_type": "code",
   "execution_count": null,
   "metadata": {
    "collapsed": false
   },
   "outputs": [],
   "source": [
    "da_[20].plot_image_and_rfs()"
   ]
  },
  {
   "cell_type": "code",
   "execution_count": null,
   "metadata": {
    "collapsed": false
   },
   "outputs": [],
   "source": [
    "plt.figure(figsize=(3, 3))\n",
    "da.plot_tuning_curves()\n",
    "plt.tight_layout()\n",
    "# plt.savefig(os.path.join(output_dir, 'firing_rate.png'), dpi=200)"
   ]
  },
  {
   "cell_type": "code",
   "execution_count": null,
   "metadata": {
    "collapsed": true
   },
   "outputs": [],
   "source": []
  }
 ],
 "metadata": {
  "kernelspec": {
   "display_name": "Python 2",
   "language": "python",
   "name": "python2"
  },
  "language_info": {
   "codemirror_mode": {
    "name": "ipython",
    "version": 2
   },
   "file_extension": ".py",
   "mimetype": "text/x-python",
   "name": "python",
   "nbconvert_exporter": "python",
   "pygments_lexer": "ipython2",
   "version": "2.7.11"
  }
 },
 "nbformat": 4,
 "nbformat_minor": 0
}
