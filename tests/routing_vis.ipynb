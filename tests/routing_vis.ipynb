{
 "cells": [
  {
   "cell_type": "code",
   "execution_count": null,
   "metadata": {
    "collapsed": false
   },
   "outputs": [],
   "source": [
    "cd .."
   ]
  },
  {
   "cell_type": "code",
   "execution_count": null,
   "metadata": {
    "collapsed": true
   },
   "outputs": [],
   "source": [
    "import os\n",
    "from utils.rf_plot import show_fields"
   ]
  },
  {
   "cell_type": "code",
   "execution_count": null,
   "metadata": {
    "collapsed": true
   },
   "outputs": [],
   "source": [
    "import matplotlib.pyplot as plt\n",
    "%matplotlib inline"
   ]
  },
  {
   "cell_type": "code",
   "execution_count": null,
   "metadata": {
    "collapsed": false
   },
   "outputs": [],
   "source": [
    "\"\"\"Basic test of the code.\"\"\"\n",
    "import numpy as np\n",
    "# import matplotlib.pyplot as plt\n",
    "from scipy.io import loadmat\n",
    "\n",
    "from src.model import EMBurak\n",
    "from src.analyzer import DataAnalyzer\n",
    "from utils.image_gen import ImageGenerator\n",
    "\n",
    "# Tests the algorithm using a '0' from mnist and a sparse coding dictionary\n",
    "\n",
    "data = loadmat('sparse_coder/output/mnist_dictionary.mat')\n",
    "D = data['D']\n",
    "\n",
    "\n",
    "_, N_pix = D.shape\n",
    "\n",
    "L_I = int(np.sqrt(N_pix))  # Linear dimension of image\n",
    "\n",
    "ig = ImageGenerator(L_I)\n",
    "ig.make_digit()\n",
    "ig.normalize()\n",
    "\n",
    "s_gen = ig.img\n",
    "s_gen_name = ig.img_name\n",
    "\n",
    "motion_gen = {'mode': 'Diffusion', 'dc': 100.}\n",
    "motion_prior = {'mode': 'PositionDiffusion', 'dc': 100.}\n",
    "\n",
    "output_dir_base = 'routing_vis'\n",
    "\n",
    "\n",
    "emb = EMBurak(s_gen - 0.5, D, motion_gen, motion_prior, n_t=10, save_mode=True,\n",
    "              s_gen_name=s_gen_name, n_itr=10, lamb=0.0, s_range='sym',\n",
    "              output_dir_base=output_dir_base, save_pix_rf_coupling=True)"
   ]
  },
  {
   "cell_type": "code",
   "execution_count": null,
   "metadata": {
    "collapsed": false
   },
   "outputs": [],
   "source": [
    "XR, YR, R = emb.gen_data(s_gen)\n",
    "emb.run_em(R)\n",
    "emb.save()"
   ]
  },
  {
   "cell_type": "code",
   "execution_count": null,
   "metadata": {
    "collapsed": true
   },
   "outputs": [],
   "source": [
    "output_dir = os.path.join('output', output_dir_base)"
   ]
  },
  {
   "cell_type": "code",
   "execution_count": null,
   "metadata": {
    "collapsed": false
   },
   "outputs": [],
   "source": [
    "pkl_fns = [os.path.join(output_dir, fn) \n",
    "           for fn in os.listdir(output_dir)\n",
    "           if fn.endswith('.pkl')]\n",
    "pkl_fns.sort()\n",
    "len(pkl_fns)"
   ]
  },
  {
   "cell_type": "code",
   "execution_count": null,
   "metadata": {
    "collapsed": true
   },
   "outputs": [],
   "source": [
    "pkl_fn = pkl_fns[-1]"
   ]
  },
  {
   "cell_type": "code",
   "execution_count": null,
   "metadata": {
    "collapsed": false
   },
   "outputs": [],
   "source": [
    "da = DataAnalyzer.fromfilename(pkl_fn)"
   ]
  },
  {
   "cell_type": "code",
   "execution_count": null,
   "metadata": {
    "collapsed": false
   },
   "outputs": [],
   "source": [
    "R = da.R\n",
    "t = 0\n",
    "j = np.argmax(R.mean(axis=1))"
   ]
  },
  {
   "cell_type": "code",
   "execution_count": null,
   "metadata": {
    "collapsed": false
   },
   "outputs": [],
   "source": [
    "frame = np.zeros((L_I, L_I))\n",
    "\n",
    "frame[0] = 1\n",
    "frame[-1] = 1\n",
    "frame[:, 0] = 1\n",
    "frame[:, -1] = 1\n",
    "frame = frame.ravel()"
   ]
  },
  {
   "cell_type": "code",
   "execution_count": null,
   "metadata": {
    "collapsed": false
   },
   "outputs": [],
   "source": []
  },
  {
   "cell_type": "code",
   "execution_count": null,
   "metadata": {
    "collapsed": true
   },
   "outputs": [],
   "source": [
    "from matplotlib.patches import Ellipse"
   ]
  },
  {
   "cell_type": "code",
   "execution_count": null,
   "metadata": {
    "collapsed": false
   },
   "outputs": [],
   "source": [
    "# for t in range(10):\n",
    "coup = da.data['EM_data'][t]['pix_rf_coupling'][:, j]\n",
    "coup = coup / np.max(abs(coup))\n",
    "\n",
    "A = da.data['EM_data'][t]['coeff_est']\n",
    "\n",
    "xe = da.data['XE']\n",
    "ye = da.data['YE']\n",
    "de = da.data['de']\n",
    "\n",
    "\n",
    "fig, axes = plt.subplots(2, 2, figsize=(15, 15))\n",
    "\n",
    "ax = axes[0, 0]\n",
    "da.plot_image_estimate(fig, ax, t, colorbar=False)\n",
    "\n",
    "ax = axes[0, 1]\n",
    "da.plot_spikes(ax, t)\n",
    "if R[j, t] == 1:\n",
    "    ax.add_patch(plt.Circle((xe[j], -ye[j]), de * 0.4, alpha=0.5, color='red', fill=False))\n",
    "\n",
    "    \n",
    "ax = axes[1, 0]\n",
    "AD = A[:, np.newaxis] * D\n",
    "show_fields(AD, fig=fig, ax=ax, colorbar=True, pos_only=True)\n",
    "if R[j, t] == 1:\n",
    "    show_fields(\n",
    "        np.outer(coup, frame), \n",
    "        alpha=0.5, \n",
    "        cmap=rvb, \n",
    "        fig=fig, \n",
    "        ax=ax, \n",
    "        colorbar=False, pos_only=True)\n",
    "\n",
    "    \n",
    "ax = axes[1, 1]\n",
    "mu  = da.data['EM_data'][t]['path_means'][t]\n",
    "sig = da.data['EM_data'][t]['path_sdevs'][t]\n",
    "for i, alpha in enumerate([1.0, 0.5, 0.25]):\n",
    "    j = i + 1\n",
    "    e = Ellipse(mu, width=sig[0] * j, height=sig[1] * j, alpha=alpha)\n",
    "    ax.add_artist(e)\n",
    "\n",
    "\n",
    "_ = ax.set_xlim(axes[0, 0].get_xlim())\n",
    "_ = ax.set_ylim(axes[0, 0].get_ylim())"
   ]
  },
  {
   "cell_type": "code",
   "execution_count": null,
   "metadata": {
    "collapsed": false
   },
   "outputs": [],
   "source": [
    "fig, ax = plt.subplots(1, 1)\n",
    "show_fields(\n",
    "    np.outer(coup, frame), \n",
    "    alpha=1, \n",
    "    cmap=rvb, \n",
    "    fig=fig, \n",
    "    ax=ax, \n",
    "    colorbar=False, pos_only=True)\n"
   ]
  },
  {
   "cell_type": "code",
   "execution_count": null,
   "metadata": {
    "collapsed": true
   },
   "outputs": [],
   "source": []
  },
  {
   "cell_type": "code",
   "execution_count": null,
   "metadata": {
    "collapsed": false
   },
   "outputs": [],
   "source": [
    "plt.hist(np.outer(coup, frame).ravel(), bins=200)"
   ]
  },
  {
   "cell_type": "code",
   "execution_count": null,
   "metadata": {
    "collapsed": false
   },
   "outputs": [],
   "source": [
    "ax = plt.axes()\n",
    "a = np.zeros((5, 5))\n",
    "b = np.zeros((5, 5))\n",
    "\n",
    "for i in range(5):\n",
    "    a[i, i] = 1\n",
    "    b[i, 4-i] = 1\n",
    "    \n",
    "# ax.imshow(a, alpha=0.5, cmap=plt.cm.gray_r)\n",
    "cax = ax.imshow(b, alpha=0.5, cmap=rvb, vmin=0)\n",
    "fig.colorbar(cax, ax=ax)"
   ]
  },
  {
   "cell_type": "code",
   "execution_count": null,
   "metadata": {
    "collapsed": true
   },
   "outputs": [],
   "source": []
  },
  {
   "cell_type": "code",
   "execution_count": null,
   "metadata": {
    "collapsed": false
   },
   "outputs": [],
   "source": [
    "import numpy as np\n",
    "import matplotlib.colors as mcolors\n",
    "\n",
    "\n",
    "def make_colormap(seq):\n",
    "    \"\"\"Return a LinearSegmentedColormap\n",
    "    seq: a sequence of floats and RGB-tuples. The floats should be increasing\n",
    "    and in the interval (0,1).\n",
    "    \"\"\"\n",
    "    seq = [(None,) * 3, 0.0] + list(seq) + [1.0, (None,) * 3]\n",
    "    cdict = {'red': [], 'green': [], 'blue': []}\n",
    "    for i, item in enumerate(seq):\n",
    "        if isinstance(item, float):\n",
    "            r1, g1, b1 = seq[i - 1]\n",
    "            r2, g2, b2 = seq[i + 1]\n",
    "            cdict['red'].append([item, r1, r2])\n",
    "            cdict['green'].append([item, g1, g2])\n",
    "            cdict['blue'].append([item, b1, b2])\n",
    "    return mcolors.LinearSegmentedColormap('CustomMap', cdict)\n",
    "\n",
    "\n",
    "c = mcolors.ColorConverter().to_rgb\n",
    "rvb = make_colormap(\n",
    "    [c('red'), c('violet'), 0.5, c('violet'), c('blue'), 0.75, c('blue')])\n",
    "\n",
    "rvb = make_colormap(\n",
    "    [c('white'), 0.5, c('white'), c('red')])\n",
    "\n",
    "\n",
    "N = 1000\n",
    "array_dg = np.random.uniform(0, 10, size=(N, 2))\n",
    "colors = np.random.uniform(-2, 2, size=(N,))\n",
    "plt.scatter(array_dg[:, 0], array_dg[:, 1], c=colors, cmap=rvb)\n",
    "plt.colorbar()\n",
    "plt.show()"
   ]
  },
  {
   "cell_type": "code",
   "execution_count": null,
   "metadata": {
    "collapsed": true
   },
   "outputs": [],
   "source": []
  }
 ],
 "metadata": {
  "kernelspec": {
   "display_name": "Python 2",
   "language": "python",
   "name": "python2"
  },
  "language_info": {
   "codemirror_mode": {
    "name": "ipython",
    "version": 2
   },
   "file_extension": ".py",
   "mimetype": "text/x-python",
   "name": "python",
   "nbconvert_exporter": "python",
   "pygments_lexer": "ipython2",
   "version": "2.7.12"
  }
 },
 "nbformat": 4,
 "nbformat_minor": 0
}
