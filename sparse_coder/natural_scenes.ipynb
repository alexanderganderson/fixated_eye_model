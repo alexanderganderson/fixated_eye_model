{
 "cells": [
  {
   "cell_type": "code",
   "execution_count": null,
   "metadata": {
    "collapsed": false
   },
   "outputs": [],
   "source": [
    "import os\n",
    "import numpy as np\n",
    "from scipy.io import loadmat\n",
    "from sparse_coder import SparseCoder, get_effective_dimensionality\n",
    "import cPickle as pkl\n",
    "import matplotlib.pyplot as plt\n",
    "%matplotlib inline\n",
    "import sys\n",
    "from prep_field_dataset import get_data_matrix\n",
    "sys.path.append('..')\n",
    "from utils.rf_plot import show_fields"
   ]
  },
  {
   "cell_type": "code",
   "execution_count": null,
   "metadata": {
    "collapsed": false
   },
   "outputs": [],
   "source": [
    "data = get_data_matrix(l_patch=20)\n",
    "d_eff = get_effective_dimensionality(data)"
   ]
  },
  {
   "cell_type": "code",
   "execution_count": null,
   "metadata": {
    "collapsed": false
   },
   "outputs": [],
   "source": [
    "output_dir = 'output/'\n",
    "fn_ = os.listdir(output_dir)\n",
    "fn_ = [os.path.join(output_dir, fn) for fn in fn_ if fn.endswith('pkl')]\n",
    "fn_.sort()"
   ]
  },
  {
   "cell_type": "code",
   "execution_count": null,
   "metadata": {
    "collapsed": false
   },
   "outputs": [],
   "source": [
    "fn_"
   ]
  },
  {
   "cell_type": "code",
   "execution_count": null,
   "metadata": {
    "collapsed": false
   },
   "outputs": [],
   "source": [
    "summary_ = []\n",
    "for fn in fn_:\n",
    "    with open(fn, 'rb') as f:\n",
    "        res = pkl.load(f)\n",
    "    summ = (fn, res['D'])\n",
    "    summary_.append(summ)"
   ]
  },
  {
   "cell_type": "code",
   "execution_count": null,
   "metadata": {
    "collapsed": false
   },
   "outputs": [],
   "source": [
    "for fn, D in summary_:\n",
    "    print fn, D.shape"
   ]
  },
  {
   "cell_type": "code",
   "execution_count": null,
   "metadata": {
    "collapsed": false
   },
   "outputs": [],
   "source": [
    "fn, D = summary_[1]\n",
    "plt.figure(figsize=(18, 16))\n",
    "plt.title(fn)\n",
    "show_fields(D)"
   ]
  },
  {
   "cell_type": "code",
   "execution_count": null,
   "metadata": {
    "collapsed": true
   },
   "outputs": [],
   "source": [
    "sc = SparseCoder.restore(data, fn_[2])"
   ]
  },
  {
   "cell_type": "code",
   "execution_count": null,
   "metadata": {
    "collapsed": false
   },
   "outputs": [],
   "source": [
    "i_idx = sc.train(n_itr=1, eta=0.0, cost_list=[], n_g_itr=300)"
   ]
  },
  {
   "cell_type": "code",
   "execution_count": null,
   "metadata": {
    "collapsed": true
   },
   "outputs": [],
   "source": [
    "self = sc\n",
    "A = self.tc.get_coefficients()\n",
    "D = self.tc.get_dictionary()\n",
    "Ih = np.dot(A, D)\n",
    "I = self.tc.t_DATA.get_value()[i_idx]"
   ]
  },
  {
   "cell_type": "code",
   "execution_count": null,
   "metadata": {
    "collapsed": false
   },
   "outputs": [],
   "source": [
    "signal = np.sqrt((I ** 2).sum(axis=1))\n",
    "error = np.sqrt(((I - Ih) ** 2).sum(axis=1))\n",
    "plt.scatter(signal, (signal/error) ** 2)\n",
    "plt.xlabel('Signal')\n",
    "plt.ylabel('SNR') \n",
    "# plt.xlim([0, 15])\n",
    "# plt.ylim([0, 3.5])"
   ]
  },
  {
   "cell_type": "code",
   "execution_count": null,
   "metadata": {
    "collapsed": false
   },
   "outputs": [],
   "source": [
    "plt.hist((I ** 2).sum(axis=1) / ((I - Ih) ** 2).sum(axis=1), bins=50);"
   ]
  },
  {
   "cell_type": "code",
   "execution_count": null,
   "metadata": {
    "collapsed": false
   },
   "outputs": [],
   "source": [
    "sc.plot_example(4, i_idx, 20)"
   ]
  },
  {
   "cell_type": "code",
   "execution_count": null,
   "metadata": {
    "collapsed": false
   },
   "outputs": [],
   "source": [
    "plt.figure(figsize=(12, 5))\n",
    "plt.subplot(1, 2, 1)\n",
    "plt.plot(np.log(evals[::-1])[0:-8])\n",
    "\n",
    "plt.subplot(1, 2, 2)\n",
    "plt.title('Percent variance explained as a number of eigenvectors')\n",
    "\n",
    "plt.plot(cs / cs[-1])\n",
    "plt.plot(np.arange(len(cs)), np.zeros(len(cs)) + 0.95)"
   ]
  },
  {
   "cell_type": "code",
   "execution_count": null,
   "metadata": {
    "collapsed": false
   },
   "outputs": [],
   "source": [
    "patch = data[4].reshape(l_patch, l_patch)\n",
    "plt.figure(figsize=(12, 5))\n",
    "plt.subplot(1, 2, 1)\n",
    "plt.imshow(patch, cmap=plt.cm.gray)\n",
    "plt.subplot(1, 2, 2)\n",
    "plt.imshow(np.abs(np.fft.fftshift(np.fft.fft2(patch))), cmap=plt.cm.gray, interpolation='nearest')\n",
    "plt.colorbar()"
   ]
  }
 ],
 "metadata": {
  "kernelspec": {
   "display_name": "Python 2",
   "language": "python",
   "name": "python2"
  },
  "language_info": {
   "codemirror_mode": {
    "name": "ipython",
    "version": 2
   },
   "file_extension": ".py",
   "mimetype": "text/x-python",
   "name": "python",
   "nbconvert_exporter": "python",
   "pygments_lexer": "ipython2",
   "version": "2.7.12"
  }
 },
 "nbformat": 4,
 "nbformat_minor": 0
}
