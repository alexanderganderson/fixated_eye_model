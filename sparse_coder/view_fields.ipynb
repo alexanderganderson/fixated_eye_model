{
 "cells": [
  {
   "cell_type": "code",
   "execution_count": null,
   "metadata": {
    "collapsed": false
   },
   "outputs": [],
   "source": [
    "import glob\n",
    "import pickle as pkl\n",
    "import h5py\n",
    "\n",
    "import numpy as np\n",
    "%matplotlib inline\n",
    "import matplotlib.pyplot as plt\n",
    "\n",
    "from sparse_coder import SparseCoder\n",
    "# from sparse_coder.prep_field_dataset import get_data_matrix\n",
    "\n",
    "from context import utils\n",
    "from utils.rf_plot import show_fields\n",
    "plt.rcParams['image.cmap'] = 'gray'"
   ]
  },
  {
   "cell_type": "code",
   "execution_count": null,
   "metadata": {
    "collapsed": false
   },
   "outputs": [],
   "source": [
    "files = glob.glob('output/vh_sparse_coder1_alpha_*_overcomp_*.pkl')\n",
    "files = sorted(files)\n",
    "\n",
    "files"
   ]
  },
  {
   "cell_type": "code",
   "execution_count": null,
   "metadata": {
    "collapsed": false
   },
   "outputs": [],
   "source": [
    "path = files[-1]\n",
    "path"
   ]
  },
  {
   "cell_type": "code",
   "execution_count": null,
   "metadata": {
    "collapsed": false
   },
   "outputs": [],
   "source": [
    "with open(path, 'r') as f:\n",
    "    out = pkl.load(f)\n",
    "    D = out['D']\n",
    "    print out['alpha']"
   ]
  },
  {
   "cell_type": "code",
   "execution_count": null,
   "metadata": {
    "collapsed": false
   },
   "outputs": [],
   "source": [
    "idx = np.random.randint(D.shape[0], size=512)\n",
    "\n",
    "fig, ax = plt.subplots(1, 1, figsize=(22, 16))\n",
    "show_fields(D, fig=fig, ax=ax, normed=True)\n",
    "ax.set_title('Dictionary with alpha={:.2f} n_sp = {}'.format(out['alpha'], out['n_sp']))\n",
    "# plt.savefig('output/dict.pdf', dpi=300)"
   ]
  },
  {
   "cell_type": "code",
   "execution_count": null,
   "metadata": {
    "collapsed": false
   },
   "outputs": [],
   "source": [
    "with h5py.File('data/final/new_extracted_patches1.h5') as f:\n",
    "    data = f['white_patches'][0:1000]\n",
    "    l_patch = f['l_patch'].value\n",
    "#     data = data.reshape(1000, -1)"
   ]
  },
  {
   "cell_type": "code",
   "execution_count": null,
   "metadata": {
    "collapsed": false
   },
   "outputs": [],
   "source": [
    "sc = SparseCoder.restore(data.reshape((-1, l_patch ** 2)), path, n_bat=1000)"
   ]
  },
  {
   "cell_type": "code",
   "execution_count": null,
   "metadata": {
    "collapsed": false
   },
   "outputs": [],
   "source": [
    "cost_list = []\n",
    "i_idx = sc.train(n_itr=1, eta=0, cost_list=cost_list, n_g_itr=200)"
   ]
  },
  {
   "cell_type": "code",
   "execution_count": null,
   "metadata": {
    "collapsed": false
   },
   "outputs": [],
   "source": [
    "sc.plot_example(1, i_idx, 32)"
   ]
  },
  {
   "cell_type": "code",
   "execution_count": null,
   "metadata": {
    "collapsed": true
   },
   "outputs": [],
   "source": []
  },
  {
   "cell_type": "code",
   "execution_count": null,
   "metadata": {
    "collapsed": false
   },
   "outputs": [],
   "source": [
    "D = sc.tc.get_dictionary()\n",
    "A = sc.tc.get_coefficients()\n",
    "Ih = np.dot(A, D)\n",
    "I = sc.tc.t_DATA.get_value()[i_idx]"
   ]
  },
  {
   "cell_type": "code",
   "execution_count": null,
   "metadata": {
    "collapsed": false
   },
   "outputs": [],
   "source": [
    "snrs = (I ** 2).sum(axis=1) / ((I - Ih) ** 2).sum(axis=1)"
   ]
  },
  {
   "cell_type": "code",
   "execution_count": null,
   "metadata": {
    "collapsed": false
   },
   "outputs": [],
   "source": [
    "plt.hist(snrs, bins=50)\n",
    "plt.yscale('log')"
   ]
  },
  {
   "cell_type": "code",
   "execution_count": null,
   "metadata": {
    "collapsed": false
   },
   "outputs": [],
   "source": [
    "orig_idx = i_idx[np.where(snrs > 10)]"
   ]
  },
  {
   "cell_type": "code",
   "execution_count": null,
   "metadata": {
    "collapsed": false
   },
   "outputs": [],
   "source": [
    "with h5py.File('sparse_coder/data/final/new_extracted_patches.h5') as f:\n",
    "    data1 = np.zeros((len(orig_idx), 32, 32))\n",
    "    for i in range(len(orig_idx)):\n",
    "        data1[i] = f['white_patches'][orig_idx[i]]"
   ]
  },
  {
   "cell_type": "code",
   "execution_count": null,
   "metadata": {
    "collapsed": false
   },
   "outputs": [],
   "source": [
    "fig, ax = plt.subplots(1, 1, figsize=(12, 10))\n",
    "show_fields(data1.reshape(-1, 32 * 32), fig=fig, ax=ax)"
   ]
  },
  {
   "cell_type": "code",
   "execution_count": null,
   "metadata": {
    "collapsed": false
   },
   "outputs": [],
   "source": [
    "img_idx = np.array([434, 569, 752, 114,  78,   2, 263, 720, 986,  86, 115, 307,\n",
    "       385, 767, 959, 692, 399,  92, 886, 488, 100, 606, 209, 148, 646,\n",
    "       600, 662, 533, 618, 860, 427, 115, 798, 826,  48, 724, 116, 569,\n",
    "       307, 302, 232, 469, 688, 624, 134, 852, 665,  74, 876, 790,  60,\n",
    "       246, 405, 549, 123, 938, 227, 829, 888, 438, 353, 992, 158, 685,\n",
    "       843,  58, 288, 914, 289, 687, 246, 392, 443, 748,  66, 652, 328,\n",
    "        47,  77, 375, 617, 468, 339, 429, 778, 141, 326, 240, 780, 400,\n",
    "       951, 212,   4, 185, 671, 127, 305, 324], dtype='int32')"
   ]
  },
  {
   "cell_type": "code",
   "execution_count": null,
   "metadata": {
    "collapsed": false
   },
   "outputs": [],
   "source": [
    "plt.imshow(data[img_idx[7]].reshape(32, 32))"
   ]
  },
  {
   "cell_type": "code",
   "execution_count": null,
   "metadata": {
    "collapsed": true
   },
   "outputs": [],
   "source": [
    "def normalize(x, smin, smax):\n",
    "    xmin, xmax = [getattr(x, func)(axis=(1, 2), keepdims=True) for func in ['min', 'max']]\n",
    "    u = (x - xmin) / (xmax-xmin)\n",
    "    return u * (smax - smin) + smin"
   ]
  },
  {
   "cell_type": "code",
   "execution_count": null,
   "metadata": {
    "collapsed": false
   },
   "outputs": [],
   "source": [
    "data[img_idx].shape"
   ]
  },
  {
   "cell_type": "code",
   "execution_count": null,
   "metadata": {
    "collapsed": false
   },
   "outputs": [],
   "source": [
    "normalize(\n",
    "        data[img_idx], \n",
    "        -0.5, 0.5)"
   ]
  },
  {
   "cell_type": "code",
   "execution_count": null,
   "metadata": {
    "collapsed": false
   },
   "outputs": [],
   "source": [
    "fig, ax = plt.subplots(1, 1, figsize=(16, 14))\n",
    "show_fields(\n",
    "    normalize(data[img_idx], -0.5, 0.5).reshape(-1, l_patch ** 2), fig=fig, ax=ax)\n"
   ]
  },
  {
   "cell_type": "code",
   "execution_count": null,
   "metadata": {
    "collapsed": true
   },
   "outputs": [],
   "source": []
  },
  {
   "cell_type": "code",
   "execution_count": null,
   "metadata": {
    "collapsed": false
   },
   "outputs": [],
   "source": [
    "pcts = np.percentile(abs(data.ravel()), 99)"
   ]
  },
  {
   "cell_type": "code",
   "execution_count": null,
   "metadata": {
    "collapsed": false
   },
   "outputs": [],
   "source": [
    "idx_ = np.where(abs(data) > 1)"
   ]
  },
  {
   "cell_type": "code",
   "execution_count": null,
   "metadata": {
    "collapsed": false
   },
   "outputs": [],
   "source": [
    "fig, axes = plt.subplots(nrows=1, ncols=2, figsize=(10, 4))\n",
    "q = 400\n",
    "cax = axes[0].imshow(data[q].reshape(20, 20), cmap=plt.cm.gray, interpolation='nearest')\n",
    "fig.colorbar(cax, ax=axes[0])\n",
    "cax = axes[1].imshow(np.clip(data[q], -1, 1).reshape(20, 20), \n",
    "                     cmap=plt.cm.gray, interpolation='nearest', vmin=-1, vmax=1)\n",
    "fig.colorbar(cax, ax=axes[1])\n"
   ]
  },
  {
   "cell_type": "code",
   "execution_count": null,
   "metadata": {
    "collapsed": false
   },
   "outputs": [],
   "source": [
    "_ = plt.hist(abs(data.ravel()), bins=50)\n",
    "plt.yscale('log')"
   ]
  },
  {
   "cell_type": "code",
   "execution_count": null,
   "metadata": {
    "collapsed": false
   },
   "outputs": [],
   "source": [
    "def normalize(x, smin, smax):\n",
    "    xmin, xmax = [getattr(x, func)(axis=(1, 2), keepdims=True) for func in ['min', 'max']]\n",
    "    u = (x - xmin) / (xmax-xmin)\n",
    "    return u * (smax - smin) + smin"
   ]
  },
  {
   "cell_type": "code",
   "execution_count": null,
   "metadata": {
    "collapsed": false
   },
   "outputs": [],
   "source": [
    "data_normed = normalize(data, -0.5, 0.5)"
   ]
  },
  {
   "cell_type": "code",
   "execution_count": null,
   "metadata": {
    "collapsed": false
   },
   "outputs": [],
   "source": [
    "_ = plt.hist(data_normed.ravel(), bins=50)"
   ]
  },
  {
   "cell_type": "code",
   "execution_count": null,
   "metadata": {
    "collapsed": false
   },
   "outputs": [],
   "source": [
    "np.random.randint(0, 100, size=10)"
   ]
  },
  {
   "cell_type": "code",
   "execution_count": null,
   "metadata": {
    "collapsed": false
   },
   "outputs": [],
   "source": [
    "plt.hist(data_normed.std(axis=1))"
   ]
  },
  {
   "cell_type": "code",
   "execution_count": null,
   "metadata": {
    "collapsed": false
   },
   "outputs": [],
   "source": [
    "fig, axes = plt.subplots(nrows=1, ncols=2, figsize=(10, 4))\n",
    "q = 10\n",
    "cax = axes[0].imshow(data[q].reshape(20, 20), cmap=plt.cm.gray, interpolation='nearest')\n",
    "fig.colorbar(cax, ax=axes[0])\n",
    "cax = axes[1].imshow(np.clip(data_normed[q], -1, 1).reshape(20, 20), \n",
    "                     cmap=plt.cm.gray, interpolation='nearest', vmin=-0.5, vmax=0.5)\n",
    "fig.colorbar(cax, ax=axes[1])\n"
   ]
  },
  {
   "cell_type": "code",
   "execution_count": null,
   "metadata": {
    "collapsed": false
   },
   "outputs": [],
   "source": [
    "plt.hist(data.mean(axis=1), bins=50)"
   ]
  },
  {
   "cell_type": "code",
   "execution_count": null,
   "metadata": {
    "collapsed": true
   },
   "outputs": [],
   "source": []
  }
 ],
 "metadata": {
  "kernelspec": {
   "display_name": "Python 2",
   "language": "python",
   "name": "python2"
  },
  "language_info": {
   "codemirror_mode": {
    "name": "ipython",
    "version": 2
   },
   "file_extension": ".py",
   "mimetype": "text/x-python",
   "name": "python",
   "nbconvert_exporter": "python",
   "pygments_lexer": "ipython2",
   "version": "2.7.12"
  }
 },
 "nbformat": 4,
 "nbformat_minor": 0
}
